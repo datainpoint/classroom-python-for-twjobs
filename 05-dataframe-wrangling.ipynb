{
 "cells": [
  {
   "cell_type": "markdown",
   "metadata": {
    "slideshow": {
     "slide_type": "slide"
    }
   },
   "source": [
    "# 以 Pandas 處理表格式資料\n",
    "\n",
    "[數據交點](https://www.datainpoint.com/) | 郭耀仁 <yaojenkuo@datainpoint.com>"
   ]
  },
  {
   "cell_type": "code",
   "execution_count": 1,
   "metadata": {
    "slideshow": {
     "slide_type": "subslide"
    }
   },
   "outputs": [],
   "source": [
    "import datetime\n",
    "import urllib\n",
    "import requests\n",
    "import numpy as np"
   ]
  },
  {
   "cell_type": "markdown",
   "metadata": {
    "slideshow": {
     "slide_type": "slide"
    }
   },
   "source": [
    "## 關於 Pandas"
   ]
  },
  {
   "cell_type": "markdown",
   "metadata": {
    "slideshow": {
     "slide_type": "subslide"
    }
   },
   "source": [
    "## 什麼是 Pandas？\n",
    "\n",
    "> Pandas 是 Python 處理表格式資料的第三方模組（套件），它創造了稱為索引（Index）、序列（Series）與資料框（DataFrame）的資料結構，透過這些資料結構，可以讓 Python 在面對文字檔案、Excel 試算表與關聯式資料庫時能夠使用更直覺的觀念操作，其中資料框啟發自 R 語言。\n",
    "\n",
    "來源：<https://github.com/pandas-dev/pandas>"
   ]
  },
  {
   "cell_type": "markdown",
   "metadata": {
    "slideshow": {
     "slide_type": "subslide"
    }
   },
   "source": [
    "## 為什麼資料分析採用 Pandas？\n",
    "\n",
    "在 Pandas 誕生之前（2008 年）Python 並沒有一個合適的資料結構來處理資料分析常見的「表格式資料（Tabular datasets）」，Python 使用者必須在工作流程中切換到像是 R 語言或者 Matlab。"
   ]
  },
  {
   "cell_type": "markdown",
   "metadata": {
    "slideshow": {
     "slide_type": "subslide"
    }
   },
   "source": [
    "## 以 `import` 指令載入 Pandas\n",
    "\n",
    "`pandas` 的官方縮寫為 `pd`。"
   ]
  },
  {
   "cell_type": "code",
   "execution_count": 2,
   "metadata": {},
   "outputs": [],
   "source": [
    "import pandas as pd"
   ]
  },
  {
   "cell_type": "markdown",
   "metadata": {
    "slideshow": {
     "slide_type": "subslide"
    }
   },
   "source": [
    "## 如果環境中沒有安裝 Pandas，載入時會遭遇 `ModuleNotFoundError`\n",
    "\n",
    "```\n",
    "Traceback (most recent call last):\n",
    "  File \"<stdin>\", line 1, in <module>\n",
    "ModuleNotFoundError: No module named 'pandas'\n",
    "```"
   ]
  },
  {
   "cell_type": "markdown",
   "metadata": {
    "slideshow": {
     "slide_type": "subslide"
    }
   },
   "source": [
    "## 如果遭遇 `ModuleNotFoundError` 可以在終端機使用 `pip install` 指令安裝\n",
    "\n",
    "```bash\n",
    "pip install pandas\n",
    "```"
   ]
  },
  {
   "cell_type": "markdown",
   "metadata": {
    "slideshow": {
     "slide_type": "subslide"
    }
   },
   "source": [
    "## 可以透過兩個屬性檢查版本號與安裝路徑\n",
    "\n",
    "- `__version__` 屬性檢查版本號。\n",
    "- `__file__` 屬性檢查安裝路徑。"
   ]
  },
  {
   "cell_type": "code",
   "execution_count": 3,
   "metadata": {},
   "outputs": [
    {
     "name": "stdout",
     "output_type": "stream",
     "text": [
      "1.2.4\n",
      "/Users/kuoyaojen/opt/miniconda3/envs/pyds/lib/python3.8/site-packages/pandas/__init__.py\n"
     ]
    }
   ],
   "source": [
    "print(pd.__version__)\n",
    "print(pd.__file__)"
   ]
  },
  {
   "cell_type": "markdown",
   "metadata": {
    "slideshow": {
     "slide_type": "subslide"
    }
   },
   "source": [
    "## （沒什麼用的冷知識）Pandas 跟熊貓的關係是？\n",
    "\n",
    "![](https://media.giphy.com/media/46Zj6ze2Z2t4k/giphy.gif)\n",
    "\n",
    "來源：<https://giphy.com>"
   ]
  },
  {
   "cell_type": "markdown",
   "metadata": {
    "slideshow": {
     "slide_type": "subslide"
    }
   },
   "source": [
    "## 與熊貓完全沒有關係，Pandas 是由三個起初創造的資料結構類別名稱組合而成\n",
    "\n",
    "- **Pan**el（自從版本 0.20.0 之後停用）\n",
    "- **Da**taFrame\n",
    "- **S**eries"
   ]
  },
  {
   "cell_type": "markdown",
   "metadata": {
    "slideshow": {
     "slide_type": "slide"
    }
   },
   "source": [
    "## Pandas 起步走"
   ]
  },
  {
   "cell_type": "markdown",
   "metadata": {
    "slideshow": {
     "slide_type": "subslide"
    }
   },
   "source": [
    "## 想要精通 Pandas，必須掌握 `Index`、`ndarray`、`Series` 與 `DataFrame` 四個類別之間的關係\n",
    "\n",
    "- `Series` 由 `Index` 與 `ndarray` 組合而成。\n",
    "- `DataFrame` 由數個共享同一個 `Index` 的 `Series` 組合而成。"
   ]
  },
  {
   "cell_type": "markdown",
   "metadata": {
    "slideshow": {
     "slide_type": "subslide"
    }
   },
   "source": [
    "## Pandas 的 `Index` 類別\n",
    "\n",
    "使用 `Index` 函數創造 `Index` 類別的實例。"
   ]
  },
  {
   "cell_type": "code",
   "execution_count": 4,
   "metadata": {},
   "outputs": [
    {
     "name": "stdout",
     "output_type": "stream",
     "text": [
      "<class 'pandas.core.indexes.numeric.Int64Index'>\n"
     ]
    }
   ],
   "source": [
    "prime_indices = pd.Index([2, 3, 5, 7, 11, 13, 17, 19, 23, 29])\n",
    "print(type(prime_indices))"
   ]
  },
  {
   "cell_type": "markdown",
   "metadata": {
    "slideshow": {
     "slide_type": "subslide"
    }
   },
   "source": [
    "## `Index` 類別像是 Python 內建 `tuple` 與 `set` 兩種類別的結合\n",
    "\n",
    "- 具有 `tuple` 無法更動的特性。\n",
    "- 具有 `set` 集合運算的特性。 "
   ]
  },
  {
   "cell_type": "code",
   "execution_count": 5,
   "metadata": {
    "slideshow": {
     "slide_type": "subslide"
    }
   },
   "outputs": [
    {
     "name": "stdout",
     "output_type": "stream",
     "text": [
      "Immutable!\n"
     ]
    }
   ],
   "source": [
    "# Index has the characteristics of a tuple\n",
    "prime_indices = pd.Index([2, 3, 5, 7, 11, 13, 17, 19, 23, 29])\n",
    "try:\n",
    "    prime_indices[-1] = 31\n",
    "except:\n",
    "    print(\"Immutable!\")"
   ]
  },
  {
   "cell_type": "code",
   "execution_count": 6,
   "metadata": {
    "slideshow": {
     "slide_type": "subslide"
    }
   },
   "outputs": [
    {
     "name": "stdout",
     "output_type": "stream",
     "text": [
      "Int64Index([3, 5, 7, 11, 13, 17, 19, 23, 29], dtype='int64')\n",
      "Int64Index([1, 2, 3, 5, 7, 9, 11, 13, 15, 17, 19, 21, 23, 25, 27, 29], dtype='int64')\n",
      "Int64Index([1, 2, 9, 15, 21, 25, 27], dtype='int64')\n",
      "Int64Index([2], dtype='int64')\n",
      "Int64Index([1, 9, 15, 21, 25, 27], dtype='int64')\n"
     ]
    }
   ],
   "source": [
    "# Index has the characteristics of a set\n",
    "odd_indices = pd.Index(range(1, 30, 2))\n",
    "print(prime_indices.intersection(odd_indices))         # prime_indices & odd_indices\n",
    "print(prime_indices.union(odd_indices))                # prime_indices | odd_indices\n",
    "print(prime_indices.symmetric_difference(odd_indices)) # prime_indices ^ odd_indices\n",
    "print(prime_indices.difference(odd_indices))\n",
    "print(odd_indices.difference(prime_indices))"
   ]
  },
  {
   "cell_type": "markdown",
   "metadata": {
    "slideshow": {
     "slide_type": "subslide"
    }
   },
   "source": [
    "## Pandas 的 `Series` 類別\n",
    "\n",
    "使用 `Series` 函數創造 `Series` 類別的實例。"
   ]
  },
  {
   "cell_type": "code",
   "execution_count": 7,
   "metadata": {},
   "outputs": [
    {
     "name": "stdout",
     "output_type": "stream",
     "text": [
      "<class 'pandas.core.series.Series'>\n"
     ]
    }
   ],
   "source": [
    "prime_series = pd.Series([2, 3, 5, 7, 11, 13, 17, 19, 23, 29])\n",
    "print(type(prime_series))"
   ]
  },
  {
   "cell_type": "markdown",
   "metadata": {
    "slideshow": {
     "slide_type": "subslide"
    }
   },
   "source": [
    "## `Series` 由 `Index` 與 `ndarray` 組合而成"
   ]
  },
  {
   "cell_type": "code",
   "execution_count": 8,
   "metadata": {},
   "outputs": [
    {
     "name": "stdout",
     "output_type": "stream",
     "text": [
      "<class 'pandas.core.indexes.range.RangeIndex'>\n",
      "<class 'numpy.ndarray'>\n"
     ]
    }
   ],
   "source": [
    "print(type(prime_series.index))\n",
    "print(type(prime_series.values))"
   ]
  },
  {
   "cell_type": "markdown",
   "metadata": {
    "slideshow": {
     "slide_type": "subslide"
    }
   },
   "source": [
    "## Pandas 的 `DataFrame` 類別\n",
    "\n",
    "使用 `DataFrame` 函數創造 `DataFrame` 類別的實例。"
   ]
  },
  {
   "cell_type": "code",
   "execution_count": 9,
   "metadata": {},
   "outputs": [
    {
     "name": "stdout",
     "output_type": "stream",
     "text": [
      "<class 'pandas.core.frame.DataFrame'>\n"
     ]
    }
   ],
   "source": [
    "movie_df = pd.DataFrame()\n",
    "movie_df[\"title\"] = [\"The Shawshank Redemption\", \"The Dark Knight\", \"Schindler's List\", \"Forrest Gump\", \"Inception\"]\n",
    "movie_df[\"imdb_rating\"] = [9.3, 9.0, 8.9, 8.8, 8.7]\n",
    "print(type(movie_df))"
   ]
  },
  {
   "cell_type": "markdown",
   "metadata": {
    "slideshow": {
     "slide_type": "subslide"
    }
   },
   "source": [
    "## `DataFrame` 由數個 `Series` 共享同一個 `Index` 組成"
   ]
  },
  {
   "cell_type": "code",
   "execution_count": 10,
   "metadata": {},
   "outputs": [
    {
     "name": "stdout",
     "output_type": "stream",
     "text": [
      "<class 'pandas.core.indexes.range.RangeIndex'>\n",
      "<class 'pandas.core.series.Series'>\n",
      "<class 'pandas.core.series.Series'>\n"
     ]
    }
   ],
   "source": [
    "print(type(movie_df.index))\n",
    "print(type(movie_df[\"title\"]))\n",
    "print(type(movie_df[\"imdb_rating\"]))"
   ]
  },
  {
   "cell_type": "markdown",
   "metadata": {
    "slideshow": {
     "slide_type": "subslide"
    }
   },
   "source": [
    "## Pandas 提供函數、類別屬性與方法處理表格式資料的\n",
    "\n",
    "- 載入（Import）\n",
    "- 清理（Tidy）\n",
    "- 轉型（Transform）"
   ]
  },
  {
   "cell_type": "markdown",
   "metadata": {
    "slideshow": {
     "slide_type": "slide"
    }
   },
   "source": [
    "## `DataFrame` 的基礎屬性和方法"
   ]
  },
  {
   "cell_type": "code",
   "execution_count": 11,
   "metadata": {
    "slideshow": {
     "slide_type": "subslide"
    }
   },
   "outputs": [],
   "source": [
    "def get_latest_daily_report():\n",
    "    \"\"\"\n",
    "    This function returns the latest global daily report from https://github.com/CSSEGISandData\n",
    "    /COVID-19 and its file date.\n",
    "    \"\"\"\n",
    "    latest_date = datetime.date.today()\n",
    "    day_delta = datetime.timedelta(days=1)\n",
    "    fmt = '%m-%d-%Y'\n",
    "    while True:\n",
    "        try:\n",
    "            latest_date_fmt = latest_date.strftime(fmt)\n",
    "            csv_url = \"https://raw.githubusercontent.com/CSSEGISandData/COVID-19/\\\n",
    "master/csse_covid_19_data/csse_covid_19_daily_reports/{}.csv\".format(latest_date_fmt)\n",
    "            daily_report = pd.read_csv(csv_url)\n",
    "            print(\"載入了 {} 的每日報告。\".format(latest_date_fmt))\n",
    "            break\n",
    "        except urllib.error.HTTPError:\n",
    "            print(\"尚未有 {} 的每日報告。\".format(latest_date_fmt))\n",
    "            latest_date -= day_delta\n",
    "    return daily_report"
   ]
  },
  {
   "cell_type": "code",
   "execution_count": 12,
   "metadata": {
    "slideshow": {
     "slide_type": "subslide"
    }
   },
   "outputs": [
    {
     "name": "stdout",
     "output_type": "stream",
     "text": [
      "尚未有 10-16-2021 的每日報告。\n",
      "載入了 10-15-2021 的每日報告。\n"
     ]
    }
   ],
   "source": [
    "daily_report = get_latest_daily_report()"
   ]
  },
  {
   "cell_type": "markdown",
   "metadata": {
    "slideshow": {
     "slide_type": "subslide"
    }
   },
   "source": [
    "## `DataFrame` 的基礎屬性\n",
    "\n",
    "- `shape`\n",
    "- `dtypes`\n",
    "- `index`\n",
    "- `columns`"
   ]
  },
  {
   "cell_type": "code",
   "execution_count": 13,
   "metadata": {
    "slideshow": {
     "slide_type": "subslide"
    }
   },
   "outputs": [
    {
     "name": "stdout",
     "output_type": "stream",
     "text": [
      "(4005, 14)\n",
      "FIPS                   float64\n",
      "Admin2                  object\n",
      "Province_State          object\n",
      "Country_Region          object\n",
      "Last_Update             object\n",
      "Lat                    float64\n",
      "Long_                  float64\n",
      "Confirmed                int64\n",
      "Deaths                   int64\n",
      "Recovered              float64\n",
      "Active                 float64\n",
      "Combined_Key            object\n",
      "Incident_Rate          float64\n",
      "Case_Fatality_Ratio    float64\n",
      "dtype: object\n",
      "RangeIndex(start=0, stop=4005, step=1)\n",
      "Index(['FIPS', 'Admin2', 'Province_State', 'Country_Region', 'Last_Update',\n",
      "       'Lat', 'Long_', 'Confirmed', 'Deaths', 'Recovered', 'Active',\n",
      "       'Combined_Key', 'Incident_Rate', 'Case_Fatality_Ratio'],\n",
      "      dtype='object')\n"
     ]
    }
   ],
   "source": [
    "print(daily_report.shape)\n",
    "print(daily_report.dtypes)\n",
    "print(daily_report.index)\n",
    "print(daily_report.columns)"
   ]
  },
  {
   "cell_type": "markdown",
   "metadata": {
    "slideshow": {
     "slide_type": "subslide"
    }
   },
   "source": [
    "## `DataFrame` 的基礎方法\n",
    "\n",
    "- `head(n)`\n",
    "- `tail(n)`\n",
    "- `describe`\n",
    "- `info`\n",
    "- `set_index`\n",
    "- `reset_index`"
   ]
  },
  {
   "cell_type": "markdown",
   "metadata": {
    "slideshow": {
     "slide_type": "subslide"
    }
   },
   "source": [
    "## `head(n)` 方法回傳欄位名稱與前 n 列觀測值"
   ]
  },
  {
   "cell_type": "code",
   "execution_count": 14,
   "metadata": {
    "slideshow": {
     "slide_type": "-"
    }
   },
   "outputs": [
    {
     "data": {
      "text/html": [
       "<div>\n",
       "<style scoped>\n",
       "    .dataframe tbody tr th:only-of-type {\n",
       "        vertical-align: middle;\n",
       "    }\n",
       "\n",
       "    .dataframe tbody tr th {\n",
       "        vertical-align: top;\n",
       "    }\n",
       "\n",
       "    .dataframe thead th {\n",
       "        text-align: right;\n",
       "    }\n",
       "</style>\n",
       "<table border=\"1\" class=\"dataframe\">\n",
       "  <thead>\n",
       "    <tr style=\"text-align: right;\">\n",
       "      <th></th>\n",
       "      <th>FIPS</th>\n",
       "      <th>Admin2</th>\n",
       "      <th>Province_State</th>\n",
       "      <th>Country_Region</th>\n",
       "      <th>Last_Update</th>\n",
       "      <th>Lat</th>\n",
       "      <th>Long_</th>\n",
       "      <th>Confirmed</th>\n",
       "      <th>Deaths</th>\n",
       "      <th>Recovered</th>\n",
       "      <th>Active</th>\n",
       "      <th>Combined_Key</th>\n",
       "      <th>Incident_Rate</th>\n",
       "      <th>Case_Fatality_Ratio</th>\n",
       "    </tr>\n",
       "  </thead>\n",
       "  <tbody>\n",
       "    <tr>\n",
       "      <th>0</th>\n",
       "      <td>NaN</td>\n",
       "      <td>NaN</td>\n",
       "      <td>NaN</td>\n",
       "      <td>Afghanistan</td>\n",
       "      <td>2021-10-16 04:21:15</td>\n",
       "      <td>33.93911</td>\n",
       "      <td>67.709953</td>\n",
       "      <td>155688</td>\n",
       "      <td>7238</td>\n",
       "      <td>NaN</td>\n",
       "      <td>NaN</td>\n",
       "      <td>Afghanistan</td>\n",
       "      <td>399.934844</td>\n",
       "      <td>4.649042</td>\n",
       "    </tr>\n",
       "    <tr>\n",
       "      <th>1</th>\n",
       "      <td>NaN</td>\n",
       "      <td>NaN</td>\n",
       "      <td>NaN</td>\n",
       "      <td>Albania</td>\n",
       "      <td>2021-10-16 04:21:15</td>\n",
       "      <td>41.15330</td>\n",
       "      <td>20.168300</td>\n",
       "      <td>177108</td>\n",
       "      <td>2807</td>\n",
       "      <td>NaN</td>\n",
       "      <td>NaN</td>\n",
       "      <td>Albania</td>\n",
       "      <td>6154.284523</td>\n",
       "      <td>1.584909</td>\n",
       "    </tr>\n",
       "    <tr>\n",
       "      <th>2</th>\n",
       "      <td>NaN</td>\n",
       "      <td>NaN</td>\n",
       "      <td>NaN</td>\n",
       "      <td>Algeria</td>\n",
       "      <td>2021-10-16 04:21:15</td>\n",
       "      <td>28.03390</td>\n",
       "      <td>1.659600</td>\n",
       "      <td>205106</td>\n",
       "      <td>5867</td>\n",
       "      <td>NaN</td>\n",
       "      <td>NaN</td>\n",
       "      <td>Algeria</td>\n",
       "      <td>467.733458</td>\n",
       "      <td>2.860472</td>\n",
       "    </tr>\n",
       "    <tr>\n",
       "      <th>3</th>\n",
       "      <td>NaN</td>\n",
       "      <td>NaN</td>\n",
       "      <td>NaN</td>\n",
       "      <td>Andorra</td>\n",
       "      <td>2021-10-16 04:21:15</td>\n",
       "      <td>42.50630</td>\n",
       "      <td>1.521800</td>\n",
       "      <td>15338</td>\n",
       "      <td>130</td>\n",
       "      <td>NaN</td>\n",
       "      <td>NaN</td>\n",
       "      <td>Andorra</td>\n",
       "      <td>19851.161587</td>\n",
       "      <td>0.847568</td>\n",
       "    </tr>\n",
       "    <tr>\n",
       "      <th>4</th>\n",
       "      <td>NaN</td>\n",
       "      <td>NaN</td>\n",
       "      <td>NaN</td>\n",
       "      <td>Angola</td>\n",
       "      <td>2021-10-16 04:21:15</td>\n",
       "      <td>-11.20270</td>\n",
       "      <td>17.873900</td>\n",
       "      <td>62606</td>\n",
       "      <td>1660</td>\n",
       "      <td>NaN</td>\n",
       "      <td>NaN</td>\n",
       "      <td>Angola</td>\n",
       "      <td>190.487098</td>\n",
       "      <td>2.651503</td>\n",
       "    </tr>\n",
       "  </tbody>\n",
       "</table>\n",
       "</div>"
      ],
      "text/plain": [
       "   FIPS Admin2 Province_State Country_Region          Last_Update       Lat  \\\n",
       "0   NaN    NaN            NaN    Afghanistan  2021-10-16 04:21:15  33.93911   \n",
       "1   NaN    NaN            NaN        Albania  2021-10-16 04:21:15  41.15330   \n",
       "2   NaN    NaN            NaN        Algeria  2021-10-16 04:21:15  28.03390   \n",
       "3   NaN    NaN            NaN        Andorra  2021-10-16 04:21:15  42.50630   \n",
       "4   NaN    NaN            NaN         Angola  2021-10-16 04:21:15 -11.20270   \n",
       "\n",
       "       Long_  Confirmed  Deaths  Recovered  Active Combined_Key  \\\n",
       "0  67.709953     155688    7238        NaN     NaN  Afghanistan   \n",
       "1  20.168300     177108    2807        NaN     NaN      Albania   \n",
       "2   1.659600     205106    5867        NaN     NaN      Algeria   \n",
       "3   1.521800      15338     130        NaN     NaN      Andorra   \n",
       "4  17.873900      62606    1660        NaN     NaN       Angola   \n",
       "\n",
       "   Incident_Rate  Case_Fatality_Ratio  \n",
       "0     399.934844             4.649042  \n",
       "1    6154.284523             1.584909  \n",
       "2     467.733458             2.860472  \n",
       "3   19851.161587             0.847568  \n",
       "4     190.487098             2.651503  "
      ]
     },
     "execution_count": 14,
     "metadata": {},
     "output_type": "execute_result"
    }
   ],
   "source": [
    "daily_report.head() # n is default to 5"
   ]
  },
  {
   "cell_type": "markdown",
   "metadata": {
    "slideshow": {
     "slide_type": "subslide"
    }
   },
   "source": [
    "## `tail(n)` 方法回傳欄位名稱與後 n 列觀測值"
   ]
  },
  {
   "cell_type": "code",
   "execution_count": 15,
   "metadata": {},
   "outputs": [
    {
     "data": {
      "text/html": [
       "<div>\n",
       "<style scoped>\n",
       "    .dataframe tbody tr th:only-of-type {\n",
       "        vertical-align: middle;\n",
       "    }\n",
       "\n",
       "    .dataframe tbody tr th {\n",
       "        vertical-align: top;\n",
       "    }\n",
       "\n",
       "    .dataframe thead th {\n",
       "        text-align: right;\n",
       "    }\n",
       "</style>\n",
       "<table border=\"1\" class=\"dataframe\">\n",
       "  <thead>\n",
       "    <tr style=\"text-align: right;\">\n",
       "      <th></th>\n",
       "      <th>FIPS</th>\n",
       "      <th>Admin2</th>\n",
       "      <th>Province_State</th>\n",
       "      <th>Country_Region</th>\n",
       "      <th>Last_Update</th>\n",
       "      <th>Lat</th>\n",
       "      <th>Long_</th>\n",
       "      <th>Confirmed</th>\n",
       "      <th>Deaths</th>\n",
       "      <th>Recovered</th>\n",
       "      <th>Active</th>\n",
       "      <th>Combined_Key</th>\n",
       "      <th>Incident_Rate</th>\n",
       "      <th>Case_Fatality_Ratio</th>\n",
       "    </tr>\n",
       "  </thead>\n",
       "  <tbody>\n",
       "    <tr>\n",
       "      <th>4002</th>\n",
       "      <td>NaN</td>\n",
       "      <td>NaN</td>\n",
       "      <td>NaN</td>\n",
       "      <td>Yemen</td>\n",
       "      <td>2021-10-16 04:21:15</td>\n",
       "      <td>15.552727</td>\n",
       "      <td>48.516388</td>\n",
       "      <td>9495</td>\n",
       "      <td>1798</td>\n",
       "      <td>NaN</td>\n",
       "      <td>NaN</td>\n",
       "      <td>Yemen</td>\n",
       "      <td>31.834675</td>\n",
       "      <td>18.936282</td>\n",
       "    </tr>\n",
       "    <tr>\n",
       "      <th>4003</th>\n",
       "      <td>NaN</td>\n",
       "      <td>NaN</td>\n",
       "      <td>NaN</td>\n",
       "      <td>Zambia</td>\n",
       "      <td>2021-10-16 04:21:15</td>\n",
       "      <td>-13.133897</td>\n",
       "      <td>27.849332</td>\n",
       "      <td>209477</td>\n",
       "      <td>3657</td>\n",
       "      <td>NaN</td>\n",
       "      <td>NaN</td>\n",
       "      <td>Zambia</td>\n",
       "      <td>1139.455512</td>\n",
       "      <td>1.745776</td>\n",
       "    </tr>\n",
       "    <tr>\n",
       "      <th>4004</th>\n",
       "      <td>NaN</td>\n",
       "      <td>NaN</td>\n",
       "      <td>NaN</td>\n",
       "      <td>Zimbabwe</td>\n",
       "      <td>2021-10-16 04:21:15</td>\n",
       "      <td>-19.015438</td>\n",
       "      <td>29.154857</td>\n",
       "      <td>132285</td>\n",
       "      <td>4655</td>\n",
       "      <td>NaN</td>\n",
       "      <td>NaN</td>\n",
       "      <td>Zimbabwe</td>\n",
       "      <td>890.033302</td>\n",
       "      <td>3.518917</td>\n",
       "    </tr>\n",
       "  </tbody>\n",
       "</table>\n",
       "</div>"
      ],
      "text/plain": [
       "      FIPS Admin2 Province_State Country_Region          Last_Update  \\\n",
       "4002   NaN    NaN            NaN          Yemen  2021-10-16 04:21:15   \n",
       "4003   NaN    NaN            NaN         Zambia  2021-10-16 04:21:15   \n",
       "4004   NaN    NaN            NaN       Zimbabwe  2021-10-16 04:21:15   \n",
       "\n",
       "            Lat      Long_  Confirmed  Deaths  Recovered  Active Combined_Key  \\\n",
       "4002  15.552727  48.516388       9495    1798        NaN     NaN        Yemen   \n",
       "4003 -13.133897  27.849332     209477    3657        NaN     NaN       Zambia   \n",
       "4004 -19.015438  29.154857     132285    4655        NaN     NaN     Zimbabwe   \n",
       "\n",
       "      Incident_Rate  Case_Fatality_Ratio  \n",
       "4002      31.834675            18.936282  \n",
       "4003    1139.455512             1.745776  \n",
       "4004     890.033302             3.518917  "
      ]
     },
     "execution_count": 15,
     "metadata": {},
     "output_type": "execute_result"
    }
   ],
   "source": [
    "daily_report.tail(3)"
   ]
  },
  {
   "cell_type": "markdown",
   "metadata": {
    "slideshow": {
     "slide_type": "subslide"
    }
   },
   "source": [
    "## `describe` 方法回傳數值欄位的描述性統計"
   ]
  },
  {
   "cell_type": "code",
   "execution_count": 16,
   "metadata": {
    "slideshow": {
     "slide_type": "-"
    }
   },
   "outputs": [
    {
     "data": {
      "text/html": [
       "<div>\n",
       "<style scoped>\n",
       "    .dataframe tbody tr th:only-of-type {\n",
       "        vertical-align: middle;\n",
       "    }\n",
       "\n",
       "    .dataframe tbody tr th {\n",
       "        vertical-align: top;\n",
       "    }\n",
       "\n",
       "    .dataframe thead th {\n",
       "        text-align: right;\n",
       "    }\n",
       "</style>\n",
       "<table border=\"1\" class=\"dataframe\">\n",
       "  <thead>\n",
       "    <tr style=\"text-align: right;\">\n",
       "      <th></th>\n",
       "      <th>FIPS</th>\n",
       "      <th>Lat</th>\n",
       "      <th>Long_</th>\n",
       "      <th>Confirmed</th>\n",
       "      <th>Deaths</th>\n",
       "      <th>Recovered</th>\n",
       "      <th>Active</th>\n",
       "      <th>Incident_Rate</th>\n",
       "      <th>Case_Fatality_Ratio</th>\n",
       "    </tr>\n",
       "  </thead>\n",
       "  <tbody>\n",
       "    <tr>\n",
       "      <th>count</th>\n",
       "      <td>3268.000000</td>\n",
       "      <td>3915.000000</td>\n",
       "      <td>3915.000000</td>\n",
       "      <td>4.005000e+03</td>\n",
       "      <td>4005.000000</td>\n",
       "      <td>0.0</td>\n",
       "      <td>0.0</td>\n",
       "      <td>3914.000000</td>\n",
       "      <td>3963.000000</td>\n",
       "    </tr>\n",
       "    <tr>\n",
       "      <th>mean</th>\n",
       "      <td>32405.943390</td>\n",
       "      <td>35.818597</td>\n",
       "      <td>-71.325521</td>\n",
       "      <td>5.993883e+04</td>\n",
       "      <td>1220.866667</td>\n",
       "      <td>NaN</td>\n",
       "      <td>NaN</td>\n",
       "      <td>12644.861240</td>\n",
       "      <td>2.438556</td>\n",
       "    </tr>\n",
       "    <tr>\n",
       "      <th>std</th>\n",
       "      <td>18056.381177</td>\n",
       "      <td>13.218707</td>\n",
       "      <td>54.886576</td>\n",
       "      <td>3.344308e+05</td>\n",
       "      <td>6937.648792</td>\n",
       "      <td>NaN</td>\n",
       "      <td>NaN</td>\n",
       "      <td>5269.107656</td>\n",
       "      <td>26.977116</td>\n",
       "    </tr>\n",
       "    <tr>\n",
       "      <th>min</th>\n",
       "      <td>60.000000</td>\n",
       "      <td>-52.368000</td>\n",
       "      <td>-178.116500</td>\n",
       "      <td>0.000000e+00</td>\n",
       "      <td>0.000000</td>\n",
       "      <td>NaN</td>\n",
       "      <td>NaN</td>\n",
       "      <td>0.000000</td>\n",
       "      <td>0.000000</td>\n",
       "    </tr>\n",
       "    <tr>\n",
       "      <th>25%</th>\n",
       "      <td>19048.500000</td>\n",
       "      <td>33.208763</td>\n",
       "      <td>-96.588297</td>\n",
       "      <td>1.660000e+03</td>\n",
       "      <td>26.000000</td>\n",
       "      <td>NaN</td>\n",
       "      <td>NaN</td>\n",
       "      <td>9877.410953</td>\n",
       "      <td>1.123917</td>\n",
       "    </tr>\n",
       "    <tr>\n",
       "      <th>50%</th>\n",
       "      <td>30068.000000</td>\n",
       "      <td>37.901449</td>\n",
       "      <td>-86.764210</td>\n",
       "      <td>4.730000e+03</td>\n",
       "      <td>77.000000</td>\n",
       "      <td>NaN</td>\n",
       "      <td>NaN</td>\n",
       "      <td>13519.374093</td>\n",
       "      <td>1.592259</td>\n",
       "    </tr>\n",
       "    <tr>\n",
       "      <th>75%</th>\n",
       "      <td>47041.500000</td>\n",
       "      <td>42.180139</td>\n",
       "      <td>-77.393473</td>\n",
       "      <td>1.966600e+04</td>\n",
       "      <td>280.000000</td>\n",
       "      <td>NaN</td>\n",
       "      <td>NaN</td>\n",
       "      <td>16086.767863</td>\n",
       "      <td>2.226475</td>\n",
       "    </tr>\n",
       "    <tr>\n",
       "      <th>max</th>\n",
       "      <td>99999.000000</td>\n",
       "      <td>71.706900</td>\n",
       "      <td>178.065000</td>\n",
       "      <td>7.601596e+06</td>\n",
       "      <td>151017.000000</td>\n",
       "      <td>NaN</td>\n",
       "      <td>NaN</td>\n",
       "      <td>52480.058678</td>\n",
       "      <td>1539.873418</td>\n",
       "    </tr>\n",
       "  </tbody>\n",
       "</table>\n",
       "</div>"
      ],
      "text/plain": [
       "               FIPS          Lat        Long_     Confirmed         Deaths  \\\n",
       "count   3268.000000  3915.000000  3915.000000  4.005000e+03    4005.000000   \n",
       "mean   32405.943390    35.818597   -71.325521  5.993883e+04    1220.866667   \n",
       "std    18056.381177    13.218707    54.886576  3.344308e+05    6937.648792   \n",
       "min       60.000000   -52.368000  -178.116500  0.000000e+00       0.000000   \n",
       "25%    19048.500000    33.208763   -96.588297  1.660000e+03      26.000000   \n",
       "50%    30068.000000    37.901449   -86.764210  4.730000e+03      77.000000   \n",
       "75%    47041.500000    42.180139   -77.393473  1.966600e+04     280.000000   \n",
       "max    99999.000000    71.706900   178.065000  7.601596e+06  151017.000000   \n",
       "\n",
       "       Recovered  Active  Incident_Rate  Case_Fatality_Ratio  \n",
       "count        0.0     0.0    3914.000000          3963.000000  \n",
       "mean         NaN     NaN   12644.861240             2.438556  \n",
       "std          NaN     NaN    5269.107656            26.977116  \n",
       "min          NaN     NaN       0.000000             0.000000  \n",
       "25%          NaN     NaN    9877.410953             1.123917  \n",
       "50%          NaN     NaN   13519.374093             1.592259  \n",
       "75%          NaN     NaN   16086.767863             2.226475  \n",
       "max          NaN     NaN   52480.058678          1539.873418  "
      ]
     },
     "execution_count": 16,
     "metadata": {},
     "output_type": "execute_result"
    }
   ],
   "source": [
    "daily_report.describe()"
   ]
  },
  {
   "cell_type": "markdown",
   "metadata": {
    "slideshow": {
     "slide_type": "subslide"
    }
   },
   "source": [
    "## `info` 方法回傳資料框的詳細資訊"
   ]
  },
  {
   "cell_type": "code",
   "execution_count": 17,
   "metadata": {
    "slideshow": {
     "slide_type": "-"
    }
   },
   "outputs": [
    {
     "name": "stdout",
     "output_type": "stream",
     "text": [
      "<class 'pandas.core.frame.DataFrame'>\n",
      "RangeIndex: 4005 entries, 0 to 4004\n",
      "Data columns (total 14 columns):\n",
      " #   Column               Non-Null Count  Dtype  \n",
      "---  ------               --------------  -----  \n",
      " 0   FIPS                 3268 non-null   float64\n",
      " 1   Admin2               3272 non-null   object \n",
      " 2   Province_State       3832 non-null   object \n",
      " 3   Country_Region       4005 non-null   object \n",
      " 4   Last_Update          4005 non-null   object \n",
      " 5   Lat                  3915 non-null   float64\n",
      " 6   Long_                3915 non-null   float64\n",
      " 7   Confirmed            4005 non-null   int64  \n",
      " 8   Deaths               4005 non-null   int64  \n",
      " 9   Recovered            0 non-null      float64\n",
      " 10  Active               0 non-null      float64\n",
      " 11  Combined_Key         4005 non-null   object \n",
      " 12  Incident_Rate        3914 non-null   float64\n",
      " 13  Case_Fatality_Ratio  3963 non-null   float64\n",
      "dtypes: float64(7), int64(2), object(5)\n",
      "memory usage: 438.2+ KB\n"
     ]
    }
   ],
   "source": [
    "daily_report.info()"
   ]
  },
  {
   "cell_type": "markdown",
   "metadata": {
    "slideshow": {
     "slide_type": "subslide"
    }
   },
   "source": [
    "## `set_index` 方法可以指定欄位取代目前的 `Index`"
   ]
  },
  {
   "cell_type": "code",
   "execution_count": 18,
   "metadata": {},
   "outputs": [
    {
     "data": {
      "text/html": [
       "<div>\n",
       "<style scoped>\n",
       "    .dataframe tbody tr th:only-of-type {\n",
       "        vertical-align: middle;\n",
       "    }\n",
       "\n",
       "    .dataframe tbody tr th {\n",
       "        vertical-align: top;\n",
       "    }\n",
       "\n",
       "    .dataframe thead th {\n",
       "        text-align: right;\n",
       "    }\n",
       "</style>\n",
       "<table border=\"1\" class=\"dataframe\">\n",
       "  <thead>\n",
       "    <tr style=\"text-align: right;\">\n",
       "      <th></th>\n",
       "      <th>FIPS</th>\n",
       "      <th>Admin2</th>\n",
       "      <th>Province_State</th>\n",
       "      <th>Country_Region</th>\n",
       "      <th>Last_Update</th>\n",
       "      <th>Lat</th>\n",
       "      <th>Long_</th>\n",
       "      <th>Confirmed</th>\n",
       "      <th>Deaths</th>\n",
       "      <th>Recovered</th>\n",
       "      <th>Active</th>\n",
       "      <th>Incident_Rate</th>\n",
       "      <th>Case_Fatality_Ratio</th>\n",
       "    </tr>\n",
       "    <tr>\n",
       "      <th>Combined_Key</th>\n",
       "      <th></th>\n",
       "      <th></th>\n",
       "      <th></th>\n",
       "      <th></th>\n",
       "      <th></th>\n",
       "      <th></th>\n",
       "      <th></th>\n",
       "      <th></th>\n",
       "      <th></th>\n",
       "      <th></th>\n",
       "      <th></th>\n",
       "      <th></th>\n",
       "      <th></th>\n",
       "    </tr>\n",
       "  </thead>\n",
       "  <tbody>\n",
       "    <tr>\n",
       "      <th>Afghanistan</th>\n",
       "      <td>NaN</td>\n",
       "      <td>NaN</td>\n",
       "      <td>NaN</td>\n",
       "      <td>Afghanistan</td>\n",
       "      <td>2021-10-16 04:21:15</td>\n",
       "      <td>33.939110</td>\n",
       "      <td>67.709953</td>\n",
       "      <td>155688</td>\n",
       "      <td>7238</td>\n",
       "      <td>NaN</td>\n",
       "      <td>NaN</td>\n",
       "      <td>399.934844</td>\n",
       "      <td>4.649042</td>\n",
       "    </tr>\n",
       "    <tr>\n",
       "      <th>Albania</th>\n",
       "      <td>NaN</td>\n",
       "      <td>NaN</td>\n",
       "      <td>NaN</td>\n",
       "      <td>Albania</td>\n",
       "      <td>2021-10-16 04:21:15</td>\n",
       "      <td>41.153300</td>\n",
       "      <td>20.168300</td>\n",
       "      <td>177108</td>\n",
       "      <td>2807</td>\n",
       "      <td>NaN</td>\n",
       "      <td>NaN</td>\n",
       "      <td>6154.284523</td>\n",
       "      <td>1.584909</td>\n",
       "    </tr>\n",
       "    <tr>\n",
       "      <th>Algeria</th>\n",
       "      <td>NaN</td>\n",
       "      <td>NaN</td>\n",
       "      <td>NaN</td>\n",
       "      <td>Algeria</td>\n",
       "      <td>2021-10-16 04:21:15</td>\n",
       "      <td>28.033900</td>\n",
       "      <td>1.659600</td>\n",
       "      <td>205106</td>\n",
       "      <td>5867</td>\n",
       "      <td>NaN</td>\n",
       "      <td>NaN</td>\n",
       "      <td>467.733458</td>\n",
       "      <td>2.860472</td>\n",
       "    </tr>\n",
       "    <tr>\n",
       "      <th>Andorra</th>\n",
       "      <td>NaN</td>\n",
       "      <td>NaN</td>\n",
       "      <td>NaN</td>\n",
       "      <td>Andorra</td>\n",
       "      <td>2021-10-16 04:21:15</td>\n",
       "      <td>42.506300</td>\n",
       "      <td>1.521800</td>\n",
       "      <td>15338</td>\n",
       "      <td>130</td>\n",
       "      <td>NaN</td>\n",
       "      <td>NaN</td>\n",
       "      <td>19851.161587</td>\n",
       "      <td>0.847568</td>\n",
       "    </tr>\n",
       "    <tr>\n",
       "      <th>Angola</th>\n",
       "      <td>NaN</td>\n",
       "      <td>NaN</td>\n",
       "      <td>NaN</td>\n",
       "      <td>Angola</td>\n",
       "      <td>2021-10-16 04:21:15</td>\n",
       "      <td>-11.202700</td>\n",
       "      <td>17.873900</td>\n",
       "      <td>62606</td>\n",
       "      <td>1660</td>\n",
       "      <td>NaN</td>\n",
       "      <td>NaN</td>\n",
       "      <td>190.487098</td>\n",
       "      <td>2.651503</td>\n",
       "    </tr>\n",
       "    <tr>\n",
       "      <th>...</th>\n",
       "      <td>...</td>\n",
       "      <td>...</td>\n",
       "      <td>...</td>\n",
       "      <td>...</td>\n",
       "      <td>...</td>\n",
       "      <td>...</td>\n",
       "      <td>...</td>\n",
       "      <td>...</td>\n",
       "      <td>...</td>\n",
       "      <td>...</td>\n",
       "      <td>...</td>\n",
       "      <td>...</td>\n",
       "      <td>...</td>\n",
       "    </tr>\n",
       "    <tr>\n",
       "      <th>Vietnam</th>\n",
       "      <td>NaN</td>\n",
       "      <td>NaN</td>\n",
       "      <td>NaN</td>\n",
       "      <td>Vietnam</td>\n",
       "      <td>2021-10-16 04:21:15</td>\n",
       "      <td>14.058324</td>\n",
       "      <td>108.277199</td>\n",
       "      <td>857639</td>\n",
       "      <td>21043</td>\n",
       "      <td>NaN</td>\n",
       "      <td>NaN</td>\n",
       "      <td>881.088437</td>\n",
       "      <td>2.453596</td>\n",
       "    </tr>\n",
       "    <tr>\n",
       "      <th>West Bank and Gaza</th>\n",
       "      <td>NaN</td>\n",
       "      <td>NaN</td>\n",
       "      <td>NaN</td>\n",
       "      <td>West Bank and Gaza</td>\n",
       "      <td>2021-10-16 04:21:15</td>\n",
       "      <td>31.952200</td>\n",
       "      <td>35.233200</td>\n",
       "      <td>447032</td>\n",
       "      <td>4556</td>\n",
       "      <td>NaN</td>\n",
       "      <td>NaN</td>\n",
       "      <td>8762.900340</td>\n",
       "      <td>1.019166</td>\n",
       "    </tr>\n",
       "    <tr>\n",
       "      <th>Yemen</th>\n",
       "      <td>NaN</td>\n",
       "      <td>NaN</td>\n",
       "      <td>NaN</td>\n",
       "      <td>Yemen</td>\n",
       "      <td>2021-10-16 04:21:15</td>\n",
       "      <td>15.552727</td>\n",
       "      <td>48.516388</td>\n",
       "      <td>9495</td>\n",
       "      <td>1798</td>\n",
       "      <td>NaN</td>\n",
       "      <td>NaN</td>\n",
       "      <td>31.834675</td>\n",
       "      <td>18.936282</td>\n",
       "    </tr>\n",
       "    <tr>\n",
       "      <th>Zambia</th>\n",
       "      <td>NaN</td>\n",
       "      <td>NaN</td>\n",
       "      <td>NaN</td>\n",
       "      <td>Zambia</td>\n",
       "      <td>2021-10-16 04:21:15</td>\n",
       "      <td>-13.133897</td>\n",
       "      <td>27.849332</td>\n",
       "      <td>209477</td>\n",
       "      <td>3657</td>\n",
       "      <td>NaN</td>\n",
       "      <td>NaN</td>\n",
       "      <td>1139.455512</td>\n",
       "      <td>1.745776</td>\n",
       "    </tr>\n",
       "    <tr>\n",
       "      <th>Zimbabwe</th>\n",
       "      <td>NaN</td>\n",
       "      <td>NaN</td>\n",
       "      <td>NaN</td>\n",
       "      <td>Zimbabwe</td>\n",
       "      <td>2021-10-16 04:21:15</td>\n",
       "      <td>-19.015438</td>\n",
       "      <td>29.154857</td>\n",
       "      <td>132285</td>\n",
       "      <td>4655</td>\n",
       "      <td>NaN</td>\n",
       "      <td>NaN</td>\n",
       "      <td>890.033302</td>\n",
       "      <td>3.518917</td>\n",
       "    </tr>\n",
       "  </tbody>\n",
       "</table>\n",
       "<p>4005 rows × 13 columns</p>\n",
       "</div>"
      ],
      "text/plain": [
       "                    FIPS Admin2 Province_State      Country_Region  \\\n",
       "Combined_Key                                                         \n",
       "Afghanistan          NaN    NaN            NaN         Afghanistan   \n",
       "Albania              NaN    NaN            NaN             Albania   \n",
       "Algeria              NaN    NaN            NaN             Algeria   \n",
       "Andorra              NaN    NaN            NaN             Andorra   \n",
       "Angola               NaN    NaN            NaN              Angola   \n",
       "...                  ...    ...            ...                 ...   \n",
       "Vietnam              NaN    NaN            NaN             Vietnam   \n",
       "West Bank and Gaza   NaN    NaN            NaN  West Bank and Gaza   \n",
       "Yemen                NaN    NaN            NaN               Yemen   \n",
       "Zambia               NaN    NaN            NaN              Zambia   \n",
       "Zimbabwe             NaN    NaN            NaN            Zimbabwe   \n",
       "\n",
       "                            Last_Update        Lat       Long_  Confirmed  \\\n",
       "Combined_Key                                                                \n",
       "Afghanistan         2021-10-16 04:21:15  33.939110   67.709953     155688   \n",
       "Albania             2021-10-16 04:21:15  41.153300   20.168300     177108   \n",
       "Algeria             2021-10-16 04:21:15  28.033900    1.659600     205106   \n",
       "Andorra             2021-10-16 04:21:15  42.506300    1.521800      15338   \n",
       "Angola              2021-10-16 04:21:15 -11.202700   17.873900      62606   \n",
       "...                                 ...        ...         ...        ...   \n",
       "Vietnam             2021-10-16 04:21:15  14.058324  108.277199     857639   \n",
       "West Bank and Gaza  2021-10-16 04:21:15  31.952200   35.233200     447032   \n",
       "Yemen               2021-10-16 04:21:15  15.552727   48.516388       9495   \n",
       "Zambia              2021-10-16 04:21:15 -13.133897   27.849332     209477   \n",
       "Zimbabwe            2021-10-16 04:21:15 -19.015438   29.154857     132285   \n",
       "\n",
       "                    Deaths  Recovered  Active  Incident_Rate  \\\n",
       "Combined_Key                                                   \n",
       "Afghanistan           7238        NaN     NaN     399.934844   \n",
       "Albania               2807        NaN     NaN    6154.284523   \n",
       "Algeria               5867        NaN     NaN     467.733458   \n",
       "Andorra                130        NaN     NaN   19851.161587   \n",
       "Angola                1660        NaN     NaN     190.487098   \n",
       "...                    ...        ...     ...            ...   \n",
       "Vietnam              21043        NaN     NaN     881.088437   \n",
       "West Bank and Gaza    4556        NaN     NaN    8762.900340   \n",
       "Yemen                 1798        NaN     NaN      31.834675   \n",
       "Zambia                3657        NaN     NaN    1139.455512   \n",
       "Zimbabwe              4655        NaN     NaN     890.033302   \n",
       "\n",
       "                    Case_Fatality_Ratio  \n",
       "Combined_Key                             \n",
       "Afghanistan                    4.649042  \n",
       "Albania                        1.584909  \n",
       "Algeria                        2.860472  \n",
       "Andorra                        0.847568  \n",
       "Angola                         2.651503  \n",
       "...                                 ...  \n",
       "Vietnam                        2.453596  \n",
       "West Bank and Gaza             1.019166  \n",
       "Yemen                         18.936282  \n",
       "Zambia                         1.745776  \n",
       "Zimbabwe                       3.518917  \n",
       "\n",
       "[4005 rows x 13 columns]"
      ]
     },
     "execution_count": 18,
     "metadata": {},
     "output_type": "execute_result"
    }
   ],
   "source": [
    "daily_report.set_index('Combined_Key')"
   ]
  },
  {
   "cell_type": "markdown",
   "metadata": {
    "slideshow": {
     "slide_type": "subslide"
    }
   },
   "source": [
    "## `reset_index` 方法可以用預設的 `RangeIndex` 重設目前的 `Index`"
   ]
  },
  {
   "cell_type": "code",
   "execution_count": 19,
   "metadata": {},
   "outputs": [
    {
     "data": {
      "text/html": [
       "<div>\n",
       "<style scoped>\n",
       "    .dataframe tbody tr th:only-of-type {\n",
       "        vertical-align: middle;\n",
       "    }\n",
       "\n",
       "    .dataframe tbody tr th {\n",
       "        vertical-align: top;\n",
       "    }\n",
       "\n",
       "    .dataframe thead th {\n",
       "        text-align: right;\n",
       "    }\n",
       "</style>\n",
       "<table border=\"1\" class=\"dataframe\">\n",
       "  <thead>\n",
       "    <tr style=\"text-align: right;\">\n",
       "      <th></th>\n",
       "      <th>Combined_Key</th>\n",
       "      <th>FIPS</th>\n",
       "      <th>Admin2</th>\n",
       "      <th>Province_State</th>\n",
       "      <th>Country_Region</th>\n",
       "      <th>Last_Update</th>\n",
       "      <th>Lat</th>\n",
       "      <th>Long_</th>\n",
       "      <th>Confirmed</th>\n",
       "      <th>Deaths</th>\n",
       "      <th>Recovered</th>\n",
       "      <th>Active</th>\n",
       "      <th>Incident_Rate</th>\n",
       "      <th>Case_Fatality_Ratio</th>\n",
       "    </tr>\n",
       "  </thead>\n",
       "  <tbody>\n",
       "    <tr>\n",
       "      <th>0</th>\n",
       "      <td>Afghanistan</td>\n",
       "      <td>NaN</td>\n",
       "      <td>NaN</td>\n",
       "      <td>NaN</td>\n",
       "      <td>Afghanistan</td>\n",
       "      <td>2021-10-16 04:21:15</td>\n",
       "      <td>33.939110</td>\n",
       "      <td>67.709953</td>\n",
       "      <td>155688</td>\n",
       "      <td>7238</td>\n",
       "      <td>NaN</td>\n",
       "      <td>NaN</td>\n",
       "      <td>399.934844</td>\n",
       "      <td>4.649042</td>\n",
       "    </tr>\n",
       "    <tr>\n",
       "      <th>1</th>\n",
       "      <td>Albania</td>\n",
       "      <td>NaN</td>\n",
       "      <td>NaN</td>\n",
       "      <td>NaN</td>\n",
       "      <td>Albania</td>\n",
       "      <td>2021-10-16 04:21:15</td>\n",
       "      <td>41.153300</td>\n",
       "      <td>20.168300</td>\n",
       "      <td>177108</td>\n",
       "      <td>2807</td>\n",
       "      <td>NaN</td>\n",
       "      <td>NaN</td>\n",
       "      <td>6154.284523</td>\n",
       "      <td>1.584909</td>\n",
       "    </tr>\n",
       "    <tr>\n",
       "      <th>2</th>\n",
       "      <td>Algeria</td>\n",
       "      <td>NaN</td>\n",
       "      <td>NaN</td>\n",
       "      <td>NaN</td>\n",
       "      <td>Algeria</td>\n",
       "      <td>2021-10-16 04:21:15</td>\n",
       "      <td>28.033900</td>\n",
       "      <td>1.659600</td>\n",
       "      <td>205106</td>\n",
       "      <td>5867</td>\n",
       "      <td>NaN</td>\n",
       "      <td>NaN</td>\n",
       "      <td>467.733458</td>\n",
       "      <td>2.860472</td>\n",
       "    </tr>\n",
       "    <tr>\n",
       "      <th>3</th>\n",
       "      <td>Andorra</td>\n",
       "      <td>NaN</td>\n",
       "      <td>NaN</td>\n",
       "      <td>NaN</td>\n",
       "      <td>Andorra</td>\n",
       "      <td>2021-10-16 04:21:15</td>\n",
       "      <td>42.506300</td>\n",
       "      <td>1.521800</td>\n",
       "      <td>15338</td>\n",
       "      <td>130</td>\n",
       "      <td>NaN</td>\n",
       "      <td>NaN</td>\n",
       "      <td>19851.161587</td>\n",
       "      <td>0.847568</td>\n",
       "    </tr>\n",
       "    <tr>\n",
       "      <th>4</th>\n",
       "      <td>Angola</td>\n",
       "      <td>NaN</td>\n",
       "      <td>NaN</td>\n",
       "      <td>NaN</td>\n",
       "      <td>Angola</td>\n",
       "      <td>2021-10-16 04:21:15</td>\n",
       "      <td>-11.202700</td>\n",
       "      <td>17.873900</td>\n",
       "      <td>62606</td>\n",
       "      <td>1660</td>\n",
       "      <td>NaN</td>\n",
       "      <td>NaN</td>\n",
       "      <td>190.487098</td>\n",
       "      <td>2.651503</td>\n",
       "    </tr>\n",
       "    <tr>\n",
       "      <th>...</th>\n",
       "      <td>...</td>\n",
       "      <td>...</td>\n",
       "      <td>...</td>\n",
       "      <td>...</td>\n",
       "      <td>...</td>\n",
       "      <td>...</td>\n",
       "      <td>...</td>\n",
       "      <td>...</td>\n",
       "      <td>...</td>\n",
       "      <td>...</td>\n",
       "      <td>...</td>\n",
       "      <td>...</td>\n",
       "      <td>...</td>\n",
       "      <td>...</td>\n",
       "    </tr>\n",
       "    <tr>\n",
       "      <th>4000</th>\n",
       "      <td>Vietnam</td>\n",
       "      <td>NaN</td>\n",
       "      <td>NaN</td>\n",
       "      <td>NaN</td>\n",
       "      <td>Vietnam</td>\n",
       "      <td>2021-10-16 04:21:15</td>\n",
       "      <td>14.058324</td>\n",
       "      <td>108.277199</td>\n",
       "      <td>857639</td>\n",
       "      <td>21043</td>\n",
       "      <td>NaN</td>\n",
       "      <td>NaN</td>\n",
       "      <td>881.088437</td>\n",
       "      <td>2.453596</td>\n",
       "    </tr>\n",
       "    <tr>\n",
       "      <th>4001</th>\n",
       "      <td>West Bank and Gaza</td>\n",
       "      <td>NaN</td>\n",
       "      <td>NaN</td>\n",
       "      <td>NaN</td>\n",
       "      <td>West Bank and Gaza</td>\n",
       "      <td>2021-10-16 04:21:15</td>\n",
       "      <td>31.952200</td>\n",
       "      <td>35.233200</td>\n",
       "      <td>447032</td>\n",
       "      <td>4556</td>\n",
       "      <td>NaN</td>\n",
       "      <td>NaN</td>\n",
       "      <td>8762.900340</td>\n",
       "      <td>1.019166</td>\n",
       "    </tr>\n",
       "    <tr>\n",
       "      <th>4002</th>\n",
       "      <td>Yemen</td>\n",
       "      <td>NaN</td>\n",
       "      <td>NaN</td>\n",
       "      <td>NaN</td>\n",
       "      <td>Yemen</td>\n",
       "      <td>2021-10-16 04:21:15</td>\n",
       "      <td>15.552727</td>\n",
       "      <td>48.516388</td>\n",
       "      <td>9495</td>\n",
       "      <td>1798</td>\n",
       "      <td>NaN</td>\n",
       "      <td>NaN</td>\n",
       "      <td>31.834675</td>\n",
       "      <td>18.936282</td>\n",
       "    </tr>\n",
       "    <tr>\n",
       "      <th>4003</th>\n",
       "      <td>Zambia</td>\n",
       "      <td>NaN</td>\n",
       "      <td>NaN</td>\n",
       "      <td>NaN</td>\n",
       "      <td>Zambia</td>\n",
       "      <td>2021-10-16 04:21:15</td>\n",
       "      <td>-13.133897</td>\n",
       "      <td>27.849332</td>\n",
       "      <td>209477</td>\n",
       "      <td>3657</td>\n",
       "      <td>NaN</td>\n",
       "      <td>NaN</td>\n",
       "      <td>1139.455512</td>\n",
       "      <td>1.745776</td>\n",
       "    </tr>\n",
       "    <tr>\n",
       "      <th>4004</th>\n",
       "      <td>Zimbabwe</td>\n",
       "      <td>NaN</td>\n",
       "      <td>NaN</td>\n",
       "      <td>NaN</td>\n",
       "      <td>Zimbabwe</td>\n",
       "      <td>2021-10-16 04:21:15</td>\n",
       "      <td>-19.015438</td>\n",
       "      <td>29.154857</td>\n",
       "      <td>132285</td>\n",
       "      <td>4655</td>\n",
       "      <td>NaN</td>\n",
       "      <td>NaN</td>\n",
       "      <td>890.033302</td>\n",
       "      <td>3.518917</td>\n",
       "    </tr>\n",
       "  </tbody>\n",
       "</table>\n",
       "<p>4005 rows × 14 columns</p>\n",
       "</div>"
      ],
      "text/plain": [
       "            Combined_Key  FIPS Admin2 Province_State      Country_Region  \\\n",
       "0            Afghanistan   NaN    NaN            NaN         Afghanistan   \n",
       "1                Albania   NaN    NaN            NaN             Albania   \n",
       "2                Algeria   NaN    NaN            NaN             Algeria   \n",
       "3                Andorra   NaN    NaN            NaN             Andorra   \n",
       "4                 Angola   NaN    NaN            NaN              Angola   \n",
       "...                  ...   ...    ...            ...                 ...   \n",
       "4000             Vietnam   NaN    NaN            NaN             Vietnam   \n",
       "4001  West Bank and Gaza   NaN    NaN            NaN  West Bank and Gaza   \n",
       "4002               Yemen   NaN    NaN            NaN               Yemen   \n",
       "4003              Zambia   NaN    NaN            NaN              Zambia   \n",
       "4004            Zimbabwe   NaN    NaN            NaN            Zimbabwe   \n",
       "\n",
       "              Last_Update        Lat       Long_  Confirmed  Deaths  \\\n",
       "0     2021-10-16 04:21:15  33.939110   67.709953     155688    7238   \n",
       "1     2021-10-16 04:21:15  41.153300   20.168300     177108    2807   \n",
       "2     2021-10-16 04:21:15  28.033900    1.659600     205106    5867   \n",
       "3     2021-10-16 04:21:15  42.506300    1.521800      15338     130   \n",
       "4     2021-10-16 04:21:15 -11.202700   17.873900      62606    1660   \n",
       "...                   ...        ...         ...        ...     ...   \n",
       "4000  2021-10-16 04:21:15  14.058324  108.277199     857639   21043   \n",
       "4001  2021-10-16 04:21:15  31.952200   35.233200     447032    4556   \n",
       "4002  2021-10-16 04:21:15  15.552727   48.516388       9495    1798   \n",
       "4003  2021-10-16 04:21:15 -13.133897   27.849332     209477    3657   \n",
       "4004  2021-10-16 04:21:15 -19.015438   29.154857     132285    4655   \n",
       "\n",
       "      Recovered  Active  Incident_Rate  Case_Fatality_Ratio  \n",
       "0           NaN     NaN     399.934844             4.649042  \n",
       "1           NaN     NaN    6154.284523             1.584909  \n",
       "2           NaN     NaN     467.733458             2.860472  \n",
       "3           NaN     NaN   19851.161587             0.847568  \n",
       "4           NaN     NaN     190.487098             2.651503  \n",
       "...         ...     ...            ...                  ...  \n",
       "4000        NaN     NaN     881.088437             2.453596  \n",
       "4001        NaN     NaN    8762.900340             1.019166  \n",
       "4002        NaN     NaN      31.834675            18.936282  \n",
       "4003        NaN     NaN    1139.455512             1.745776  \n",
       "4004        NaN     NaN     890.033302             3.518917  \n",
       "\n",
       "[4005 rows x 14 columns]"
      ]
     },
     "execution_count": 19,
     "metadata": {},
     "output_type": "execute_result"
    }
   ],
   "source": [
    "daily_report.set_index('Combined_Key').reset_index()"
   ]
  },
  {
   "cell_type": "markdown",
   "metadata": {
    "slideshow": {
     "slide_type": "slide"
    }
   },
   "source": [
    "## 基礎的資料框操作"
   ]
  },
  {
   "cell_type": "markdown",
   "metadata": {
    "slideshow": {
     "slide_type": "subslide"
    }
   },
   "source": [
    "## Pandas 使用更直觀的概念操作資料\n",
    "\n",
    "- 如何定義「更直觀」？\n",
    "    - 像操作試算表一樣（Spreadsheet-like）。\n",
    "    - 像使用資料庫一樣（SQL-like）。"
   ]
  },
  {
   "cell_type": "markdown",
   "metadata": {
    "slideshow": {
     "slide_type": "subslide"
    }
   },
   "source": [
    "## 基礎的資料框操作語法\n",
    "\n",
    "- 選擇。\n",
    "- 篩選。\n",
    "- 選擇與篩選。"
   ]
  },
  {
   "cell_type": "markdown",
   "metadata": {
    "slideshow": {
     "slide_type": "subslide"
    }
   },
   "source": [
    "## 基礎的資料框操作語法（續）\n",
    "\n",
    "- 索引。\n",
    "- 排序。\n",
    "- 衍生計算欄位。\n",
    "- 聚合。\n",
    "- 分組聚合。"
   ]
  },
  {
   "cell_type": "markdown",
   "metadata": {
    "slideshow": {
     "slide_type": "subslide"
    }
   },
   "source": [
    "## 以 `['欄位名稱']` 語法選擇出資料框的欄位成為外型 `(m,)` 的 `Series`"
   ]
  },
  {
   "cell_type": "code",
   "execution_count": 20,
   "metadata": {
    "slideshow": {
     "slide_type": "subslide"
    }
   },
   "outputs": [
    {
     "name": "stdout",
     "output_type": "stream",
     "text": [
      "0              Afghanistan\n",
      "1                  Albania\n",
      "2                  Algeria\n",
      "3                  Andorra\n",
      "4                   Angola\n",
      "               ...        \n",
      "4000               Vietnam\n",
      "4001    West Bank and Gaza\n",
      "4002                 Yemen\n",
      "4003                Zambia\n",
      "4004              Zimbabwe\n",
      "Name: Country_Region, Length: 4005, dtype: object\n",
      "<class 'pandas.core.series.Series'>\n"
     ]
    }
   ],
   "source": [
    "print(daily_report['Country_Region'])\n",
    "print(type(daily_report['Country_Region']))"
   ]
  },
  {
   "cell_type": "markdown",
   "metadata": {
    "slideshow": {
     "slide_type": "subslide"
    }
   },
   "source": [
    "## 以 `[['欄位名稱']]` 語法選擇出資料框的欄位成為外型 `(m, 1)` 的 `DataFrame`"
   ]
  },
  {
   "cell_type": "code",
   "execution_count": 21,
   "metadata": {
    "slideshow": {
     "slide_type": "subslide"
    }
   },
   "outputs": [
    {
     "name": "stdout",
     "output_type": "stream",
     "text": [
      "<class 'pandas.core.frame.DataFrame'>\n"
     ]
    },
    {
     "data": {
      "text/html": [
       "<div>\n",
       "<style scoped>\n",
       "    .dataframe tbody tr th:only-of-type {\n",
       "        vertical-align: middle;\n",
       "    }\n",
       "\n",
       "    .dataframe tbody tr th {\n",
       "        vertical-align: top;\n",
       "    }\n",
       "\n",
       "    .dataframe thead th {\n",
       "        text-align: right;\n",
       "    }\n",
       "</style>\n",
       "<table border=\"1\" class=\"dataframe\">\n",
       "  <thead>\n",
       "    <tr style=\"text-align: right;\">\n",
       "      <th></th>\n",
       "      <th>Country_Region</th>\n",
       "    </tr>\n",
       "  </thead>\n",
       "  <tbody>\n",
       "    <tr>\n",
       "      <th>0</th>\n",
       "      <td>Afghanistan</td>\n",
       "    </tr>\n",
       "    <tr>\n",
       "      <th>1</th>\n",
       "      <td>Albania</td>\n",
       "    </tr>\n",
       "    <tr>\n",
       "      <th>2</th>\n",
       "      <td>Algeria</td>\n",
       "    </tr>\n",
       "    <tr>\n",
       "      <th>3</th>\n",
       "      <td>Andorra</td>\n",
       "    </tr>\n",
       "    <tr>\n",
       "      <th>4</th>\n",
       "      <td>Angola</td>\n",
       "    </tr>\n",
       "    <tr>\n",
       "      <th>...</th>\n",
       "      <td>...</td>\n",
       "    </tr>\n",
       "    <tr>\n",
       "      <th>4000</th>\n",
       "      <td>Vietnam</td>\n",
       "    </tr>\n",
       "    <tr>\n",
       "      <th>4001</th>\n",
       "      <td>West Bank and Gaza</td>\n",
       "    </tr>\n",
       "    <tr>\n",
       "      <th>4002</th>\n",
       "      <td>Yemen</td>\n",
       "    </tr>\n",
       "    <tr>\n",
       "      <th>4003</th>\n",
       "      <td>Zambia</td>\n",
       "    </tr>\n",
       "    <tr>\n",
       "      <th>4004</th>\n",
       "      <td>Zimbabwe</td>\n",
       "    </tr>\n",
       "  </tbody>\n",
       "</table>\n",
       "<p>4005 rows × 1 columns</p>\n",
       "</div>"
      ],
      "text/plain": [
       "          Country_Region\n",
       "0            Afghanistan\n",
       "1                Albania\n",
       "2                Algeria\n",
       "3                Andorra\n",
       "4                 Angola\n",
       "...                  ...\n",
       "4000             Vietnam\n",
       "4001  West Bank and Gaza\n",
       "4002               Yemen\n",
       "4003              Zambia\n",
       "4004            Zimbabwe\n",
       "\n",
       "[4005 rows x 1 columns]"
      ]
     },
     "execution_count": 21,
     "metadata": {},
     "output_type": "execute_result"
    }
   ],
   "source": [
    "print(type(daily_report[['Country_Region']]))\n",
    "daily_report[['Country_Region']]"
   ]
  },
  {
   "cell_type": "markdown",
   "metadata": {
    "slideshow": {
     "slide_type": "subslide"
    }
   },
   "source": [
    "## 以 `[['欄位名稱', '欄位名稱', ...]]` 語法選擇出資料框多個欄位成為外型 `(m, n)` 的 `DataFrame`"
   ]
  },
  {
   "cell_type": "code",
   "execution_count": 22,
   "metadata": {
    "slideshow": {
     "slide_type": "subslide"
    }
   },
   "outputs": [
    {
     "data": {
      "text/html": [
       "<div>\n",
       "<style scoped>\n",
       "    .dataframe tbody tr th:only-of-type {\n",
       "        vertical-align: middle;\n",
       "    }\n",
       "\n",
       "    .dataframe tbody tr th {\n",
       "        vertical-align: top;\n",
       "    }\n",
       "\n",
       "    .dataframe thead th {\n",
       "        text-align: right;\n",
       "    }\n",
       "</style>\n",
       "<table border=\"1\" class=\"dataframe\">\n",
       "  <thead>\n",
       "    <tr style=\"text-align: right;\">\n",
       "      <th></th>\n",
       "      <th>Country_Region</th>\n",
       "      <th>Lat</th>\n",
       "      <th>Long_</th>\n",
       "    </tr>\n",
       "  </thead>\n",
       "  <tbody>\n",
       "    <tr>\n",
       "      <th>0</th>\n",
       "      <td>Afghanistan</td>\n",
       "      <td>33.939110</td>\n",
       "      <td>67.709953</td>\n",
       "    </tr>\n",
       "    <tr>\n",
       "      <th>1</th>\n",
       "      <td>Albania</td>\n",
       "      <td>41.153300</td>\n",
       "      <td>20.168300</td>\n",
       "    </tr>\n",
       "    <tr>\n",
       "      <th>2</th>\n",
       "      <td>Algeria</td>\n",
       "      <td>28.033900</td>\n",
       "      <td>1.659600</td>\n",
       "    </tr>\n",
       "    <tr>\n",
       "      <th>3</th>\n",
       "      <td>Andorra</td>\n",
       "      <td>42.506300</td>\n",
       "      <td>1.521800</td>\n",
       "    </tr>\n",
       "    <tr>\n",
       "      <th>4</th>\n",
       "      <td>Angola</td>\n",
       "      <td>-11.202700</td>\n",
       "      <td>17.873900</td>\n",
       "    </tr>\n",
       "    <tr>\n",
       "      <th>...</th>\n",
       "      <td>...</td>\n",
       "      <td>...</td>\n",
       "      <td>...</td>\n",
       "    </tr>\n",
       "    <tr>\n",
       "      <th>4000</th>\n",
       "      <td>Vietnam</td>\n",
       "      <td>14.058324</td>\n",
       "      <td>108.277199</td>\n",
       "    </tr>\n",
       "    <tr>\n",
       "      <th>4001</th>\n",
       "      <td>West Bank and Gaza</td>\n",
       "      <td>31.952200</td>\n",
       "      <td>35.233200</td>\n",
       "    </tr>\n",
       "    <tr>\n",
       "      <th>4002</th>\n",
       "      <td>Yemen</td>\n",
       "      <td>15.552727</td>\n",
       "      <td>48.516388</td>\n",
       "    </tr>\n",
       "    <tr>\n",
       "      <th>4003</th>\n",
       "      <td>Zambia</td>\n",
       "      <td>-13.133897</td>\n",
       "      <td>27.849332</td>\n",
       "    </tr>\n",
       "    <tr>\n",
       "      <th>4004</th>\n",
       "      <td>Zimbabwe</td>\n",
       "      <td>-19.015438</td>\n",
       "      <td>29.154857</td>\n",
       "    </tr>\n",
       "  </tbody>\n",
       "</table>\n",
       "<p>4005 rows × 3 columns</p>\n",
       "</div>"
      ],
      "text/plain": [
       "          Country_Region        Lat       Long_\n",
       "0            Afghanistan  33.939110   67.709953\n",
       "1                Albania  41.153300   20.168300\n",
       "2                Algeria  28.033900    1.659600\n",
       "3                Andorra  42.506300    1.521800\n",
       "4                 Angola -11.202700   17.873900\n",
       "...                  ...        ...         ...\n",
       "4000             Vietnam  14.058324  108.277199\n",
       "4001  West Bank and Gaza  31.952200   35.233200\n",
       "4002               Yemen  15.552727   48.516388\n",
       "4003              Zambia -13.133897   27.849332\n",
       "4004            Zimbabwe -19.015438   29.154857\n",
       "\n",
       "[4005 rows x 3 columns]"
      ]
     },
     "execution_count": 22,
     "metadata": {},
     "output_type": "execute_result"
    }
   ],
   "source": [
    "cols = ['Country_Region', 'Lat', 'Long_']\n",
    "daily_report[cols]"
   ]
  },
  {
   "cell_type": "markdown",
   "metadata": {
    "slideshow": {
     "slide_type": "subslide"
    }
   },
   "source": [
    "## 透過條件判斷式以 `[布林陣列]` 篩選觀測值"
   ]
  },
  {
   "cell_type": "code",
   "execution_count": 23,
   "metadata": {},
   "outputs": [
    {
     "name": "stdout",
     "output_type": "stream",
     "text": [
      "0       False\n",
      "1       False\n",
      "2       False\n",
      "3       False\n",
      "4       False\n",
      "        ...  \n",
      "4000    False\n",
      "4001    False\n",
      "4002    False\n",
      "4003    False\n",
      "4004    False\n",
      "Name: Country_Region, Length: 4005, dtype: bool\n"
     ]
    },
    {
     "data": {
      "text/html": [
       "<div>\n",
       "<style scoped>\n",
       "    .dataframe tbody tr th:only-of-type {\n",
       "        vertical-align: middle;\n",
       "    }\n",
       "\n",
       "    .dataframe tbody tr th {\n",
       "        vertical-align: top;\n",
       "    }\n",
       "\n",
       "    .dataframe thead th {\n",
       "        text-align: right;\n",
       "    }\n",
       "</style>\n",
       "<table border=\"1\" class=\"dataframe\">\n",
       "  <thead>\n",
       "    <tr style=\"text-align: right;\">\n",
       "      <th></th>\n",
       "      <th>FIPS</th>\n",
       "      <th>Admin2</th>\n",
       "      <th>Province_State</th>\n",
       "      <th>Country_Region</th>\n",
       "      <th>Last_Update</th>\n",
       "      <th>Lat</th>\n",
       "      <th>Long_</th>\n",
       "      <th>Confirmed</th>\n",
       "      <th>Deaths</th>\n",
       "      <th>Recovered</th>\n",
       "      <th>Active</th>\n",
       "      <th>Combined_Key</th>\n",
       "      <th>Incident_Rate</th>\n",
       "      <th>Case_Fatality_Ratio</th>\n",
       "    </tr>\n",
       "  </thead>\n",
       "  <tbody>\n",
       "    <tr>\n",
       "      <th>663</th>\n",
       "      <td>NaN</td>\n",
       "      <td>NaN</td>\n",
       "      <td>NaN</td>\n",
       "      <td>Taiwan*</td>\n",
       "      <td>2021-10-16 04:21:15</td>\n",
       "      <td>23.7</td>\n",
       "      <td>121.0</td>\n",
       "      <td>16325</td>\n",
       "      <td>846</td>\n",
       "      <td>NaN</td>\n",
       "      <td>NaN</td>\n",
       "      <td>Taiwan*</td>\n",
       "      <td>68.544125</td>\n",
       "      <td>5.182236</td>\n",
       "    </tr>\n",
       "  </tbody>\n",
       "</table>\n",
       "</div>"
      ],
      "text/plain": [
       "     FIPS Admin2 Province_State Country_Region          Last_Update   Lat  \\\n",
       "663   NaN    NaN            NaN        Taiwan*  2021-10-16 04:21:15  23.7   \n",
       "\n",
       "     Long_  Confirmed  Deaths  Recovered  Active Combined_Key  Incident_Rate  \\\n",
       "663  121.0      16325     846        NaN     NaN      Taiwan*      68.544125   \n",
       "\n",
       "     Case_Fatality_Ratio  \n",
       "663             5.182236  "
      ]
     },
     "execution_count": 23,
     "metadata": {},
     "output_type": "execute_result"
    }
   ],
   "source": [
    "is_taiwan = daily_report['Country_Region'] == 'Taiwan*'\n",
    "print(is_taiwan)\n",
    "daily_report[is_taiwan]"
   ]
  },
  {
   "cell_type": "markdown",
   "metadata": {
    "slideshow": {
     "slide_type": "subslide"
    }
   },
   "source": [
    "## 同時選擇欄位以及篩選觀測值"
   ]
  },
  {
   "cell_type": "code",
   "execution_count": 24,
   "metadata": {},
   "outputs": [
    {
     "data": {
      "text/html": [
       "<div>\n",
       "<style scoped>\n",
       "    .dataframe tbody tr th:only-of-type {\n",
       "        vertical-align: middle;\n",
       "    }\n",
       "\n",
       "    .dataframe tbody tr th {\n",
       "        vertical-align: top;\n",
       "    }\n",
       "\n",
       "    .dataframe thead th {\n",
       "        text-align: right;\n",
       "    }\n",
       "</style>\n",
       "<table border=\"1\" class=\"dataframe\">\n",
       "  <thead>\n",
       "    <tr style=\"text-align: right;\">\n",
       "      <th></th>\n",
       "      <th>Country_Region</th>\n",
       "      <th>Confirmed</th>\n",
       "    </tr>\n",
       "  </thead>\n",
       "  <tbody>\n",
       "    <tr>\n",
       "      <th>663</th>\n",
       "      <td>Taiwan*</td>\n",
       "      <td>16325</td>\n",
       "    </tr>\n",
       "  </tbody>\n",
       "</table>\n",
       "</div>"
      ],
      "text/plain": [
       "    Country_Region  Confirmed\n",
       "663        Taiwan*      16325"
      ]
     },
     "execution_count": 24,
     "metadata": {},
     "output_type": "execute_result"
    }
   ],
   "source": [
    "cols_to_select = ['Country_Region', 'Confirmed']\n",
    "rows_to_filter = daily_report['Country_Region'] == 'Taiwan*'\n",
    "daily_report[rows_to_filter][cols_to_select]"
   ]
  },
  {
   "cell_type": "markdown",
   "metadata": {
    "slideshow": {
     "slide_type": "subslide"
    }
   },
   "source": [
    "## 運用 `DataFrame` 的兩種索引語法取得資料\n",
    "\n",
    "- `loc[index_label, column_label]`\n",
    "- `iloc[index_position, column_position]`"
   ]
  },
  {
   "cell_type": "markdown",
   "metadata": {
    "slideshow": {
     "slide_type": "subslide"
    }
   },
   "source": [
    "## `loc[]` 以資料的列、欄標籤為準 "
   ]
  },
  {
   "cell_type": "code",
   "execution_count": 25,
   "metadata": {
    "slideshow": {
     "slide_type": "-"
    }
   },
   "outputs": [
    {
     "name": "stdout",
     "output_type": "stream",
     "text": [
      "354\n"
     ]
    },
    {
     "data": {
      "text/plain": [
       "Province_State     Tokyo\n",
       "Country_Region     Japan\n",
       "Confirmed         377104\n",
       "Name: 354, dtype: object"
      ]
     },
     "execution_count": 25,
     "metadata": {},
     "output_type": "execute_result"
    }
   ],
   "source": [
    "tokyo_loc = (daily_report[daily_report['Province_State'] == 'Tokyo']).index[0]\n",
    "jp = daily_report[daily_report['Country_Region'] == 'Japan']\n",
    "print(tokyo_loc)\n",
    "jp.loc[tokyo_loc, ['Province_State', 'Country_Region', 'Confirmed']]"
   ]
  },
  {
   "cell_type": "markdown",
   "metadata": {
    "slideshow": {
     "slide_type": "subslide"
    }
   },
   "source": [
    "## `iloc[]` 以資料框的列、欄位置為準 "
   ]
  },
  {
   "cell_type": "code",
   "execution_count": 26,
   "metadata": {},
   "outputs": [
    {
     "name": "stdout",
     "output_type": "stream",
     "text": [
      "41\n"
     ]
    },
    {
     "data": {
      "text/plain": [
       "Province_State     Tokyo\n",
       "Country_Region     Japan\n",
       "Confirmed         377104\n",
       "Name: 354, dtype: object"
      ]
     },
     "execution_count": 26,
     "metadata": {},
     "output_type": "execute_result"
    }
   ],
   "source": [
    "tokyo_iloc = [i for i, v in enumerate(jp.index) if v == tokyo_loc][0]\n",
    "print(tokyo_iloc)\n",
    "jp.iloc[tokyo_iloc, [2, 3, 7]]"
   ]
  },
  {
   "cell_type": "markdown",
   "metadata": {
    "slideshow": {
     "slide_type": "subslide"
    }
   },
   "source": [
    "## 使用（呼叫）資料框的兩種方法排序\n",
    "\n",
    "- `sort_values`\n",
    "- `sort_index`"
   ]
  },
  {
   "cell_type": "markdown",
   "metadata": {
    "slideshow": {
     "slide_type": "subslide"
    }
   },
   "source": [
    "## `sort_values` 方法可依指定欄位排序資料框"
   ]
  },
  {
   "cell_type": "code",
   "execution_count": 27,
   "metadata": {},
   "outputs": [
    {
     "data": {
      "text/html": [
       "<div>\n",
       "<style scoped>\n",
       "    .dataframe tbody tr th:only-of-type {\n",
       "        vertical-align: middle;\n",
       "    }\n",
       "\n",
       "    .dataframe tbody tr th {\n",
       "        vertical-align: top;\n",
       "    }\n",
       "\n",
       "    .dataframe thead th {\n",
       "        text-align: right;\n",
       "    }\n",
       "</style>\n",
       "<table border=\"1\" class=\"dataframe\">\n",
       "  <thead>\n",
       "    <tr style=\"text-align: right;\">\n",
       "      <th></th>\n",
       "      <th>FIPS</th>\n",
       "      <th>Admin2</th>\n",
       "      <th>Province_State</th>\n",
       "      <th>Country_Region</th>\n",
       "      <th>Last_Update</th>\n",
       "      <th>Lat</th>\n",
       "      <th>Long_</th>\n",
       "      <th>Confirmed</th>\n",
       "      <th>Deaths</th>\n",
       "      <th>Recovered</th>\n",
       "      <th>Active</th>\n",
       "      <th>Combined_Key</th>\n",
       "      <th>Incident_Rate</th>\n",
       "      <th>Case_Fatality_Ratio</th>\n",
       "    </tr>\n",
       "  </thead>\n",
       "  <tbody>\n",
       "    <tr>\n",
       "      <th>1851</th>\n",
       "      <td>80022.0</td>\n",
       "      <td>Out of LA</td>\n",
       "      <td>Louisiana</td>\n",
       "      <td>US</td>\n",
       "      <td>2021-10-16 04:21:15</td>\n",
       "      <td>NaN</td>\n",
       "      <td>NaN</td>\n",
       "      <td>0</td>\n",
       "      <td>0</td>\n",
       "      <td>NaN</td>\n",
       "      <td>NaN</td>\n",
       "      <td>Out of LA, Louisiana, US</td>\n",
       "      <td>NaN</td>\n",
       "      <td>NaN</td>\n",
       "    </tr>\n",
       "    <tr>\n",
       "      <th>2847</th>\n",
       "      <td>90039.0</td>\n",
       "      <td>Unassigned</td>\n",
       "      <td>Ohio</td>\n",
       "      <td>US</td>\n",
       "      <td>2021-10-16 04:21:15</td>\n",
       "      <td>NaN</td>\n",
       "      <td>NaN</td>\n",
       "      <td>0</td>\n",
       "      <td>5</td>\n",
       "      <td>NaN</td>\n",
       "      <td>NaN</td>\n",
       "      <td>Unassigned, Ohio, US</td>\n",
       "      <td>NaN</td>\n",
       "      <td>NaN</td>\n",
       "    </tr>\n",
       "    <tr>\n",
       "      <th>2587</th>\n",
       "      <td>80036.0</td>\n",
       "      <td>Out of NY</td>\n",
       "      <td>New York</td>\n",
       "      <td>US</td>\n",
       "      <td>2021-10-16 04:21:15</td>\n",
       "      <td>NaN</td>\n",
       "      <td>NaN</td>\n",
       "      <td>0</td>\n",
       "      <td>309</td>\n",
       "      <td>NaN</td>\n",
       "      <td>NaN</td>\n",
       "      <td>Out of NY, New York, US</td>\n",
       "      <td>NaN</td>\n",
       "      <td>NaN</td>\n",
       "    </tr>\n",
       "    <tr>\n",
       "      <th>724</th>\n",
       "      <td>80001.0</td>\n",
       "      <td>Out of AL</td>\n",
       "      <td>Alabama</td>\n",
       "      <td>US</td>\n",
       "      <td>2020-12-21 13:27:30</td>\n",
       "      <td>NaN</td>\n",
       "      <td>NaN</td>\n",
       "      <td>0</td>\n",
       "      <td>0</td>\n",
       "      <td>NaN</td>\n",
       "      <td>NaN</td>\n",
       "      <td>Out of AL, Alabama, US</td>\n",
       "      <td>NaN</td>\n",
       "      <td>NaN</td>\n",
       "    </tr>\n",
       "    <tr>\n",
       "      <th>1243</th>\n",
       "      <td>90015.0</td>\n",
       "      <td>Unassigned</td>\n",
       "      <td>Hawaii</td>\n",
       "      <td>US</td>\n",
       "      <td>2021-10-16 04:21:15</td>\n",
       "      <td>NaN</td>\n",
       "      <td>NaN</td>\n",
       "      <td>0</td>\n",
       "      <td>0</td>\n",
       "      <td>NaN</td>\n",
       "      <td>NaN</td>\n",
       "      <td>Unassigned, Hawaii, US</td>\n",
       "      <td>NaN</td>\n",
       "      <td>NaN</td>\n",
       "    </tr>\n",
       "    <tr>\n",
       "      <th>...</th>\n",
       "      <td>...</td>\n",
       "      <td>...</td>\n",
       "      <td>...</td>\n",
       "      <td>...</td>\n",
       "      <td>...</td>\n",
       "      <td>...</td>\n",
       "      <td>...</td>\n",
       "      <td>...</td>\n",
       "      <td>...</td>\n",
       "      <td>...</td>\n",
       "      <td>...</td>\n",
       "      <td>...</td>\n",
       "      <td>...</td>\n",
       "      <td>...</td>\n",
       "    </tr>\n",
       "    <tr>\n",
       "      <th>287</th>\n",
       "      <td>NaN</td>\n",
       "      <td>NaN</td>\n",
       "      <td>NaN</td>\n",
       "      <td>Iran</td>\n",
       "      <td>2021-10-16 04:21:15</td>\n",
       "      <td>32.427908</td>\n",
       "      <td>53.688046</td>\n",
       "      <td>5765904</td>\n",
       "      <td>123695</td>\n",
       "      <td>NaN</td>\n",
       "      <td>NaN</td>\n",
       "      <td>Iran</td>\n",
       "      <td>6864.747332</td>\n",
       "      <td>2.145284</td>\n",
       "    </tr>\n",
       "    <tr>\n",
       "      <th>269</th>\n",
       "      <td>NaN</td>\n",
       "      <td>NaN</td>\n",
       "      <td>Maharashtra</td>\n",
       "      <td>India</td>\n",
       "      <td>2021-10-16 04:21:15</td>\n",
       "      <td>19.449759</td>\n",
       "      <td>76.108221</td>\n",
       "      <td>6586280</td>\n",
       "      <td>139705</td>\n",
       "      <td>NaN</td>\n",
       "      <td>NaN</td>\n",
       "      <td>Maharashtra, India</td>\n",
       "      <td>5348.427916</td>\n",
       "      <td>2.121152</td>\n",
       "    </tr>\n",
       "    <tr>\n",
       "      <th>216</th>\n",
       "      <td>NaN</td>\n",
       "      <td>NaN</td>\n",
       "      <td>NaN</td>\n",
       "      <td>France</td>\n",
       "      <td>2021-10-16 04:21:15</td>\n",
       "      <td>46.227600</td>\n",
       "      <td>2.213700</td>\n",
       "      <td>6905628</td>\n",
       "      <td>114921</td>\n",
       "      <td>NaN</td>\n",
       "      <td>NaN</td>\n",
       "      <td>France</td>\n",
       "      <td>10579.525735</td>\n",
       "      <td>1.664164</td>\n",
       "    </tr>\n",
       "    <tr>\n",
       "      <th>3985</th>\n",
       "      <td>NaN</td>\n",
       "      <td>NaN</td>\n",
       "      <td>England</td>\n",
       "      <td>United Kingdom</td>\n",
       "      <td>2021-10-16 04:21:15</td>\n",
       "      <td>52.355500</td>\n",
       "      <td>-1.174300</td>\n",
       "      <td>7110513</td>\n",
       "      <td>120857</td>\n",
       "      <td>NaN</td>\n",
       "      <td>NaN</td>\n",
       "      <td>England, United Kingdom</td>\n",
       "      <td>12702.516382</td>\n",
       "      <td>1.699695</td>\n",
       "    </tr>\n",
       "    <tr>\n",
       "      <th>671</th>\n",
       "      <td>NaN</td>\n",
       "      <td>NaN</td>\n",
       "      <td>NaN</td>\n",
       "      <td>Turkey</td>\n",
       "      <td>2021-10-16 04:21:15</td>\n",
       "      <td>38.963700</td>\n",
       "      <td>35.243300</td>\n",
       "      <td>7601596</td>\n",
       "      <td>67225</td>\n",
       "      <td>NaN</td>\n",
       "      <td>NaN</td>\n",
       "      <td>Turkey</td>\n",
       "      <td>9013.137411</td>\n",
       "      <td>0.884354</td>\n",
       "    </tr>\n",
       "  </tbody>\n",
       "</table>\n",
       "<p>4005 rows × 14 columns</p>\n",
       "</div>"
      ],
      "text/plain": [
       "         FIPS      Admin2 Province_State  Country_Region          Last_Update  \\\n",
       "1851  80022.0   Out of LA      Louisiana              US  2021-10-16 04:21:15   \n",
       "2847  90039.0  Unassigned           Ohio              US  2021-10-16 04:21:15   \n",
       "2587  80036.0   Out of NY       New York              US  2021-10-16 04:21:15   \n",
       "724   80001.0   Out of AL        Alabama              US  2020-12-21 13:27:30   \n",
       "1243  90015.0  Unassigned         Hawaii              US  2021-10-16 04:21:15   \n",
       "...       ...         ...            ...             ...                  ...   \n",
       "287       NaN         NaN            NaN            Iran  2021-10-16 04:21:15   \n",
       "269       NaN         NaN    Maharashtra           India  2021-10-16 04:21:15   \n",
       "216       NaN         NaN            NaN          France  2021-10-16 04:21:15   \n",
       "3985      NaN         NaN        England  United Kingdom  2021-10-16 04:21:15   \n",
       "671       NaN         NaN            NaN          Turkey  2021-10-16 04:21:15   \n",
       "\n",
       "            Lat      Long_  Confirmed  Deaths  Recovered  Active  \\\n",
       "1851        NaN        NaN          0       0        NaN     NaN   \n",
       "2847        NaN        NaN          0       5        NaN     NaN   \n",
       "2587        NaN        NaN          0     309        NaN     NaN   \n",
       "724         NaN        NaN          0       0        NaN     NaN   \n",
       "1243        NaN        NaN          0       0        NaN     NaN   \n",
       "...         ...        ...        ...     ...        ...     ...   \n",
       "287   32.427908  53.688046    5765904  123695        NaN     NaN   \n",
       "269   19.449759  76.108221    6586280  139705        NaN     NaN   \n",
       "216   46.227600   2.213700    6905628  114921        NaN     NaN   \n",
       "3985  52.355500  -1.174300    7110513  120857        NaN     NaN   \n",
       "671   38.963700  35.243300    7601596   67225        NaN     NaN   \n",
       "\n",
       "                  Combined_Key  Incident_Rate  Case_Fatality_Ratio  \n",
       "1851  Out of LA, Louisiana, US            NaN                  NaN  \n",
       "2847      Unassigned, Ohio, US            NaN                  NaN  \n",
       "2587   Out of NY, New York, US            NaN                  NaN  \n",
       "724     Out of AL, Alabama, US            NaN                  NaN  \n",
       "1243    Unassigned, Hawaii, US            NaN                  NaN  \n",
       "...                        ...            ...                  ...  \n",
       "287                       Iran    6864.747332             2.145284  \n",
       "269         Maharashtra, India    5348.427916             2.121152  \n",
       "216                     France   10579.525735             1.664164  \n",
       "3985   England, United Kingdom   12702.516382             1.699695  \n",
       "671                     Turkey    9013.137411             0.884354  \n",
       "\n",
       "[4005 rows x 14 columns]"
      ]
     },
     "execution_count": 27,
     "metadata": {},
     "output_type": "execute_result"
    }
   ],
   "source": [
    "daily_report.sort_values('Confirmed')"
   ]
  },
  {
   "cell_type": "markdown",
   "metadata": {
    "slideshow": {
     "slide_type": "subslide"
    }
   },
   "source": [
    "## `sort_index` 可依資料框的 `Index` 排序 "
   ]
  },
  {
   "cell_type": "code",
   "execution_count": 28,
   "metadata": {},
   "outputs": [
    {
     "data": {
      "text/html": [
       "<div>\n",
       "<style scoped>\n",
       "    .dataframe tbody tr th:only-of-type {\n",
       "        vertical-align: middle;\n",
       "    }\n",
       "\n",
       "    .dataframe tbody tr th {\n",
       "        vertical-align: top;\n",
       "    }\n",
       "\n",
       "    .dataframe thead th {\n",
       "        text-align: right;\n",
       "    }\n",
       "</style>\n",
       "<table border=\"1\" class=\"dataframe\">\n",
       "  <thead>\n",
       "    <tr style=\"text-align: right;\">\n",
       "      <th></th>\n",
       "      <th>FIPS</th>\n",
       "      <th>Admin2</th>\n",
       "      <th>Province_State</th>\n",
       "      <th>Country_Region</th>\n",
       "      <th>Last_Update</th>\n",
       "      <th>Lat</th>\n",
       "      <th>Long_</th>\n",
       "      <th>Confirmed</th>\n",
       "      <th>Deaths</th>\n",
       "      <th>Recovered</th>\n",
       "      <th>Active</th>\n",
       "      <th>Combined_Key</th>\n",
       "      <th>Incident_Rate</th>\n",
       "      <th>Case_Fatality_Ratio</th>\n",
       "    </tr>\n",
       "  </thead>\n",
       "  <tbody>\n",
       "    <tr>\n",
       "      <th>4004</th>\n",
       "      <td>NaN</td>\n",
       "      <td>NaN</td>\n",
       "      <td>NaN</td>\n",
       "      <td>Zimbabwe</td>\n",
       "      <td>2021-10-16 04:21:15</td>\n",
       "      <td>-19.015438</td>\n",
       "      <td>29.154857</td>\n",
       "      <td>132285</td>\n",
       "      <td>4655</td>\n",
       "      <td>NaN</td>\n",
       "      <td>NaN</td>\n",
       "      <td>Zimbabwe</td>\n",
       "      <td>890.033302</td>\n",
       "      <td>3.518917</td>\n",
       "    </tr>\n",
       "    <tr>\n",
       "      <th>4003</th>\n",
       "      <td>NaN</td>\n",
       "      <td>NaN</td>\n",
       "      <td>NaN</td>\n",
       "      <td>Zambia</td>\n",
       "      <td>2021-10-16 04:21:15</td>\n",
       "      <td>-13.133897</td>\n",
       "      <td>27.849332</td>\n",
       "      <td>209477</td>\n",
       "      <td>3657</td>\n",
       "      <td>NaN</td>\n",
       "      <td>NaN</td>\n",
       "      <td>Zambia</td>\n",
       "      <td>1139.455512</td>\n",
       "      <td>1.745776</td>\n",
       "    </tr>\n",
       "    <tr>\n",
       "      <th>4002</th>\n",
       "      <td>NaN</td>\n",
       "      <td>NaN</td>\n",
       "      <td>NaN</td>\n",
       "      <td>Yemen</td>\n",
       "      <td>2021-10-16 04:21:15</td>\n",
       "      <td>15.552727</td>\n",
       "      <td>48.516388</td>\n",
       "      <td>9495</td>\n",
       "      <td>1798</td>\n",
       "      <td>NaN</td>\n",
       "      <td>NaN</td>\n",
       "      <td>Yemen</td>\n",
       "      <td>31.834675</td>\n",
       "      <td>18.936282</td>\n",
       "    </tr>\n",
       "    <tr>\n",
       "      <th>4001</th>\n",
       "      <td>NaN</td>\n",
       "      <td>NaN</td>\n",
       "      <td>NaN</td>\n",
       "      <td>West Bank and Gaza</td>\n",
       "      <td>2021-10-16 04:21:15</td>\n",
       "      <td>31.952200</td>\n",
       "      <td>35.233200</td>\n",
       "      <td>447032</td>\n",
       "      <td>4556</td>\n",
       "      <td>NaN</td>\n",
       "      <td>NaN</td>\n",
       "      <td>West Bank and Gaza</td>\n",
       "      <td>8762.900340</td>\n",
       "      <td>1.019166</td>\n",
       "    </tr>\n",
       "    <tr>\n",
       "      <th>4000</th>\n",
       "      <td>NaN</td>\n",
       "      <td>NaN</td>\n",
       "      <td>NaN</td>\n",
       "      <td>Vietnam</td>\n",
       "      <td>2021-10-16 04:21:15</td>\n",
       "      <td>14.058324</td>\n",
       "      <td>108.277199</td>\n",
       "      <td>857639</td>\n",
       "      <td>21043</td>\n",
       "      <td>NaN</td>\n",
       "      <td>NaN</td>\n",
       "      <td>Vietnam</td>\n",
       "      <td>881.088437</td>\n",
       "      <td>2.453596</td>\n",
       "    </tr>\n",
       "    <tr>\n",
       "      <th>...</th>\n",
       "      <td>...</td>\n",
       "      <td>...</td>\n",
       "      <td>...</td>\n",
       "      <td>...</td>\n",
       "      <td>...</td>\n",
       "      <td>...</td>\n",
       "      <td>...</td>\n",
       "      <td>...</td>\n",
       "      <td>...</td>\n",
       "      <td>...</td>\n",
       "      <td>...</td>\n",
       "      <td>...</td>\n",
       "      <td>...</td>\n",
       "      <td>...</td>\n",
       "    </tr>\n",
       "    <tr>\n",
       "      <th>4</th>\n",
       "      <td>NaN</td>\n",
       "      <td>NaN</td>\n",
       "      <td>NaN</td>\n",
       "      <td>Angola</td>\n",
       "      <td>2021-10-16 04:21:15</td>\n",
       "      <td>-11.202700</td>\n",
       "      <td>17.873900</td>\n",
       "      <td>62606</td>\n",
       "      <td>1660</td>\n",
       "      <td>NaN</td>\n",
       "      <td>NaN</td>\n",
       "      <td>Angola</td>\n",
       "      <td>190.487098</td>\n",
       "      <td>2.651503</td>\n",
       "    </tr>\n",
       "    <tr>\n",
       "      <th>3</th>\n",
       "      <td>NaN</td>\n",
       "      <td>NaN</td>\n",
       "      <td>NaN</td>\n",
       "      <td>Andorra</td>\n",
       "      <td>2021-10-16 04:21:15</td>\n",
       "      <td>42.506300</td>\n",
       "      <td>1.521800</td>\n",
       "      <td>15338</td>\n",
       "      <td>130</td>\n",
       "      <td>NaN</td>\n",
       "      <td>NaN</td>\n",
       "      <td>Andorra</td>\n",
       "      <td>19851.161587</td>\n",
       "      <td>0.847568</td>\n",
       "    </tr>\n",
       "    <tr>\n",
       "      <th>2</th>\n",
       "      <td>NaN</td>\n",
       "      <td>NaN</td>\n",
       "      <td>NaN</td>\n",
       "      <td>Algeria</td>\n",
       "      <td>2021-10-16 04:21:15</td>\n",
       "      <td>28.033900</td>\n",
       "      <td>1.659600</td>\n",
       "      <td>205106</td>\n",
       "      <td>5867</td>\n",
       "      <td>NaN</td>\n",
       "      <td>NaN</td>\n",
       "      <td>Algeria</td>\n",
       "      <td>467.733458</td>\n",
       "      <td>2.860472</td>\n",
       "    </tr>\n",
       "    <tr>\n",
       "      <th>1</th>\n",
       "      <td>NaN</td>\n",
       "      <td>NaN</td>\n",
       "      <td>NaN</td>\n",
       "      <td>Albania</td>\n",
       "      <td>2021-10-16 04:21:15</td>\n",
       "      <td>41.153300</td>\n",
       "      <td>20.168300</td>\n",
       "      <td>177108</td>\n",
       "      <td>2807</td>\n",
       "      <td>NaN</td>\n",
       "      <td>NaN</td>\n",
       "      <td>Albania</td>\n",
       "      <td>6154.284523</td>\n",
       "      <td>1.584909</td>\n",
       "    </tr>\n",
       "    <tr>\n",
       "      <th>0</th>\n",
       "      <td>NaN</td>\n",
       "      <td>NaN</td>\n",
       "      <td>NaN</td>\n",
       "      <td>Afghanistan</td>\n",
       "      <td>2021-10-16 04:21:15</td>\n",
       "      <td>33.939110</td>\n",
       "      <td>67.709953</td>\n",
       "      <td>155688</td>\n",
       "      <td>7238</td>\n",
       "      <td>NaN</td>\n",
       "      <td>NaN</td>\n",
       "      <td>Afghanistan</td>\n",
       "      <td>399.934844</td>\n",
       "      <td>4.649042</td>\n",
       "    </tr>\n",
       "  </tbody>\n",
       "</table>\n",
       "<p>4005 rows × 14 columns</p>\n",
       "</div>"
      ],
      "text/plain": [
       "      FIPS Admin2 Province_State      Country_Region          Last_Update  \\\n",
       "4004   NaN    NaN            NaN            Zimbabwe  2021-10-16 04:21:15   \n",
       "4003   NaN    NaN            NaN              Zambia  2021-10-16 04:21:15   \n",
       "4002   NaN    NaN            NaN               Yemen  2021-10-16 04:21:15   \n",
       "4001   NaN    NaN            NaN  West Bank and Gaza  2021-10-16 04:21:15   \n",
       "4000   NaN    NaN            NaN             Vietnam  2021-10-16 04:21:15   \n",
       "...    ...    ...            ...                 ...                  ...   \n",
       "4      NaN    NaN            NaN              Angola  2021-10-16 04:21:15   \n",
       "3      NaN    NaN            NaN             Andorra  2021-10-16 04:21:15   \n",
       "2      NaN    NaN            NaN             Algeria  2021-10-16 04:21:15   \n",
       "1      NaN    NaN            NaN             Albania  2021-10-16 04:21:15   \n",
       "0      NaN    NaN            NaN         Afghanistan  2021-10-16 04:21:15   \n",
       "\n",
       "            Lat       Long_  Confirmed  Deaths  Recovered  Active  \\\n",
       "4004 -19.015438   29.154857     132285    4655        NaN     NaN   \n",
       "4003 -13.133897   27.849332     209477    3657        NaN     NaN   \n",
       "4002  15.552727   48.516388       9495    1798        NaN     NaN   \n",
       "4001  31.952200   35.233200     447032    4556        NaN     NaN   \n",
       "4000  14.058324  108.277199     857639   21043        NaN     NaN   \n",
       "...         ...         ...        ...     ...        ...     ...   \n",
       "4    -11.202700   17.873900      62606    1660        NaN     NaN   \n",
       "3     42.506300    1.521800      15338     130        NaN     NaN   \n",
       "2     28.033900    1.659600     205106    5867        NaN     NaN   \n",
       "1     41.153300   20.168300     177108    2807        NaN     NaN   \n",
       "0     33.939110   67.709953     155688    7238        NaN     NaN   \n",
       "\n",
       "            Combined_Key  Incident_Rate  Case_Fatality_Ratio  \n",
       "4004            Zimbabwe     890.033302             3.518917  \n",
       "4003              Zambia    1139.455512             1.745776  \n",
       "4002               Yemen      31.834675            18.936282  \n",
       "4001  West Bank and Gaza    8762.900340             1.019166  \n",
       "4000             Vietnam     881.088437             2.453596  \n",
       "...                  ...            ...                  ...  \n",
       "4                 Angola     190.487098             2.651503  \n",
       "3                Andorra   19851.161587             0.847568  \n",
       "2                Algeria     467.733458             2.860472  \n",
       "1                Albania    6154.284523             1.584909  \n",
       "0            Afghanistan     399.934844             4.649042  \n",
       "\n",
       "[4005 rows x 14 columns]"
      ]
     },
     "execution_count": 28,
     "metadata": {},
     "output_type": "execute_result"
    }
   ],
   "source": [
    "daily_report.sort_index(ascending=False)"
   ]
  },
  {
   "cell_type": "markdown",
   "metadata": {
    "slideshow": {
     "slide_type": "subslide"
    }
   },
   "source": [
    "## 從資料框變數衍生計算\n",
    "\n",
    "- 簡單運算。\n",
    "- 使用 Pandas 的 `cut` 函數。\n",
    "- 使用 `Series` 的 `map` 方法。"
   ]
  },
  {
   "cell_type": "markdown",
   "metadata": {
    "slideshow": {
     "slide_type": "subslide"
    }
   },
   "source": [
    "## 簡單運算"
   ]
  },
  {
   "cell_type": "code",
   "execution_count": 29,
   "metadata": {},
   "outputs": [
    {
     "name": "stdout",
     "output_type": "stream",
     "text": [
      "0      NaN\n",
      "1      NaN\n",
      "2      NaN\n",
      "3      NaN\n",
      "4      NaN\n",
      "        ..\n",
      "4000   NaN\n",
      "4001   NaN\n",
      "4002   NaN\n",
      "4003   NaN\n",
      "4004   NaN\n",
      "Length: 4005, dtype: float64\n"
     ]
    }
   ],
   "source": [
    "active = daily_report['Confirmed'] - daily_report['Deaths'] - daily_report['Recovered']\n",
    "print(active)"
   ]
  },
  {
   "cell_type": "markdown",
   "metadata": {
    "slideshow": {
     "slide_type": "subslide"
    }
   },
   "source": [
    "## 使用 Pandas 的 `cut` 函數"
   ]
  },
  {
   "cell_type": "code",
   "execution_count": 30,
   "metadata": {},
   "outputs": [
    {
     "name": "stdout",
     "output_type": "stream",
     "text": [
      "0                   Above 100000\n",
      "1                   Above 100000\n",
      "2                   Above 100000\n",
      "3       Between 10000 and 100000\n",
      "4       Between 10000 and 100000\n",
      "                  ...           \n",
      "4000                Above 100000\n",
      "4001                Above 100000\n",
      "4002      Between 1000 and 10000\n",
      "4003                Above 100000\n",
      "4004                Above 100000\n",
      "Name: Confirmed, Length: 4005, dtype: category\n",
      "Categories (4, object): ['Less than 1000' < 'Between 1000 and 10000' < 'Between 10000 and 100000' < 'Above 100000']\n"
     ]
    }
   ],
   "source": [
    "cut_bins = [0, 1000, 10000, 100000, np.Inf]\n",
    "cut_labels = ['Less than 1000', 'Between 1000 and 10000', 'Between 10000 and 100000', 'Above 100000']\n",
    "confirmed_categorical = pd.cut(daily_report['Confirmed'], bins=cut_bins, labels=cut_labels, right=False)\n",
    "print(confirmed_categorical)"
   ]
  },
  {
   "cell_type": "markdown",
   "metadata": {
    "slideshow": {
     "slide_type": "subslide"
    }
   },
   "source": [
    "## 使用 `Series` 的 `map` 方法\n",
    "\n",
    "- 傳入一個 `dict`。\n",
    "- 傳入一個函數（或 Lambda 函數）。"
   ]
  },
  {
   "cell_type": "code",
   "execution_count": 31,
   "metadata": {
    "slideshow": {
     "slide_type": "subslide"
    }
   },
   "outputs": [
    {
     "data": {
      "text/plain": [
       "663    Taiwan\n",
       "Name: Country_Region, dtype: object"
      ]
     },
     "execution_count": 31,
     "metadata": {},
     "output_type": "execute_result"
    }
   ],
   "source": [
    "# Passing a dict\n",
    "country_name = {\n",
    "    'Taiwan*': 'Taiwan'\n",
    "}\n",
    "daily_report_tw = daily_report[is_taiwan]\n",
    "daily_report_tw['Country_Region'].map(country_name)"
   ]
  },
  {
   "cell_type": "code",
   "execution_count": 32,
   "metadata": {
    "slideshow": {
     "slide_type": "subslide"
    }
   },
   "outputs": [
    {
     "data": {
      "text/plain": [
       "0       Not US\n",
       "1       Not US\n",
       "2       Not US\n",
       "3       Not US\n",
       "4       Not US\n",
       "         ...  \n",
       "4000    Not US\n",
       "4001    Not US\n",
       "4002    Not US\n",
       "4003    Not US\n",
       "4004    Not US\n",
       "Name: Country_Region, Length: 4005, dtype: object"
      ]
     },
     "execution_count": 32,
     "metadata": {},
     "output_type": "execute_result"
    }
   ],
   "source": [
    "# Passing a function\n",
    "def is_us(x):\n",
    "    if x == 'US':\n",
    "        return 'US'\n",
    "    else:\n",
    "        return 'Not US'\n",
    "daily_report['Country_Region'].map(is_us)"
   ]
  },
  {
   "cell_type": "code",
   "execution_count": 33,
   "metadata": {
    "slideshow": {
     "slide_type": "subslide"
    }
   },
   "outputs": [
    {
     "data": {
      "text/plain": [
       "0       Not US\n",
       "1       Not US\n",
       "2       Not US\n",
       "3       Not US\n",
       "4       Not US\n",
       "         ...  \n",
       "4000    Not US\n",
       "4001    Not US\n",
       "4002    Not US\n",
       "4003    Not US\n",
       "4004    Not US\n",
       "Name: Country_Region, Length: 4005, dtype: object"
      ]
     },
     "execution_count": 33,
     "metadata": {},
     "output_type": "execute_result"
    }
   ],
   "source": [
    "# Passing a lambda expression)\n",
    "daily_report['Country_Region'].map(lambda x: 'US' if x == 'US' else 'Not US')"
   ]
  },
  {
   "cell_type": "markdown",
   "metadata": {
    "slideshow": {
     "slide_type": "subslide"
    }
   },
   "source": [
    "## 如何新增資料框的變數\n",
    "\n",
    "使用 `DataFrame` 的 `insert` 方法。"
   ]
  },
  {
   "cell_type": "code",
   "execution_count": 34,
   "metadata": {},
   "outputs": [
    {
     "name": "stdout",
     "output_type": "stream",
     "text": [
      "尚未有 10-16-2021 的每日報告。\n",
      "載入了 10-15-2021 的每日報告。\n",
      "Index(['FIPS', 'Admin2', 'Province_State', 'Country_Region', 'Last_Update',\n",
      "       'Lat', 'Long_', 'Confirmed', 'Deaths', 'Recovered', 'Active',\n",
      "       'Combined_Key', 'Incident_Rate', 'Case_Fatality_Ratio'],\n",
      "      dtype='object')\n",
      "Index(['active', 'FIPS', 'Admin2', 'Province_State', 'Country_Region',\n",
      "       'Last_Update', 'Lat', 'Long_', 'Confirmed', 'Deaths', 'Recovered',\n",
      "       'Active', 'Combined_Key', 'Incident_Rate', 'Case_Fatality_Ratio'],\n",
      "      dtype='object')\n"
     ]
    }
   ],
   "source": [
    "daily_report = get_latest_daily_report()\n",
    "print(daily_report.columns)\n",
    "new_column = daily_report['Confirmed'] - daily_report['Deaths'] - daily_report['Recovered']\n",
    "daily_report.insert(0, \"active\", new_column)\n",
    "print(daily_report.columns)"
   ]
  },
  {
   "cell_type": "markdown",
   "metadata": {
    "slideshow": {
     "slide_type": "subslide"
    }
   },
   "source": [
    "## 使用（呼叫）`Series` 的聚合方法摘要"
   ]
  },
  {
   "cell_type": "code",
   "execution_count": 35,
   "metadata": {},
   "outputs": [
    {
     "data": {
      "text/plain": [
       "240055011"
      ]
     },
     "execution_count": 35,
     "metadata": {},
     "output_type": "execute_result"
    }
   ],
   "source": [
    "daily_report['Confirmed'].sum()"
   ]
  },
  {
   "cell_type": "markdown",
   "metadata": {
    "slideshow": {
     "slide_type": "subslide"
    }
   },
   "source": [
    "## 使用（呼叫）`Series` 的 `groupby` 方法分組聚合"
   ]
  },
  {
   "cell_type": "code",
   "execution_count": 36,
   "metadata": {},
   "outputs": [
    {
     "data": {
      "text/plain": [
       "Country_Region\n",
       "Afghanistan           155688\n",
       "Albania               177108\n",
       "Algeria               205106\n",
       "Andorra                15338\n",
       "Angola                 62606\n",
       "                       ...  \n",
       "Vietnam               857639\n",
       "West Bank and Gaza    447032\n",
       "Yemen                   9495\n",
       "Zambia                209477\n",
       "Zimbabwe              132285\n",
       "Name: Confirmed, Length: 195, dtype: int64"
      ]
     },
     "execution_count": 36,
     "metadata": {},
     "output_type": "execute_result"
    }
   ],
   "source": [
    "daily_report.groupby('Country_Region')['Confirmed'].sum()"
   ]
  },
  {
   "cell_type": "markdown",
   "metadata": {
    "slideshow": {
     "slide_type": "slide"
    }
   },
   "source": [
    "## 進階的資料框操作"
   ]
  },
  {
   "cell_type": "markdown",
   "metadata": {
    "slideshow": {
     "slide_type": "subslide"
    }
   },
   "source": [
    "## 進階的資料框操作包含\n",
    "\n",
    "- 處理遺漏值（未定義值）。\n",
    "- 處理文字變數。\n",
    "- 轉置。\n",
    "- 合併資料框。"
   ]
  },
  {
   "cell_type": "markdown",
   "metadata": {
    "slideshow": {
     "slide_type": "subslide"
    }
   },
   "source": [
    "## 處理遺漏值（未定義值）\n",
    "\n",
    "- 使用（呼叫）`Series` 的 `isnull` 或者 `notnull` 方法來檢查遺漏值是否存在。\n",
    "- 使用（呼叫）`DataFrame` 的 `dropna` 方法刪除有遺漏值的觀測值或欄位。\n",
    "- 使用（呼叫）`Series` 的 `fillna` 方法填補遺漏值為指定資料。"
   ]
  },
  {
   "cell_type": "code",
   "execution_count": 37,
   "metadata": {
    "slideshow": {
     "slide_type": "subslide"
    }
   },
   "outputs": [
    {
     "name": "stdout",
     "output_type": "stream",
     "text": [
      "4005\n",
      "173\n",
      "3832\n"
     ]
    }
   ],
   "source": [
    "print(daily_report['Province_State'].size)\n",
    "print(daily_report['Province_State'].isnull().sum())\n",
    "print(daily_report['Province_State'].notnull().sum())"
   ]
  },
  {
   "cell_type": "code",
   "execution_count": 38,
   "metadata": {
    "slideshow": {
     "slide_type": "subslide"
    }
   },
   "outputs": [
    {
     "name": "stdout",
     "output_type": "stream",
     "text": [
      "(0, 15)\n",
      "0       0.0\n",
      "1       0.0\n",
      "2       0.0\n",
      "3       0.0\n",
      "4       0.0\n",
      "       ... \n",
      "4000    0.0\n",
      "4001    0.0\n",
      "4002    0.0\n",
      "4003    0.0\n",
      "4004    0.0\n",
      "Name: FIPS, Length: 4005, dtype: float64\n"
     ]
    }
   ],
   "source": [
    "print(daily_report.dropna().shape)\n",
    "print(daily_report['FIPS'].fillna(0))"
   ]
  },
  {
   "cell_type": "markdown",
   "metadata": {
    "slideshow": {
     "slide_type": "subslide"
    }
   },
   "source": [
    "## `Series` 摘要文字變數的方法\n",
    "\n",
    "- `unique`\n",
    "- `nunique`\n",
    "- `value_counts`"
   ]
  },
  {
   "cell_type": "code",
   "execution_count": 39,
   "metadata": {
    "slideshow": {
     "slide_type": "subslide"
    }
   },
   "outputs": [
    {
     "name": "stdout",
     "output_type": "stream",
     "text": [
      "195\n",
      "['Afghanistan' 'Albania' 'Algeria' 'Andorra' 'Angola'\n",
      " 'Antigua and Barbuda' 'Argentina' 'Armenia' 'Australia' 'Austria'\n",
      " 'Azerbaijan' 'Bahamas' 'Bahrain' 'Bangladesh' 'Barbados' 'Belarus'\n",
      " 'Belgium' 'Belize' 'Benin' 'Bhutan' 'Bolivia' 'Bosnia and Herzegovina'\n",
      " 'Botswana' 'Brazil' 'Brunei' 'Bulgaria' 'Burkina Faso' 'Burma' 'Burundi'\n",
      " 'Cabo Verde' 'Cambodia' 'Cameroon' 'Canada' 'Central African Republic'\n",
      " 'Chad' 'Chile' 'China' 'Colombia' 'Comoros' 'Congo (Brazzaville)'\n",
      " 'Congo (Kinshasa)' 'Costa Rica' \"Cote d'Ivoire\" 'Croatia' 'Cuba' 'Cyprus'\n",
      " 'Czechia' 'Denmark' 'Diamond Princess' 'Djibouti' 'Dominica'\n",
      " 'Dominican Republic' 'Ecuador' 'Egypt' 'El Salvador' 'Equatorial Guinea'\n",
      " 'Eritrea' 'Estonia' 'Eswatini' 'Ethiopia' 'Fiji' 'Finland' 'France'\n",
      " 'Gabon' 'Gambia' 'Georgia' 'Germany' 'Ghana' 'Greece' 'Grenada'\n",
      " 'Guatemala' 'Guinea' 'Guinea-Bissau' 'Guyana' 'Haiti' 'Holy See'\n",
      " 'Honduras' 'Hungary' 'Iceland' 'India' 'Indonesia' 'Iran' 'Iraq'\n",
      " 'Ireland' 'Israel' 'Italy' 'Jamaica' 'Japan' 'Jordan' 'Kazakhstan'\n",
      " 'Kenya' 'Kiribati' 'Korea, South' 'Kosovo' 'Kuwait' 'Kyrgyzstan' 'Laos'\n",
      " 'Latvia' 'Lebanon' 'Lesotho' 'Liberia' 'Libya' 'Liechtenstein'\n",
      " 'Lithuania' 'Luxembourg' 'MS Zaandam' 'Madagascar' 'Malawi' 'Malaysia'\n",
      " 'Maldives' 'Mali' 'Malta' 'Marshall Islands' 'Mauritania' 'Mauritius'\n",
      " 'Mexico' 'Micronesia' 'Moldova' 'Monaco' 'Mongolia' 'Montenegro'\n",
      " 'Morocco' 'Mozambique' 'Namibia' 'Nepal' 'Netherlands' 'New Zealand'\n",
      " 'Nicaragua' 'Niger' 'Nigeria' 'North Macedonia' 'Norway' 'Oman'\n",
      " 'Pakistan' 'Palau' 'Panama' 'Papua New Guinea' 'Paraguay' 'Peru'\n",
      " 'Philippines' 'Poland' 'Portugal' 'Qatar' 'Romania' 'Russia' 'Rwanda'\n",
      " 'Saint Kitts and Nevis' 'Saint Lucia' 'Saint Vincent and the Grenadines'\n",
      " 'Samoa' 'San Marino' 'Sao Tome and Principe' 'Saudi Arabia' 'Senegal'\n",
      " 'Serbia' 'Seychelles' 'Sierra Leone' 'Singapore' 'Slovakia' 'Slovenia'\n",
      " 'Solomon Islands' 'Somalia' 'South Africa' 'South Sudan' 'Spain'\n",
      " 'Sri Lanka' 'Sudan' 'Summer Olympics 2020' 'Suriname' 'Sweden'\n",
      " 'Switzerland' 'Syria' 'Taiwan*' 'Tajikistan' 'Tanzania' 'Thailand'\n",
      " 'Timor-Leste' 'Togo' 'Trinidad and Tobago' 'Tunisia' 'Turkey' 'US'\n",
      " 'Uganda' 'Ukraine' 'United Arab Emirates' 'United Kingdom' 'Uruguay'\n",
      " 'Uzbekistan' 'Vanuatu' 'Venezuela' 'Vietnam' 'West Bank and Gaza' 'Yemen'\n",
      " 'Zambia' 'Zimbabwe']\n"
     ]
    }
   ],
   "source": [
    "print(daily_report['Country_Region'].nunique())\n",
    "print(daily_report['Country_Region'].unique())"
   ]
  },
  {
   "cell_type": "code",
   "execution_count": 40,
   "metadata": {
    "slideshow": {
     "slide_type": "subslide"
    }
   },
   "outputs": [
    {
     "data": {
      "text/plain": [
       "US            3279\n",
       "Russia          83\n",
       "Japan           49\n",
       "India           37\n",
       "China           34\n",
       "              ... \n",
       "Mozambique       1\n",
       "Iceland          1\n",
       "Vietnam          1\n",
       "Dominica         1\n",
       "Mauritania       1\n",
       "Name: Country_Region, Length: 195, dtype: int64"
      ]
     },
     "execution_count": 40,
     "metadata": {},
     "output_type": "execute_result"
    }
   ],
   "source": [
    "daily_report['Country_Region'].value_counts().sort_values(ascending=False)"
   ]
  },
  {
   "cell_type": "markdown",
   "metadata": {
    "slideshow": {
     "slide_type": "subslide"
    }
   },
   "source": [
    "## 使用（呼叫）`Series` 的 `str.split` 方法切割文字"
   ]
  },
  {
   "cell_type": "code",
   "execution_count": 41,
   "metadata": {},
   "outputs": [
    {
     "data": {
      "text/html": [
       "<div>\n",
       "<style scoped>\n",
       "    .dataframe tbody tr th:only-of-type {\n",
       "        vertical-align: middle;\n",
       "    }\n",
       "\n",
       "    .dataframe tbody tr th {\n",
       "        vertical-align: top;\n",
       "    }\n",
       "\n",
       "    .dataframe thead th {\n",
       "        text-align: right;\n",
       "    }\n",
       "</style>\n",
       "<table border=\"1\" class=\"dataframe\">\n",
       "  <thead>\n",
       "    <tr style=\"text-align: right;\">\n",
       "      <th></th>\n",
       "      <th>Unnamed: 0</th>\n",
       "      <th>Rank &amp; Title</th>\n",
       "      <th>IMDb Rating</th>\n",
       "      <th>Your Rating</th>\n",
       "      <th>Unnamed: 4</th>\n",
       "    </tr>\n",
       "  </thead>\n",
       "  <tbody>\n",
       "    <tr>\n",
       "      <th>0</th>\n",
       "      <td>NaN</td>\n",
       "      <td>1.  刺激1995  (1994)</td>\n",
       "      <td>9.2</td>\n",
       "      <td>12345678910 NOT YET RELEASED  Seen</td>\n",
       "      <td>NaN</td>\n",
       "    </tr>\n",
       "    <tr>\n",
       "      <th>1</th>\n",
       "      <td>NaN</td>\n",
       "      <td>2.  教父  (1972)</td>\n",
       "      <td>9.1</td>\n",
       "      <td>12345678910 NOT YET RELEASED  Seen</td>\n",
       "      <td>NaN</td>\n",
       "    </tr>\n",
       "    <tr>\n",
       "      <th>2</th>\n",
       "      <td>NaN</td>\n",
       "      <td>3.  教父第二集  (1974)</td>\n",
       "      <td>9.0</td>\n",
       "      <td>12345678910 NOT YET RELEASED  Seen</td>\n",
       "      <td>NaN</td>\n",
       "    </tr>\n",
       "    <tr>\n",
       "      <th>3</th>\n",
       "      <td>NaN</td>\n",
       "      <td>4.  黑暗騎士  (2008)</td>\n",
       "      <td>9.0</td>\n",
       "      <td>12345678910 NOT YET RELEASED  Seen</td>\n",
       "      <td>NaN</td>\n",
       "    </tr>\n",
       "    <tr>\n",
       "      <th>4</th>\n",
       "      <td>NaN</td>\n",
       "      <td>5.  十二怒漢  (1957)</td>\n",
       "      <td>8.9</td>\n",
       "      <td>12345678910 NOT YET RELEASED  Seen</td>\n",
       "      <td>NaN</td>\n",
       "    </tr>\n",
       "  </tbody>\n",
       "</table>\n",
       "</div>"
      ],
      "text/plain": [
       "   Unnamed: 0        Rank & Title  IMDb Rating  \\\n",
       "0         NaN  1.  刺激1995  (1994)          9.2   \n",
       "1         NaN      2.  教父  (1972)          9.1   \n",
       "2         NaN   3.  教父第二集  (1974)          9.0   \n",
       "3         NaN    4.  黑暗騎士  (2008)          9.0   \n",
       "4         NaN    5.  十二怒漢  (1957)          8.9   \n",
       "\n",
       "                          Your Rating  Unnamed: 4  \n",
       "0  12345678910 NOT YET RELEASED  Seen         NaN  \n",
       "1  12345678910 NOT YET RELEASED  Seen         NaN  \n",
       "2  12345678910 NOT YET RELEASED  Seen         NaN  \n",
       "3  12345678910 NOT YET RELEASED  Seen         NaN  \n",
       "4  12345678910 NOT YET RELEASED  Seen         NaN  "
      ]
     },
     "execution_count": 41,
     "metadata": {},
     "output_type": "execute_result"
    }
   ],
   "source": [
    "request_url = \"https://www.imdb.com/chart/top\"\n",
    "html_tables = pd.read_html(request_url)\n",
    "html_table = html_tables[0]\n",
    "html_table.head()"
   ]
  },
  {
   "cell_type": "code",
   "execution_count": 42,
   "metadata": {
    "slideshow": {
     "slide_type": "subslide"
    }
   },
   "outputs": [
    {
     "data": {
      "text/plain": [
       "0        [1., 刺激1995, (1994)]\n",
       "1            [2., 教父, (1972)]\n",
       "2         [3., 教父第二集, (1974)]\n",
       "3          [4., 黑暗騎士, (2008)]\n",
       "4          [5., 十二怒漢, (1957)]\n",
       "                ...          \n",
       "245      [246., 公主新娘, (1987)]\n",
       "246     [247., 巴黎，德州, (1984)]\n",
       "247    [248., 卡比莉亞之夜, (1957)]\n",
       "248     [249., 橘子收成時, (2013)]\n",
       "249     [250., 男人的爭鬥, (1955)]\n",
       "Name: Rank & Title, Length: 250, dtype: object"
      ]
     },
     "execution_count": 42,
     "metadata": {},
     "output_type": "execute_result"
    }
   ],
   "source": [
    "html_table['Rank & Title'].str.split() # split as a Series"
   ]
  },
  {
   "cell_type": "code",
   "execution_count": 43,
   "metadata": {
    "slideshow": {
     "slide_type": "subslide"
    }
   },
   "outputs": [
    {
     "data": {
      "text/html": [
       "<div>\n",
       "<style scoped>\n",
       "    .dataframe tbody tr th:only-of-type {\n",
       "        vertical-align: middle;\n",
       "    }\n",
       "\n",
       "    .dataframe tbody tr th {\n",
       "        vertical-align: top;\n",
       "    }\n",
       "\n",
       "    .dataframe thead th {\n",
       "        text-align: right;\n",
       "    }\n",
       "</style>\n",
       "<table border=\"1\" class=\"dataframe\">\n",
       "  <thead>\n",
       "    <tr style=\"text-align: right;\">\n",
       "      <th></th>\n",
       "      <th>0</th>\n",
       "      <th>1</th>\n",
       "      <th>2</th>\n",
       "      <th>3</th>\n",
       "      <th>4</th>\n",
       "    </tr>\n",
       "  </thead>\n",
       "  <tbody>\n",
       "    <tr>\n",
       "      <th>0</th>\n",
       "      <td>1.</td>\n",
       "      <td>刺激1995</td>\n",
       "      <td>(1994)</td>\n",
       "      <td>None</td>\n",
       "      <td>None</td>\n",
       "    </tr>\n",
       "    <tr>\n",
       "      <th>1</th>\n",
       "      <td>2.</td>\n",
       "      <td>教父</td>\n",
       "      <td>(1972)</td>\n",
       "      <td>None</td>\n",
       "      <td>None</td>\n",
       "    </tr>\n",
       "    <tr>\n",
       "      <th>2</th>\n",
       "      <td>3.</td>\n",
       "      <td>教父第二集</td>\n",
       "      <td>(1974)</td>\n",
       "      <td>None</td>\n",
       "      <td>None</td>\n",
       "    </tr>\n",
       "    <tr>\n",
       "      <th>3</th>\n",
       "      <td>4.</td>\n",
       "      <td>黑暗騎士</td>\n",
       "      <td>(2008)</td>\n",
       "      <td>None</td>\n",
       "      <td>None</td>\n",
       "    </tr>\n",
       "    <tr>\n",
       "      <th>4</th>\n",
       "      <td>5.</td>\n",
       "      <td>十二怒漢</td>\n",
       "      <td>(1957)</td>\n",
       "      <td>None</td>\n",
       "      <td>None</td>\n",
       "    </tr>\n",
       "    <tr>\n",
       "      <th>...</th>\n",
       "      <td>...</td>\n",
       "      <td>...</td>\n",
       "      <td>...</td>\n",
       "      <td>...</td>\n",
       "      <td>...</td>\n",
       "    </tr>\n",
       "    <tr>\n",
       "      <th>245</th>\n",
       "      <td>246.</td>\n",
       "      <td>公主新娘</td>\n",
       "      <td>(1987)</td>\n",
       "      <td>None</td>\n",
       "      <td>None</td>\n",
       "    </tr>\n",
       "    <tr>\n",
       "      <th>246</th>\n",
       "      <td>247.</td>\n",
       "      <td>巴黎，德州</td>\n",
       "      <td>(1984)</td>\n",
       "      <td>None</td>\n",
       "      <td>None</td>\n",
       "    </tr>\n",
       "    <tr>\n",
       "      <th>247</th>\n",
       "      <td>248.</td>\n",
       "      <td>卡比莉亞之夜</td>\n",
       "      <td>(1957)</td>\n",
       "      <td>None</td>\n",
       "      <td>None</td>\n",
       "    </tr>\n",
       "    <tr>\n",
       "      <th>248</th>\n",
       "      <td>249.</td>\n",
       "      <td>橘子收成時</td>\n",
       "      <td>(2013)</td>\n",
       "      <td>None</td>\n",
       "      <td>None</td>\n",
       "    </tr>\n",
       "    <tr>\n",
       "      <th>249</th>\n",
       "      <td>250.</td>\n",
       "      <td>男人的爭鬥</td>\n",
       "      <td>(1955)</td>\n",
       "      <td>None</td>\n",
       "      <td>None</td>\n",
       "    </tr>\n",
       "  </tbody>\n",
       "</table>\n",
       "<p>250 rows × 5 columns</p>\n",
       "</div>"
      ],
      "text/plain": [
       "        0       1       2     3     4\n",
       "0      1.  刺激1995  (1994)  None  None\n",
       "1      2.      教父  (1972)  None  None\n",
       "2      3.   教父第二集  (1974)  None  None\n",
       "3      4.    黑暗騎士  (2008)  None  None\n",
       "4      5.    十二怒漢  (1957)  None  None\n",
       "..    ...     ...     ...   ...   ...\n",
       "245  246.    公主新娘  (1987)  None  None\n",
       "246  247.   巴黎，德州  (1984)  None  None\n",
       "247  248.  卡比莉亞之夜  (1957)  None  None\n",
       "248  249.   橘子收成時  (2013)  None  None\n",
       "249  250.   男人的爭鬥  (1955)  None  None\n",
       "\n",
       "[250 rows x 5 columns]"
      ]
     },
     "execution_count": 43,
     "metadata": {},
     "output_type": "execute_result"
    }
   ],
   "source": [
    "html_table['Rank & Title'].str.split(expand=True) # split as a DataFrame"
   ]
  },
  {
   "cell_type": "markdown",
   "metadata": {
    "slideshow": {
     "slide_type": "subslide"
    }
   },
   "source": [
    "## 使用（呼叫）`Series` 的 `str.replace` 方法取代文字中的指定特徵"
   ]
  },
  {
   "cell_type": "code",
   "execution_count": 44,
   "metadata": {},
   "outputs": [
    {
     "data": {
      "text/plain": [
       "0        1\n",
       "1        2\n",
       "2        3\n",
       "3        4\n",
       "4        5\n",
       "      ... \n",
       "245    246\n",
       "246    247\n",
       "247    248\n",
       "248    249\n",
       "249    250\n",
       "Name: 0, Length: 250, dtype: object"
      ]
     },
     "execution_count": 44,
     "metadata": {},
     "output_type": "execute_result"
    }
   ],
   "source": [
    "split_dataframe = html_table['Rank & Title'].str.split(expand=True)\n",
    "ranks = split_dataframe[0].str.replace(\".\", '', regex=False)\n",
    "ranks"
   ]
  },
  {
   "cell_type": "code",
   "execution_count": 45,
   "metadata": {
    "slideshow": {
     "slide_type": "subslide"
    }
   },
   "outputs": [
    {
     "data": {
      "text/plain": [
       "0      1994\n",
       "1      1972\n",
       "2      1974\n",
       "3      2008\n",
       "4      1957\n",
       "       ... \n",
       "245    1987\n",
       "246    1984\n",
       "247    1957\n",
       "248    2013\n",
       "249    1955\n",
       "Name: 2, Length: 250, dtype: object"
      ]
     },
     "execution_count": 45,
     "metadata": {},
     "output_type": "execute_result"
    }
   ],
   "source": [
    "split_dataframe = html_table['Rank & Title'].str.split(expand=True)\n",
    "years = split_dataframe[2].str.replace(\"\\(|\\)\", '', regex=True)\n",
    "years"
   ]
  },
  {
   "cell_type": "markdown",
   "metadata": {
    "slideshow": {
     "slide_type": "subslide"
    }
   },
   "source": [
    "## 使用（呼叫）`Series` 的 `str.contains` 方法判斷文字是否包含指定特徵"
   ]
  },
  {
   "cell_type": "code",
   "execution_count": 46,
   "metadata": {},
   "outputs": [
    {
     "name": "stdout",
     "output_type": "stream",
     "text": [
      "27\n"
     ]
    },
    {
     "data": {
      "text/html": [
       "<div>\n",
       "<style scoped>\n",
       "    .dataframe tbody tr th:only-of-type {\n",
       "        vertical-align: middle;\n",
       "    }\n",
       "\n",
       "    .dataframe tbody tr th {\n",
       "        vertical-align: top;\n",
       "    }\n",
       "\n",
       "    .dataframe thead th {\n",
       "        text-align: right;\n",
       "    }\n",
       "</style>\n",
       "<table border=\"1\" class=\"dataframe\">\n",
       "  <thead>\n",
       "    <tr style=\"text-align: right;\">\n",
       "      <th></th>\n",
       "      <th>active</th>\n",
       "      <th>FIPS</th>\n",
       "      <th>Admin2</th>\n",
       "      <th>Province_State</th>\n",
       "      <th>Country_Region</th>\n",
       "      <th>Last_Update</th>\n",
       "      <th>Lat</th>\n",
       "      <th>Long_</th>\n",
       "      <th>Confirmed</th>\n",
       "      <th>Deaths</th>\n",
       "      <th>Recovered</th>\n",
       "      <th>Active</th>\n",
       "      <th>Combined_Key</th>\n",
       "      <th>Incident_Rate</th>\n",
       "      <th>Case_Fatality_Ratio</th>\n",
       "    </tr>\n",
       "  </thead>\n",
       "  <tbody>\n",
       "    <tr>\n",
       "      <th>204</th>\n",
       "      <td>NaN</td>\n",
       "      <td>NaN</td>\n",
       "      <td>NaN</td>\n",
       "      <td>NaN</td>\n",
       "      <td>Finland</td>\n",
       "      <td>2021-10-16 04:21:15</td>\n",
       "      <td>61.92411</td>\n",
       "      <td>25.748151</td>\n",
       "      <td>149897</td>\n",
       "      <td>1116</td>\n",
       "      <td>NaN</td>\n",
       "      <td>NaN</td>\n",
       "      <td>Finland</td>\n",
       "      <td>2705.371398</td>\n",
       "      <td>0.744511</td>\n",
       "    </tr>\n",
       "    <tr>\n",
       "      <th>248</th>\n",
       "      <td>NaN</td>\n",
       "      <td>NaN</td>\n",
       "      <td>NaN</td>\n",
       "      <td>NaN</td>\n",
       "      <td>Iceland</td>\n",
       "      <td>2021-10-16 04:21:15</td>\n",
       "      <td>64.96310</td>\n",
       "      <td>-19.020800</td>\n",
       "      <td>12455</td>\n",
       "      <td>33</td>\n",
       "      <td>NaN</td>\n",
       "      <td>NaN</td>\n",
       "      <td>Iceland</td>\n",
       "      <td>3649.816850</td>\n",
       "      <td>0.264954</td>\n",
       "    </tr>\n",
       "    <tr>\n",
       "      <th>289</th>\n",
       "      <td>NaN</td>\n",
       "      <td>NaN</td>\n",
       "      <td>NaN</td>\n",
       "      <td>NaN</td>\n",
       "      <td>Ireland</td>\n",
       "      <td>2021-10-16 04:21:15</td>\n",
       "      <td>53.14240</td>\n",
       "      <td>-7.692100</td>\n",
       "      <td>411554</td>\n",
       "      <td>5306</td>\n",
       "      <td>NaN</td>\n",
       "      <td>NaN</td>\n",
       "      <td>Ireland</td>\n",
       "      <td>8334.771222</td>\n",
       "      <td>1.289260</td>\n",
       "    </tr>\n",
       "    <tr>\n",
       "      <th>402</th>\n",
       "      <td>NaN</td>\n",
       "      <td>NaN</td>\n",
       "      <td>NaN</td>\n",
       "      <td>NaN</td>\n",
       "      <td>Marshall Islands</td>\n",
       "      <td>2021-10-16 04:21:15</td>\n",
       "      <td>7.13150</td>\n",
       "      <td>171.184500</td>\n",
       "      <td>4</td>\n",
       "      <td>0</td>\n",
       "      <td>NaN</td>\n",
       "      <td>NaN</td>\n",
       "      <td>Marshall Islands</td>\n",
       "      <td>6.847791</td>\n",
       "      <td>0.000000</td>\n",
       "    </tr>\n",
       "    <tr>\n",
       "      <th>447</th>\n",
       "      <td>NaN</td>\n",
       "      <td>NaN</td>\n",
       "      <td>NaN</td>\n",
       "      <td>Aruba</td>\n",
       "      <td>Netherlands</td>\n",
       "      <td>2021-10-16 04:21:15</td>\n",
       "      <td>12.52110</td>\n",
       "      <td>-69.968300</td>\n",
       "      <td>15702</td>\n",
       "      <td>170</td>\n",
       "      <td>NaN</td>\n",
       "      <td>NaN</td>\n",
       "      <td>Aruba, Netherlands</td>\n",
       "      <td>14706.929172</td>\n",
       "      <td>1.082665</td>\n",
       "    </tr>\n",
       "  </tbody>\n",
       "</table>\n",
       "</div>"
      ],
      "text/plain": [
       "     active  FIPS Admin2 Province_State    Country_Region  \\\n",
       "204     NaN   NaN    NaN            NaN           Finland   \n",
       "248     NaN   NaN    NaN            NaN           Iceland   \n",
       "289     NaN   NaN    NaN            NaN           Ireland   \n",
       "402     NaN   NaN    NaN            NaN  Marshall Islands   \n",
       "447     NaN   NaN    NaN          Aruba       Netherlands   \n",
       "\n",
       "             Last_Update       Lat       Long_  Confirmed  Deaths  Recovered  \\\n",
       "204  2021-10-16 04:21:15  61.92411   25.748151     149897    1116        NaN   \n",
       "248  2021-10-16 04:21:15  64.96310  -19.020800      12455      33        NaN   \n",
       "289  2021-10-16 04:21:15  53.14240   -7.692100     411554    5306        NaN   \n",
       "402  2021-10-16 04:21:15   7.13150  171.184500          4       0        NaN   \n",
       "447  2021-10-16 04:21:15  12.52110  -69.968300      15702     170        NaN   \n",
       "\n",
       "     Active        Combined_Key  Incident_Rate  Case_Fatality_Ratio  \n",
       "204     NaN             Finland    2705.371398             0.744511  \n",
       "248     NaN             Iceland    3649.816850             0.264954  \n",
       "289     NaN             Ireland    8334.771222             1.289260  \n",
       "402     NaN    Marshall Islands       6.847791             0.000000  \n",
       "447     NaN  Aruba, Netherlands   14706.929172             1.082665  "
      ]
     },
     "execution_count": 46,
     "metadata": {},
     "output_type": "execute_result"
    }
   ],
   "source": [
    "print(daily_report['Country_Region'].str.contains('land').sum())\n",
    "daily_report[daily_report['Country_Region'].str.contains('land')].head()"
   ]
  },
  {
   "cell_type": "markdown",
   "metadata": {
    "slideshow": {
     "slide_type": "subslide"
    }
   },
   "source": [
    "## 轉置資料框的函數與方法\n",
    "\n",
    "- Pandas 的 `melt` 函數可以將資料框由寬格式（Wide format）轉換為長格式（Long format）\n",
    "- `DataFrame` 的 `pivot` 方法可以將資料框由長格式（Long format）轉換為寬格式（Wide format）。"
   ]
  },
  {
   "cell_type": "markdown",
   "metadata": {
    "slideshow": {
     "slide_type": "subslide"
    }
   },
   "source": [
    "## 什麼是寬格式、長格式？\n",
    "\n",
    "- 寬格式使用一個欄位，欄位名稱記錄變數類別、觀測值記錄其數值。 \n",
    "- 長格式使用兩個欄位，一個記錄變數類別、一個記錄數值。\n",
    "\n",
    "來源：<https://en.wikipedia.org/wiki/Wide_and_narrow_data>"
   ]
  },
  {
   "cell_type": "markdown",
   "metadata": {
    "slideshow": {
     "slide_type": "subslide"
    }
   },
   "source": [
    "## 為何需要轉置資料框？\n",
    "\n",
    "資料框的欄位名稱含有使用者需要的資料值或者儲存格式與應用情境不符。"
   ]
  },
  {
   "cell_type": "code",
   "execution_count": 47,
   "metadata": {},
   "outputs": [
    {
     "data": {
      "text/html": [
       "<div>\n",
       "<style scoped>\n",
       "    .dataframe tbody tr th:only-of-type {\n",
       "        vertical-align: middle;\n",
       "    }\n",
       "\n",
       "    .dataframe tbody tr th {\n",
       "        vertical-align: top;\n",
       "    }\n",
       "\n",
       "    .dataframe thead th {\n",
       "        text-align: right;\n",
       "    }\n",
       "</style>\n",
       "<table border=\"1\" class=\"dataframe\">\n",
       "  <thead>\n",
       "    <tr style=\"text-align: right;\">\n",
       "      <th></th>\n",
       "      <th>Province/State</th>\n",
       "      <th>Country/Region</th>\n",
       "      <th>Lat</th>\n",
       "      <th>Long</th>\n",
       "      <th>1/22/20</th>\n",
       "      <th>1/23/20</th>\n",
       "      <th>1/24/20</th>\n",
       "      <th>1/25/20</th>\n",
       "      <th>1/26/20</th>\n",
       "      <th>1/27/20</th>\n",
       "      <th>...</th>\n",
       "      <th>10/6/21</th>\n",
       "      <th>10/7/21</th>\n",
       "      <th>10/8/21</th>\n",
       "      <th>10/9/21</th>\n",
       "      <th>10/10/21</th>\n",
       "      <th>10/11/21</th>\n",
       "      <th>10/12/21</th>\n",
       "      <th>10/13/21</th>\n",
       "      <th>10/14/21</th>\n",
       "      <th>10/15/21</th>\n",
       "    </tr>\n",
       "  </thead>\n",
       "  <tbody>\n",
       "    <tr>\n",
       "      <th>0</th>\n",
       "      <td>NaN</td>\n",
       "      <td>Afghanistan</td>\n",
       "      <td>33.939110</td>\n",
       "      <td>67.709953</td>\n",
       "      <td>0</td>\n",
       "      <td>0</td>\n",
       "      <td>0</td>\n",
       "      <td>0</td>\n",
       "      <td>0</td>\n",
       "      <td>0</td>\n",
       "      <td>...</td>\n",
       "      <td>155380</td>\n",
       "      <td>155429</td>\n",
       "      <td>155448</td>\n",
       "      <td>155466</td>\n",
       "      <td>155508</td>\n",
       "      <td>155540</td>\n",
       "      <td>155599</td>\n",
       "      <td>155627</td>\n",
       "      <td>155682</td>\n",
       "      <td>155688</td>\n",
       "    </tr>\n",
       "    <tr>\n",
       "      <th>1</th>\n",
       "      <td>NaN</td>\n",
       "      <td>Albania</td>\n",
       "      <td>41.153300</td>\n",
       "      <td>20.168300</td>\n",
       "      <td>0</td>\n",
       "      <td>0</td>\n",
       "      <td>0</td>\n",
       "      <td>0</td>\n",
       "      <td>0</td>\n",
       "      <td>0</td>\n",
       "      <td>...</td>\n",
       "      <td>173190</td>\n",
       "      <td>173723</td>\n",
       "      <td>174168</td>\n",
       "      <td>174643</td>\n",
       "      <td>174968</td>\n",
       "      <td>175163</td>\n",
       "      <td>175664</td>\n",
       "      <td>176172</td>\n",
       "      <td>176667</td>\n",
       "      <td>177108</td>\n",
       "    </tr>\n",
       "    <tr>\n",
       "      <th>2</th>\n",
       "      <td>NaN</td>\n",
       "      <td>Algeria</td>\n",
       "      <td>28.033900</td>\n",
       "      <td>1.659600</td>\n",
       "      <td>0</td>\n",
       "      <td>0</td>\n",
       "      <td>0</td>\n",
       "      <td>0</td>\n",
       "      <td>0</td>\n",
       "      <td>0</td>\n",
       "      <td>...</td>\n",
       "      <td>204171</td>\n",
       "      <td>204276</td>\n",
       "      <td>204388</td>\n",
       "      <td>204490</td>\n",
       "      <td>204597</td>\n",
       "      <td>204695</td>\n",
       "      <td>204790</td>\n",
       "      <td>204900</td>\n",
       "      <td>205005</td>\n",
       "      <td>205106</td>\n",
       "    </tr>\n",
       "    <tr>\n",
       "      <th>3</th>\n",
       "      <td>NaN</td>\n",
       "      <td>Andorra</td>\n",
       "      <td>42.506300</td>\n",
       "      <td>1.521800</td>\n",
       "      <td>0</td>\n",
       "      <td>0</td>\n",
       "      <td>0</td>\n",
       "      <td>0</td>\n",
       "      <td>0</td>\n",
       "      <td>0</td>\n",
       "      <td>...</td>\n",
       "      <td>15284</td>\n",
       "      <td>15288</td>\n",
       "      <td>15291</td>\n",
       "      <td>15291</td>\n",
       "      <td>15291</td>\n",
       "      <td>15307</td>\n",
       "      <td>15307</td>\n",
       "      <td>15314</td>\n",
       "      <td>15326</td>\n",
       "      <td>15338</td>\n",
       "    </tr>\n",
       "    <tr>\n",
       "      <th>4</th>\n",
       "      <td>NaN</td>\n",
       "      <td>Angola</td>\n",
       "      <td>-11.202700</td>\n",
       "      <td>17.873900</td>\n",
       "      <td>0</td>\n",
       "      <td>0</td>\n",
       "      <td>0</td>\n",
       "      <td>0</td>\n",
       "      <td>0</td>\n",
       "      <td>0</td>\n",
       "      <td>...</td>\n",
       "      <td>60448</td>\n",
       "      <td>60803</td>\n",
       "      <td>61023</td>\n",
       "      <td>61245</td>\n",
       "      <td>61378</td>\n",
       "      <td>61580</td>\n",
       "      <td>61794</td>\n",
       "      <td>62143</td>\n",
       "      <td>62385</td>\n",
       "      <td>62606</td>\n",
       "    </tr>\n",
       "    <tr>\n",
       "      <th>...</th>\n",
       "      <td>...</td>\n",
       "      <td>...</td>\n",
       "      <td>...</td>\n",
       "      <td>...</td>\n",
       "      <td>...</td>\n",
       "      <td>...</td>\n",
       "      <td>...</td>\n",
       "      <td>...</td>\n",
       "      <td>...</td>\n",
       "      <td>...</td>\n",
       "      <td>...</td>\n",
       "      <td>...</td>\n",
       "      <td>...</td>\n",
       "      <td>...</td>\n",
       "      <td>...</td>\n",
       "      <td>...</td>\n",
       "      <td>...</td>\n",
       "      <td>...</td>\n",
       "      <td>...</td>\n",
       "      <td>...</td>\n",
       "      <td>...</td>\n",
       "    </tr>\n",
       "    <tr>\n",
       "      <th>274</th>\n",
       "      <td>NaN</td>\n",
       "      <td>Vietnam</td>\n",
       "      <td>14.058324</td>\n",
       "      <td>108.277199</td>\n",
       "      <td>0</td>\n",
       "      <td>2</td>\n",
       "      <td>2</td>\n",
       "      <td>2</td>\n",
       "      <td>2</td>\n",
       "      <td>2</td>\n",
       "      <td>...</td>\n",
       "      <td>822687</td>\n",
       "      <td>826837</td>\n",
       "      <td>831643</td>\n",
       "      <td>836134</td>\n",
       "      <td>839662</td>\n",
       "      <td>843281</td>\n",
       "      <td>846230</td>\n",
       "      <td>849691</td>\n",
       "      <td>853842</td>\n",
       "      <td>857639</td>\n",
       "    </tr>\n",
       "    <tr>\n",
       "      <th>275</th>\n",
       "      <td>NaN</td>\n",
       "      <td>West Bank and Gaza</td>\n",
       "      <td>31.952200</td>\n",
       "      <td>35.233200</td>\n",
       "      <td>0</td>\n",
       "      <td>0</td>\n",
       "      <td>0</td>\n",
       "      <td>0</td>\n",
       "      <td>0</td>\n",
       "      <td>0</td>\n",
       "      <td>...</td>\n",
       "      <td>439845</td>\n",
       "      <td>440936</td>\n",
       "      <td>441882</td>\n",
       "      <td>441882</td>\n",
       "      <td>441882</td>\n",
       "      <td>443766</td>\n",
       "      <td>444729</td>\n",
       "      <td>445538</td>\n",
       "      <td>446294</td>\n",
       "      <td>447032</td>\n",
       "    </tr>\n",
       "    <tr>\n",
       "      <th>276</th>\n",
       "      <td>NaN</td>\n",
       "      <td>Yemen</td>\n",
       "      <td>15.552727</td>\n",
       "      <td>48.516388</td>\n",
       "      <td>0</td>\n",
       "      <td>0</td>\n",
       "      <td>0</td>\n",
       "      <td>0</td>\n",
       "      <td>0</td>\n",
       "      <td>0</td>\n",
       "      <td>...</td>\n",
       "      <td>9271</td>\n",
       "      <td>9299</td>\n",
       "      <td>9333</td>\n",
       "      <td>9345</td>\n",
       "      <td>9369</td>\n",
       "      <td>9402</td>\n",
       "      <td>9412</td>\n",
       "      <td>9439</td>\n",
       "      <td>9467</td>\n",
       "      <td>9495</td>\n",
       "    </tr>\n",
       "    <tr>\n",
       "      <th>277</th>\n",
       "      <td>NaN</td>\n",
       "      <td>Zambia</td>\n",
       "      <td>-13.133897</td>\n",
       "      <td>27.849332</td>\n",
       "      <td>0</td>\n",
       "      <td>0</td>\n",
       "      <td>0</td>\n",
       "      <td>0</td>\n",
       "      <td>0</td>\n",
       "      <td>0</td>\n",
       "      <td>...</td>\n",
       "      <td>209248</td>\n",
       "      <td>209283</td>\n",
       "      <td>209315</td>\n",
       "      <td>209336</td>\n",
       "      <td>209347</td>\n",
       "      <td>209353</td>\n",
       "      <td>209396</td>\n",
       "      <td>209411</td>\n",
       "      <td>209431</td>\n",
       "      <td>209477</td>\n",
       "    </tr>\n",
       "    <tr>\n",
       "      <th>278</th>\n",
       "      <td>NaN</td>\n",
       "      <td>Zimbabwe</td>\n",
       "      <td>-19.015438</td>\n",
       "      <td>29.154857</td>\n",
       "      <td>0</td>\n",
       "      <td>0</td>\n",
       "      <td>0</td>\n",
       "      <td>0</td>\n",
       "      <td>0</td>\n",
       "      <td>0</td>\n",
       "      <td>...</td>\n",
       "      <td>131434</td>\n",
       "      <td>131523</td>\n",
       "      <td>131705</td>\n",
       "      <td>131762</td>\n",
       "      <td>131796</td>\n",
       "      <td>131875</td>\n",
       "      <td>132016</td>\n",
       "      <td>132108</td>\n",
       "      <td>132251</td>\n",
       "      <td>132285</td>\n",
       "    </tr>\n",
       "  </tbody>\n",
       "</table>\n",
       "<p>279 rows × 637 columns</p>\n",
       "</div>"
      ],
      "text/plain": [
       "    Province/State      Country/Region        Lat        Long  1/22/20  \\\n",
       "0              NaN         Afghanistan  33.939110   67.709953        0   \n",
       "1              NaN             Albania  41.153300   20.168300        0   \n",
       "2              NaN             Algeria  28.033900    1.659600        0   \n",
       "3              NaN             Andorra  42.506300    1.521800        0   \n",
       "4              NaN              Angola -11.202700   17.873900        0   \n",
       "..             ...                 ...        ...         ...      ...   \n",
       "274            NaN             Vietnam  14.058324  108.277199        0   \n",
       "275            NaN  West Bank and Gaza  31.952200   35.233200        0   \n",
       "276            NaN               Yemen  15.552727   48.516388        0   \n",
       "277            NaN              Zambia -13.133897   27.849332        0   \n",
       "278            NaN            Zimbabwe -19.015438   29.154857        0   \n",
       "\n",
       "     1/23/20  1/24/20  1/25/20  1/26/20  1/27/20  ...  10/6/21  10/7/21  \\\n",
       "0          0        0        0        0        0  ...   155380   155429   \n",
       "1          0        0        0        0        0  ...   173190   173723   \n",
       "2          0        0        0        0        0  ...   204171   204276   \n",
       "3          0        0        0        0        0  ...    15284    15288   \n",
       "4          0        0        0        0        0  ...    60448    60803   \n",
       "..       ...      ...      ...      ...      ...  ...      ...      ...   \n",
       "274        2        2        2        2        2  ...   822687   826837   \n",
       "275        0        0        0        0        0  ...   439845   440936   \n",
       "276        0        0        0        0        0  ...     9271     9299   \n",
       "277        0        0        0        0        0  ...   209248   209283   \n",
       "278        0        0        0        0        0  ...   131434   131523   \n",
       "\n",
       "     10/8/21  10/9/21  10/10/21  10/11/21  10/12/21  10/13/21  10/14/21  \\\n",
       "0     155448   155466    155508    155540    155599    155627    155682   \n",
       "1     174168   174643    174968    175163    175664    176172    176667   \n",
       "2     204388   204490    204597    204695    204790    204900    205005   \n",
       "3      15291    15291     15291     15307     15307     15314     15326   \n",
       "4      61023    61245     61378     61580     61794     62143     62385   \n",
       "..       ...      ...       ...       ...       ...       ...       ...   \n",
       "274   831643   836134    839662    843281    846230    849691    853842   \n",
       "275   441882   441882    441882    443766    444729    445538    446294   \n",
       "276     9333     9345      9369      9402      9412      9439      9467   \n",
       "277   209315   209336    209347    209353    209396    209411    209431   \n",
       "278   131705   131762    131796    131875    132016    132108    132251   \n",
       "\n",
       "     10/15/21  \n",
       "0      155688  \n",
       "1      177108  \n",
       "2      205106  \n",
       "3       15338  \n",
       "4       62606  \n",
       "..        ...  \n",
       "274    857639  \n",
       "275    447032  \n",
       "276      9495  \n",
       "277    209477  \n",
       "278    132285  \n",
       "\n",
       "[279 rows x 637 columns]"
      ]
     },
     "execution_count": 47,
     "metadata": {},
     "output_type": "execute_result"
    }
   ],
   "source": [
    "ts_confirmed_global_url = \"https://raw.githubusercontent.com/CSSEGISandData/COVID-19/master\\\n",
    "/csse_covid_19_data/csse_covid_19_time_series/\\\n",
    "time_series_covid19_confirmed_global.csv\"\n",
    "ts_confirmed_global = pd.read_csv(ts_confirmed_global_url)\n",
    "ts_confirmed_global"
   ]
  },
  {
   "cell_type": "markdown",
   "metadata": {
    "slideshow": {
     "slide_type": "subslide"
    }
   },
   "source": [
    "## 使用（呼叫）Pandas 的 `melt` 函數寬轉長\n",
    "\n",
    "- `id_vars`: `['Province/State', 'Country/Region', 'Lat', 'Long']`\n",
    "- `value_vars`: 從 `1/22/20` 開始到最後一個欄位。\n",
    "- `var_name`: 自訂為 `Date`。\n",
    "- `value_name`: 自訂為 `Confirmed`。"
   ]
  },
  {
   "cell_type": "code",
   "execution_count": 48,
   "metadata": {
    "slideshow": {
     "slide_type": "subslide"
    }
   },
   "outputs": [
    {
     "data": {
      "text/html": [
       "<div>\n",
       "<style scoped>\n",
       "    .dataframe tbody tr th:only-of-type {\n",
       "        vertical-align: middle;\n",
       "    }\n",
       "\n",
       "    .dataframe tbody tr th {\n",
       "        vertical-align: top;\n",
       "    }\n",
       "\n",
       "    .dataframe thead th {\n",
       "        text-align: right;\n",
       "    }\n",
       "</style>\n",
       "<table border=\"1\" class=\"dataframe\">\n",
       "  <thead>\n",
       "    <tr style=\"text-align: right;\">\n",
       "      <th></th>\n",
       "      <th>Province/State</th>\n",
       "      <th>Country/Region</th>\n",
       "      <th>Lat</th>\n",
       "      <th>Long</th>\n",
       "      <th>Date</th>\n",
       "      <th>Confirmed</th>\n",
       "    </tr>\n",
       "  </thead>\n",
       "  <tbody>\n",
       "    <tr>\n",
       "      <th>0</th>\n",
       "      <td>NaN</td>\n",
       "      <td>Afghanistan</td>\n",
       "      <td>33.939110</td>\n",
       "      <td>67.709953</td>\n",
       "      <td>1/22/20</td>\n",
       "      <td>0</td>\n",
       "    </tr>\n",
       "    <tr>\n",
       "      <th>1</th>\n",
       "      <td>NaN</td>\n",
       "      <td>Albania</td>\n",
       "      <td>41.153300</td>\n",
       "      <td>20.168300</td>\n",
       "      <td>1/22/20</td>\n",
       "      <td>0</td>\n",
       "    </tr>\n",
       "    <tr>\n",
       "      <th>2</th>\n",
       "      <td>NaN</td>\n",
       "      <td>Algeria</td>\n",
       "      <td>28.033900</td>\n",
       "      <td>1.659600</td>\n",
       "      <td>1/22/20</td>\n",
       "      <td>0</td>\n",
       "    </tr>\n",
       "    <tr>\n",
       "      <th>3</th>\n",
       "      <td>NaN</td>\n",
       "      <td>Andorra</td>\n",
       "      <td>42.506300</td>\n",
       "      <td>1.521800</td>\n",
       "      <td>1/22/20</td>\n",
       "      <td>0</td>\n",
       "    </tr>\n",
       "    <tr>\n",
       "      <th>4</th>\n",
       "      <td>NaN</td>\n",
       "      <td>Angola</td>\n",
       "      <td>-11.202700</td>\n",
       "      <td>17.873900</td>\n",
       "      <td>1/22/20</td>\n",
       "      <td>0</td>\n",
       "    </tr>\n",
       "    <tr>\n",
       "      <th>...</th>\n",
       "      <td>...</td>\n",
       "      <td>...</td>\n",
       "      <td>...</td>\n",
       "      <td>...</td>\n",
       "      <td>...</td>\n",
       "      <td>...</td>\n",
       "    </tr>\n",
       "    <tr>\n",
       "      <th>176602</th>\n",
       "      <td>NaN</td>\n",
       "      <td>Vietnam</td>\n",
       "      <td>14.058324</td>\n",
       "      <td>108.277199</td>\n",
       "      <td>10/15/21</td>\n",
       "      <td>857639</td>\n",
       "    </tr>\n",
       "    <tr>\n",
       "      <th>176603</th>\n",
       "      <td>NaN</td>\n",
       "      <td>West Bank and Gaza</td>\n",
       "      <td>31.952200</td>\n",
       "      <td>35.233200</td>\n",
       "      <td>10/15/21</td>\n",
       "      <td>447032</td>\n",
       "    </tr>\n",
       "    <tr>\n",
       "      <th>176604</th>\n",
       "      <td>NaN</td>\n",
       "      <td>Yemen</td>\n",
       "      <td>15.552727</td>\n",
       "      <td>48.516388</td>\n",
       "      <td>10/15/21</td>\n",
       "      <td>9495</td>\n",
       "    </tr>\n",
       "    <tr>\n",
       "      <th>176605</th>\n",
       "      <td>NaN</td>\n",
       "      <td>Zambia</td>\n",
       "      <td>-13.133897</td>\n",
       "      <td>27.849332</td>\n",
       "      <td>10/15/21</td>\n",
       "      <td>209477</td>\n",
       "    </tr>\n",
       "    <tr>\n",
       "      <th>176606</th>\n",
       "      <td>NaN</td>\n",
       "      <td>Zimbabwe</td>\n",
       "      <td>-19.015438</td>\n",
       "      <td>29.154857</td>\n",
       "      <td>10/15/21</td>\n",
       "      <td>132285</td>\n",
       "    </tr>\n",
       "  </tbody>\n",
       "</table>\n",
       "<p>176607 rows × 6 columns</p>\n",
       "</div>"
      ],
      "text/plain": [
       "       Province/State      Country/Region        Lat        Long      Date  \\\n",
       "0                 NaN         Afghanistan  33.939110   67.709953   1/22/20   \n",
       "1                 NaN             Albania  41.153300   20.168300   1/22/20   \n",
       "2                 NaN             Algeria  28.033900    1.659600   1/22/20   \n",
       "3                 NaN             Andorra  42.506300    1.521800   1/22/20   \n",
       "4                 NaN              Angola -11.202700   17.873900   1/22/20   \n",
       "...               ...                 ...        ...         ...       ...   \n",
       "176602            NaN             Vietnam  14.058324  108.277199  10/15/21   \n",
       "176603            NaN  West Bank and Gaza  31.952200   35.233200  10/15/21   \n",
       "176604            NaN               Yemen  15.552727   48.516388  10/15/21   \n",
       "176605            NaN              Zambia -13.133897   27.849332  10/15/21   \n",
       "176606            NaN            Zimbabwe -19.015438   29.154857  10/15/21   \n",
       "\n",
       "        Confirmed  \n",
       "0               0  \n",
       "1               0  \n",
       "2               0  \n",
       "3               0  \n",
       "4               0  \n",
       "...           ...  \n",
       "176602     857639  \n",
       "176603     447032  \n",
       "176604       9495  \n",
       "176605     209477  \n",
       "176606     132285  \n",
       "\n",
       "[176607 rows x 6 columns]"
      ]
     },
     "execution_count": 48,
     "metadata": {},
     "output_type": "execute_result"
    }
   ],
   "source": [
    "idVars = ['Province/State', 'Country/Region', 'Lat', 'Long']\n",
    "ts_confirmed_global_long = pd.melt(ts_confirmed_global,\n",
    "                                  id_vars=idVars,\n",
    "                                  var_name='Date',\n",
    "                                  value_name='Confirmed')\n",
    "ts_confirmed_global_long"
   ]
  },
  {
   "cell_type": "code",
   "execution_count": 49,
   "metadata": {
    "slideshow": {
     "slide_type": "subslide"
    }
   },
   "outputs": [
    {
     "data": {
      "text/html": [
       "<div>\n",
       "<style scoped>\n",
       "    .dataframe tbody tr th:only-of-type {\n",
       "        vertical-align: middle;\n",
       "    }\n",
       "\n",
       "    .dataframe tbody tr th {\n",
       "        vertical-align: top;\n",
       "    }\n",
       "\n",
       "    .dataframe thead th {\n",
       "        text-align: right;\n",
       "    }\n",
       "</style>\n",
       "<table border=\"1\" class=\"dataframe\">\n",
       "  <thead>\n",
       "    <tr style=\"text-align: right;\">\n",
       "      <th></th>\n",
       "      <th>Country/Region</th>\n",
       "      <th>Date</th>\n",
       "      <th>Confirmed</th>\n",
       "    </tr>\n",
       "  </thead>\n",
       "  <tbody>\n",
       "    <tr>\n",
       "      <th>0</th>\n",
       "      <td>Afghanistan</td>\n",
       "      <td>1/1/21</td>\n",
       "      <td>52513</td>\n",
       "    </tr>\n",
       "    <tr>\n",
       "      <th>1</th>\n",
       "      <td>Afghanistan</td>\n",
       "      <td>1/10/21</td>\n",
       "      <td>53489</td>\n",
       "    </tr>\n",
       "    <tr>\n",
       "      <th>2</th>\n",
       "      <td>Afghanistan</td>\n",
       "      <td>1/11/21</td>\n",
       "      <td>53538</td>\n",
       "    </tr>\n",
       "    <tr>\n",
       "      <th>3</th>\n",
       "      <td>Afghanistan</td>\n",
       "      <td>1/12/21</td>\n",
       "      <td>53584</td>\n",
       "    </tr>\n",
       "    <tr>\n",
       "      <th>4</th>\n",
       "      <td>Afghanistan</td>\n",
       "      <td>1/13/21</td>\n",
       "      <td>53690</td>\n",
       "    </tr>\n",
       "    <tr>\n",
       "      <th>...</th>\n",
       "      <td>...</td>\n",
       "      <td>...</td>\n",
       "      <td>...</td>\n",
       "    </tr>\n",
       "    <tr>\n",
       "      <th>123430</th>\n",
       "      <td>Zimbabwe</td>\n",
       "      <td>9/7/21</td>\n",
       "      <td>125796</td>\n",
       "    </tr>\n",
       "    <tr>\n",
       "      <th>123431</th>\n",
       "      <td>Zimbabwe</td>\n",
       "      <td>9/8/20</td>\n",
       "      <td>7388</td>\n",
       "    </tr>\n",
       "    <tr>\n",
       "      <th>123432</th>\n",
       "      <td>Zimbabwe</td>\n",
       "      <td>9/8/21</td>\n",
       "      <td>125931</td>\n",
       "    </tr>\n",
       "    <tr>\n",
       "      <th>123433</th>\n",
       "      <td>Zimbabwe</td>\n",
       "      <td>9/9/20</td>\n",
       "      <td>7429</td>\n",
       "    </tr>\n",
       "    <tr>\n",
       "      <th>123434</th>\n",
       "      <td>Zimbabwe</td>\n",
       "      <td>9/9/21</td>\n",
       "      <td>126056</td>\n",
       "    </tr>\n",
       "  </tbody>\n",
       "</table>\n",
       "<p>123435 rows × 3 columns</p>\n",
       "</div>"
      ],
      "text/plain": [
       "       Country/Region     Date  Confirmed\n",
       "0         Afghanistan   1/1/21      52513\n",
       "1         Afghanistan  1/10/21      53489\n",
       "2         Afghanistan  1/11/21      53538\n",
       "3         Afghanistan  1/12/21      53584\n",
       "4         Afghanistan  1/13/21      53690\n",
       "...               ...      ...        ...\n",
       "123430       Zimbabwe   9/7/21     125796\n",
       "123431       Zimbabwe   9/8/20       7388\n",
       "123432       Zimbabwe   9/8/21     125931\n",
       "123433       Zimbabwe   9/9/20       7429\n",
       "123434       Zimbabwe   9/9/21     126056\n",
       "\n",
       "[123435 rows x 3 columns]"
      ]
     },
     "execution_count": 49,
     "metadata": {},
     "output_type": "execute_result"
    }
   ],
   "source": [
    "ts_groupby_confirmed = ts_confirmed_global_long.groupby(['Country/Region', 'Date'])['Confirmed'].sum()\n",
    "ts_groupby_confirmed = pd.DataFrame(ts_groupby_confirmed).reset_index()\n",
    "ts_groupby_confirmed"
   ]
  },
  {
   "cell_type": "markdown",
   "metadata": {
    "slideshow": {
     "slide_type": "subslide"
    }
   },
   "source": [
    "## 使用（呼叫）`DataFrame` 的 `pivot` 方法長轉寬"
   ]
  },
  {
   "cell_type": "code",
   "execution_count": 50,
   "metadata": {},
   "outputs": [
    {
     "data": {
      "text/html": [
       "<div>\n",
       "<style scoped>\n",
       "    .dataframe tbody tr th:only-of-type {\n",
       "        vertical-align: middle;\n",
       "    }\n",
       "\n",
       "    .dataframe tbody tr th {\n",
       "        vertical-align: top;\n",
       "    }\n",
       "\n",
       "    .dataframe thead th {\n",
       "        text-align: right;\n",
       "    }\n",
       "</style>\n",
       "<table border=\"1\" class=\"dataframe\">\n",
       "  <thead>\n",
       "    <tr style=\"text-align: right;\">\n",
       "      <th>Date</th>\n",
       "      <th>1/1/21</th>\n",
       "      <th>1/10/21</th>\n",
       "      <th>1/11/21</th>\n",
       "      <th>1/12/21</th>\n",
       "      <th>1/13/21</th>\n",
       "      <th>1/14/21</th>\n",
       "      <th>1/15/21</th>\n",
       "      <th>1/16/21</th>\n",
       "      <th>1/17/21</th>\n",
       "      <th>1/18/21</th>\n",
       "      <th>...</th>\n",
       "      <th>9/5/20</th>\n",
       "      <th>9/5/21</th>\n",
       "      <th>9/6/20</th>\n",
       "      <th>9/6/21</th>\n",
       "      <th>9/7/20</th>\n",
       "      <th>9/7/21</th>\n",
       "      <th>9/8/20</th>\n",
       "      <th>9/8/21</th>\n",
       "      <th>9/9/20</th>\n",
       "      <th>9/9/21</th>\n",
       "    </tr>\n",
       "    <tr>\n",
       "      <th>Country/Region</th>\n",
       "      <th></th>\n",
       "      <th></th>\n",
       "      <th></th>\n",
       "      <th></th>\n",
       "      <th></th>\n",
       "      <th></th>\n",
       "      <th></th>\n",
       "      <th></th>\n",
       "      <th></th>\n",
       "      <th></th>\n",
       "      <th></th>\n",
       "      <th></th>\n",
       "      <th></th>\n",
       "      <th></th>\n",
       "      <th></th>\n",
       "      <th></th>\n",
       "      <th></th>\n",
       "      <th></th>\n",
       "      <th></th>\n",
       "      <th></th>\n",
       "      <th></th>\n",
       "    </tr>\n",
       "  </thead>\n",
       "  <tbody>\n",
       "    <tr>\n",
       "      <th>Afghanistan</th>\n",
       "      <td>52513</td>\n",
       "      <td>53489</td>\n",
       "      <td>53538</td>\n",
       "      <td>53584</td>\n",
       "      <td>53690</td>\n",
       "      <td>53775</td>\n",
       "      <td>53831</td>\n",
       "      <td>53938</td>\n",
       "      <td>53984</td>\n",
       "      <td>54062</td>\n",
       "      <td>...</td>\n",
       "      <td>38390</td>\n",
       "      <td>153423</td>\n",
       "      <td>38484</td>\n",
       "      <td>153534</td>\n",
       "      <td>38580</td>\n",
       "      <td>153626</td>\n",
       "      <td>38606</td>\n",
       "      <td>153736</td>\n",
       "      <td>38630</td>\n",
       "      <td>153840</td>\n",
       "    </tr>\n",
       "    <tr>\n",
       "      <th>Albania</th>\n",
       "      <td>58316</td>\n",
       "      <td>63595</td>\n",
       "      <td>63971</td>\n",
       "      <td>64627</td>\n",
       "      <td>65334</td>\n",
       "      <td>65994</td>\n",
       "      <td>66635</td>\n",
       "      <td>67216</td>\n",
       "      <td>67690</td>\n",
       "      <td>67982</td>\n",
       "      <td>...</td>\n",
       "      <td>10102</td>\n",
       "      <td>150997</td>\n",
       "      <td>10255</td>\n",
       "      <td>151499</td>\n",
       "      <td>10406</td>\n",
       "      <td>152239</td>\n",
       "      <td>10553</td>\n",
       "      <td>153318</td>\n",
       "      <td>10704</td>\n",
       "      <td>154316</td>\n",
       "    </tr>\n",
       "    <tr>\n",
       "      <th>Algeria</th>\n",
       "      <td>99897</td>\n",
       "      <td>102144</td>\n",
       "      <td>102369</td>\n",
       "      <td>102641</td>\n",
       "      <td>102860</td>\n",
       "      <td>103127</td>\n",
       "      <td>103381</td>\n",
       "      <td>103611</td>\n",
       "      <td>103833</td>\n",
       "      <td>104092</td>\n",
       "      <td>...</td>\n",
       "      <td>46071</td>\n",
       "      <td>198004</td>\n",
       "      <td>46364</td>\n",
       "      <td>198313</td>\n",
       "      <td>46653</td>\n",
       "      <td>198645</td>\n",
       "      <td>46938</td>\n",
       "      <td>198962</td>\n",
       "      <td>47216</td>\n",
       "      <td>199275</td>\n",
       "    </tr>\n",
       "    <tr>\n",
       "      <th>Andorra</th>\n",
       "      <td>8117</td>\n",
       "      <td>8586</td>\n",
       "      <td>8586</td>\n",
       "      <td>8682</td>\n",
       "      <td>8818</td>\n",
       "      <td>8868</td>\n",
       "      <td>8946</td>\n",
       "      <td>9038</td>\n",
       "      <td>9083</td>\n",
       "      <td>9083</td>\n",
       "      <td>...</td>\n",
       "      <td>1215</td>\n",
       "      <td>15055</td>\n",
       "      <td>1215</td>\n",
       "      <td>15069</td>\n",
       "      <td>1261</td>\n",
       "      <td>15070</td>\n",
       "      <td>1261</td>\n",
       "      <td>15070</td>\n",
       "      <td>1301</td>\n",
       "      <td>15078</td>\n",
       "    </tr>\n",
       "    <tr>\n",
       "      <th>Angola</th>\n",
       "      <td>17568</td>\n",
       "      <td>18193</td>\n",
       "      <td>18254</td>\n",
       "      <td>18343</td>\n",
       "      <td>18425</td>\n",
       "      <td>18613</td>\n",
       "      <td>18679</td>\n",
       "      <td>18765</td>\n",
       "      <td>18875</td>\n",
       "      <td>18926</td>\n",
       "      <td>...</td>\n",
       "      <td>2935</td>\n",
       "      <td>48656</td>\n",
       "      <td>2965</td>\n",
       "      <td>48790</td>\n",
       "      <td>2981</td>\n",
       "      <td>49114</td>\n",
       "      <td>3033</td>\n",
       "      <td>49349</td>\n",
       "      <td>3092</td>\n",
       "      <td>49628</td>\n",
       "    </tr>\n",
       "    <tr>\n",
       "      <th>...</th>\n",
       "      <td>...</td>\n",
       "      <td>...</td>\n",
       "      <td>...</td>\n",
       "      <td>...</td>\n",
       "      <td>...</td>\n",
       "      <td>...</td>\n",
       "      <td>...</td>\n",
       "      <td>...</td>\n",
       "      <td>...</td>\n",
       "      <td>...</td>\n",
       "      <td>...</td>\n",
       "      <td>...</td>\n",
       "      <td>...</td>\n",
       "      <td>...</td>\n",
       "      <td>...</td>\n",
       "      <td>...</td>\n",
       "      <td>...</td>\n",
       "      <td>...</td>\n",
       "      <td>...</td>\n",
       "      <td>...</td>\n",
       "      <td>...</td>\n",
       "    </tr>\n",
       "    <tr>\n",
       "      <th>Vietnam</th>\n",
       "      <td>1474</td>\n",
       "      <td>1514</td>\n",
       "      <td>1515</td>\n",
       "      <td>1520</td>\n",
       "      <td>1521</td>\n",
       "      <td>1531</td>\n",
       "      <td>1536</td>\n",
       "      <td>1537</td>\n",
       "      <td>1537</td>\n",
       "      <td>1539</td>\n",
       "      <td>...</td>\n",
       "      <td>1049</td>\n",
       "      <td>524307</td>\n",
       "      <td>1049</td>\n",
       "      <td>536788</td>\n",
       "      <td>1049</td>\n",
       "      <td>550996</td>\n",
       "      <td>1054</td>\n",
       "      <td>563676</td>\n",
       "      <td>1059</td>\n",
       "      <td>576096</td>\n",
       "    </tr>\n",
       "    <tr>\n",
       "      <th>West Bank and Gaza</th>\n",
       "      <td>139223</td>\n",
       "      <td>147400</td>\n",
       "      <td>148171</td>\n",
       "      <td>148968</td>\n",
       "      <td>149769</td>\n",
       "      <td>150505</td>\n",
       "      <td>151142</td>\n",
       "      <td>151569</td>\n",
       "      <td>152031</td>\n",
       "      <td>152555</td>\n",
       "      <td>...</td>\n",
       "      <td>25575</td>\n",
       "      <td>353732</td>\n",
       "      <td>26127</td>\n",
       "      <td>356474</td>\n",
       "      <td>26779</td>\n",
       "      <td>359236</td>\n",
       "      <td>27363</td>\n",
       "      <td>361881</td>\n",
       "      <td>27919</td>\n",
       "      <td>364364</td>\n",
       "    </tr>\n",
       "    <tr>\n",
       "      <th>Yemen</th>\n",
       "      <td>2101</td>\n",
       "      <td>2104</td>\n",
       "      <td>2105</td>\n",
       "      <td>2107</td>\n",
       "      <td>2109</td>\n",
       "      <td>2110</td>\n",
       "      <td>2111</td>\n",
       "      <td>2112</td>\n",
       "      <td>2112</td>\n",
       "      <td>2113</td>\n",
       "      <td>...</td>\n",
       "      <td>1983</td>\n",
       "      <td>8108</td>\n",
       "      <td>1987</td>\n",
       "      <td>8142</td>\n",
       "      <td>1989</td>\n",
       "      <td>8181</td>\n",
       "      <td>1994</td>\n",
       "      <td>8230</td>\n",
       "      <td>1999</td>\n",
       "      <td>8267</td>\n",
       "    </tr>\n",
       "    <tr>\n",
       "      <th>Zambia</th>\n",
       "      <td>20997</td>\n",
       "      <td>27728</td>\n",
       "      <td>28596</td>\n",
       "      <td>29757</td>\n",
       "      <td>31100</td>\n",
       "      <td>32800</td>\n",
       "      <td>34278</td>\n",
       "      <td>36074</td>\n",
       "      <td>37605</td>\n",
       "      <td>38207</td>\n",
       "      <td>...</td>\n",
       "      <td>12709</td>\n",
       "      <td>207114</td>\n",
       "      <td>12776</td>\n",
       "      <td>207167</td>\n",
       "      <td>12836</td>\n",
       "      <td>207294</td>\n",
       "      <td>12952</td>\n",
       "      <td>207442</td>\n",
       "      <td>13112</td>\n",
       "      <td>207560</td>\n",
       "    </tr>\n",
       "    <tr>\n",
       "      <th>Zimbabwe</th>\n",
       "      <td>14084</td>\n",
       "      <td>21477</td>\n",
       "      <td>22297</td>\n",
       "      <td>23239</td>\n",
       "      <td>24256</td>\n",
       "      <td>25368</td>\n",
       "      <td>26109</td>\n",
       "      <td>26881</td>\n",
       "      <td>27203</td>\n",
       "      <td>27892</td>\n",
       "      <td>...</td>\n",
       "      <td>6837</td>\n",
       "      <td>125550</td>\n",
       "      <td>6837</td>\n",
       "      <td>125671</td>\n",
       "      <td>7298</td>\n",
       "      <td>125796</td>\n",
       "      <td>7388</td>\n",
       "      <td>125931</td>\n",
       "      <td>7429</td>\n",
       "      <td>126056</td>\n",
       "    </tr>\n",
       "  </tbody>\n",
       "</table>\n",
       "<p>195 rows × 633 columns</p>\n",
       "</div>"
      ],
      "text/plain": [
       "Date                1/1/21  1/10/21  1/11/21  1/12/21  1/13/21  1/14/21  \\\n",
       "Country/Region                                                            \n",
       "Afghanistan          52513    53489    53538    53584    53690    53775   \n",
       "Albania              58316    63595    63971    64627    65334    65994   \n",
       "Algeria              99897   102144   102369   102641   102860   103127   \n",
       "Andorra               8117     8586     8586     8682     8818     8868   \n",
       "Angola               17568    18193    18254    18343    18425    18613   \n",
       "...                    ...      ...      ...      ...      ...      ...   \n",
       "Vietnam               1474     1514     1515     1520     1521     1531   \n",
       "West Bank and Gaza  139223   147400   148171   148968   149769   150505   \n",
       "Yemen                 2101     2104     2105     2107     2109     2110   \n",
       "Zambia               20997    27728    28596    29757    31100    32800   \n",
       "Zimbabwe             14084    21477    22297    23239    24256    25368   \n",
       "\n",
       "Date                1/15/21  1/16/21  1/17/21  1/18/21  ...  9/5/20  9/5/21  \\\n",
       "Country/Region                                          ...                   \n",
       "Afghanistan           53831    53938    53984    54062  ...   38390  153423   \n",
       "Albania               66635    67216    67690    67982  ...   10102  150997   \n",
       "Algeria              103381   103611   103833   104092  ...   46071  198004   \n",
       "Andorra                8946     9038     9083     9083  ...    1215   15055   \n",
       "Angola                18679    18765    18875    18926  ...    2935   48656   \n",
       "...                     ...      ...      ...      ...  ...     ...     ...   \n",
       "Vietnam                1536     1537     1537     1539  ...    1049  524307   \n",
       "West Bank and Gaza   151142   151569   152031   152555  ...   25575  353732   \n",
       "Yemen                  2111     2112     2112     2113  ...    1983    8108   \n",
       "Zambia                34278    36074    37605    38207  ...   12709  207114   \n",
       "Zimbabwe              26109    26881    27203    27892  ...    6837  125550   \n",
       "\n",
       "Date                9/6/20  9/6/21  9/7/20  9/7/21  9/8/20  9/8/21  9/9/20  \\\n",
       "Country/Region                                                               \n",
       "Afghanistan          38484  153534   38580  153626   38606  153736   38630   \n",
       "Albania              10255  151499   10406  152239   10553  153318   10704   \n",
       "Algeria              46364  198313   46653  198645   46938  198962   47216   \n",
       "Andorra               1215   15069    1261   15070    1261   15070    1301   \n",
       "Angola                2965   48790    2981   49114    3033   49349    3092   \n",
       "...                    ...     ...     ...     ...     ...     ...     ...   \n",
       "Vietnam               1049  536788    1049  550996    1054  563676    1059   \n",
       "West Bank and Gaza   26127  356474   26779  359236   27363  361881   27919   \n",
       "Yemen                 1987    8142    1989    8181    1994    8230    1999   \n",
       "Zambia               12776  207167   12836  207294   12952  207442   13112   \n",
       "Zimbabwe              6837  125671    7298  125796    7388  125931    7429   \n",
       "\n",
       "Date                9/9/21  \n",
       "Country/Region              \n",
       "Afghanistan         153840  \n",
       "Albania             154316  \n",
       "Algeria             199275  \n",
       "Andorra              15078  \n",
       "Angola               49628  \n",
       "...                    ...  \n",
       "Vietnam             576096  \n",
       "West Bank and Gaza  364364  \n",
       "Yemen                 8267  \n",
       "Zambia              207560  \n",
       "Zimbabwe            126056  \n",
       "\n",
       "[195 rows x 633 columns]"
      ]
     },
     "execution_count": 50,
     "metadata": {},
     "output_type": "execute_result"
    }
   ],
   "source": [
    "ts_groupby_confirmed.pivot(index='Country/Region', columns='Date', values='Confirmed')"
   ]
  },
  {
   "cell_type": "markdown",
   "metadata": {
    "slideshow": {
     "slide_type": "subslide"
    }
   },
   "source": [
    "## 合併資料框的函數與方法\n",
    "\n",
    "- 使用（呼叫）Pandas 的 `merge` 函數利用欄位名稱合併。\n",
    "- 使用（呼叫）`DataFrame` 的 `join` 方法利用資料框的列索引合併。"
   ]
  },
  {
   "cell_type": "code",
   "execution_count": 51,
   "metadata": {
    "slideshow": {
     "slide_type": "subslide"
    }
   },
   "outputs": [],
   "source": [
    "def get_top_rated_movies():\n",
    "    request_url = \"https://www.imdb.com/chart/top\"\n",
    "    html_tables = pd.read_html(request_url)\n",
    "    html_table = html_tables[0]\n",
    "    split_rank_title = html_table['Rank & Title'].str.split()\n",
    "    ranks, years, titles = [], [], []\n",
    "    for lst in split_rank_title: # for list in pd.Series\n",
    "        ranks.append(int(lst[0].replace(\".\", \"\")))\n",
    "        years.append(int(lst[-1].replace(\"(\", \"\").replace(\")\", \"\")))\n",
    "        titles.append(\"\".join(lst[1:-1]))\n",
    "    ratings = html_table['IMDb Rating'].values\n",
    "    out = pd.DataFrame()\n",
    "    out['rank'] = ranks\n",
    "    out['title'] = titles\n",
    "    out['year'] = years\n",
    "    out['rating'] = ratings\n",
    "    return out\n",
    "\n",
    "top_rated_movies = get_top_rated_movies()"
   ]
  },
  {
   "cell_type": "code",
   "execution_count": 52,
   "metadata": {
    "slideshow": {
     "slide_type": "subslide"
    }
   },
   "outputs": [
    {
     "data": {
      "text/html": [
       "<div>\n",
       "<style scoped>\n",
       "    .dataframe tbody tr th:only-of-type {\n",
       "        vertical-align: middle;\n",
       "    }\n",
       "\n",
       "    .dataframe tbody tr th {\n",
       "        vertical-align: top;\n",
       "    }\n",
       "\n",
       "    .dataframe thead th {\n",
       "        text-align: right;\n",
       "    }\n",
       "</style>\n",
       "<table border=\"1\" class=\"dataframe\">\n",
       "  <thead>\n",
       "    <tr style=\"text-align: right;\">\n",
       "      <th></th>\n",
       "      <th>title</th>\n",
       "      <th>year</th>\n",
       "    </tr>\n",
       "  </thead>\n",
       "  <tbody>\n",
       "    <tr>\n",
       "      <th>0</th>\n",
       "      <td>刺激1995</td>\n",
       "      <td>1994</td>\n",
       "    </tr>\n",
       "    <tr>\n",
       "      <th>1</th>\n",
       "      <td>教父</td>\n",
       "      <td>1972</td>\n",
       "    </tr>\n",
       "    <tr>\n",
       "      <th>2</th>\n",
       "      <td>教父第二集</td>\n",
       "      <td>1974</td>\n",
       "    </tr>\n",
       "    <tr>\n",
       "      <th>3</th>\n",
       "      <td>黑暗騎士</td>\n",
       "      <td>2008</td>\n",
       "    </tr>\n",
       "    <tr>\n",
       "      <th>4</th>\n",
       "      <td>十二怒漢</td>\n",
       "      <td>1957</td>\n",
       "    </tr>\n",
       "    <tr>\n",
       "      <th>5</th>\n",
       "      <td>辛德勒的名單</td>\n",
       "      <td>1993</td>\n",
       "    </tr>\n",
       "    <tr>\n",
       "      <th>6</th>\n",
       "      <td>魔戒三部曲：王者再臨</td>\n",
       "      <td>2003</td>\n",
       "    </tr>\n",
       "    <tr>\n",
       "      <th>7</th>\n",
       "      <td>黑色追緝令</td>\n",
       "      <td>1994</td>\n",
       "    </tr>\n",
       "    <tr>\n",
       "      <th>8</th>\n",
       "      <td>黃昏三鏢客</td>\n",
       "      <td>1966</td>\n",
       "    </tr>\n",
       "    <tr>\n",
       "      <th>9</th>\n",
       "      <td>魔戒首部曲：魔戒現身</td>\n",
       "      <td>2001</td>\n",
       "    </tr>\n",
       "  </tbody>\n",
       "</table>\n",
       "</div>"
      ],
      "text/plain": [
       "        title  year\n",
       "0      刺激1995  1994\n",
       "1          教父  1972\n",
       "2       教父第二集  1974\n",
       "3        黑暗騎士  2008\n",
       "4        十二怒漢  1957\n",
       "5      辛德勒的名單  1993\n",
       "6  魔戒三部曲：王者再臨  2003\n",
       "7       黑色追緝令  1994\n",
       "8       黃昏三鏢客  1966\n",
       "9  魔戒首部曲：魔戒現身  2001"
      ]
     },
     "execution_count": 52,
     "metadata": {},
     "output_type": "execute_result"
    }
   ],
   "source": [
    "left_df = top_rated_movies.loc[:9, ['title', 'year']]\n",
    "right_df = top_rated_movies[top_rated_movies['title'].str.contains('魔戒')][['title', 'rating']].reset_index(drop=True)\n",
    "left_df"
   ]
  },
  {
   "cell_type": "code",
   "execution_count": 53,
   "metadata": {
    "slideshow": {
     "slide_type": "subslide"
    }
   },
   "outputs": [
    {
     "data": {
      "text/html": [
       "<div>\n",
       "<style scoped>\n",
       "    .dataframe tbody tr th:only-of-type {\n",
       "        vertical-align: middle;\n",
       "    }\n",
       "\n",
       "    .dataframe tbody tr th {\n",
       "        vertical-align: top;\n",
       "    }\n",
       "\n",
       "    .dataframe thead th {\n",
       "        text-align: right;\n",
       "    }\n",
       "</style>\n",
       "<table border=\"1\" class=\"dataframe\">\n",
       "  <thead>\n",
       "    <tr style=\"text-align: right;\">\n",
       "      <th></th>\n",
       "      <th>title</th>\n",
       "      <th>rating</th>\n",
       "    </tr>\n",
       "  </thead>\n",
       "  <tbody>\n",
       "    <tr>\n",
       "      <th>0</th>\n",
       "      <td>魔戒三部曲：王者再臨</td>\n",
       "      <td>8.9</td>\n",
       "    </tr>\n",
       "    <tr>\n",
       "      <th>1</th>\n",
       "      <td>魔戒首部曲：魔戒現身</td>\n",
       "      <td>8.8</td>\n",
       "    </tr>\n",
       "    <tr>\n",
       "      <th>2</th>\n",
       "      <td>魔戒二部曲：雙城奇謀</td>\n",
       "      <td>8.7</td>\n",
       "    </tr>\n",
       "  </tbody>\n",
       "</table>\n",
       "</div>"
      ],
      "text/plain": [
       "        title  rating\n",
       "0  魔戒三部曲：王者再臨     8.9\n",
       "1  魔戒首部曲：魔戒現身     8.8\n",
       "2  魔戒二部曲：雙城奇謀     8.7"
      ]
     },
     "execution_count": 53,
     "metadata": {},
     "output_type": "execute_result"
    }
   ],
   "source": [
    "right_df"
   ]
  },
  {
   "cell_type": "markdown",
   "metadata": {
    "slideshow": {
     "slide_type": "subslide"
    }
   },
   "source": [
    "## 使用（呼叫）Pandas 的 `merge` 函數利用欄位名稱合併"
   ]
  },
  {
   "cell_type": "code",
   "execution_count": 54,
   "metadata": {},
   "outputs": [
    {
     "data": {
      "text/html": [
       "<div>\n",
       "<style scoped>\n",
       "    .dataframe tbody tr th:only-of-type {\n",
       "        vertical-align: middle;\n",
       "    }\n",
       "\n",
       "    .dataframe tbody tr th {\n",
       "        vertical-align: top;\n",
       "    }\n",
       "\n",
       "    .dataframe thead th {\n",
       "        text-align: right;\n",
       "    }\n",
       "</style>\n",
       "<table border=\"1\" class=\"dataframe\">\n",
       "  <thead>\n",
       "    <tr style=\"text-align: right;\">\n",
       "      <th></th>\n",
       "      <th>title</th>\n",
       "      <th>year</th>\n",
       "      <th>rating</th>\n",
       "    </tr>\n",
       "  </thead>\n",
       "  <tbody>\n",
       "    <tr>\n",
       "      <th>0</th>\n",
       "      <td>魔戒三部曲：王者再臨</td>\n",
       "      <td>2003</td>\n",
       "      <td>8.9</td>\n",
       "    </tr>\n",
       "    <tr>\n",
       "      <th>1</th>\n",
       "      <td>魔戒首部曲：魔戒現身</td>\n",
       "      <td>2001</td>\n",
       "      <td>8.8</td>\n",
       "    </tr>\n",
       "  </tbody>\n",
       "</table>\n",
       "</div>"
      ],
      "text/plain": [
       "        title  year  rating\n",
       "0  魔戒三部曲：王者再臨  2003     8.9\n",
       "1  魔戒首部曲：魔戒現身  2001     8.8"
      ]
     },
     "execution_count": 54,
     "metadata": {},
     "output_type": "execute_result"
    }
   ],
   "source": [
    "# default: inner join\n",
    "pd.merge(left_df, right_df)"
   ]
  },
  {
   "cell_type": "code",
   "execution_count": 55,
   "metadata": {
    "slideshow": {
     "slide_type": "subslide"
    }
   },
   "outputs": [
    {
     "data": {
      "text/html": [
       "<div>\n",
       "<style scoped>\n",
       "    .dataframe tbody tr th:only-of-type {\n",
       "        vertical-align: middle;\n",
       "    }\n",
       "\n",
       "    .dataframe tbody tr th {\n",
       "        vertical-align: top;\n",
       "    }\n",
       "\n",
       "    .dataframe thead th {\n",
       "        text-align: right;\n",
       "    }\n",
       "</style>\n",
       "<table border=\"1\" class=\"dataframe\">\n",
       "  <thead>\n",
       "    <tr style=\"text-align: right;\">\n",
       "      <th></th>\n",
       "      <th>title</th>\n",
       "      <th>year</th>\n",
       "      <th>rating</th>\n",
       "    </tr>\n",
       "  </thead>\n",
       "  <tbody>\n",
       "    <tr>\n",
       "      <th>0</th>\n",
       "      <td>刺激1995</td>\n",
       "      <td>1994</td>\n",
       "      <td>NaN</td>\n",
       "    </tr>\n",
       "    <tr>\n",
       "      <th>1</th>\n",
       "      <td>教父</td>\n",
       "      <td>1972</td>\n",
       "      <td>NaN</td>\n",
       "    </tr>\n",
       "    <tr>\n",
       "      <th>2</th>\n",
       "      <td>教父第二集</td>\n",
       "      <td>1974</td>\n",
       "      <td>NaN</td>\n",
       "    </tr>\n",
       "    <tr>\n",
       "      <th>3</th>\n",
       "      <td>黑暗騎士</td>\n",
       "      <td>2008</td>\n",
       "      <td>NaN</td>\n",
       "    </tr>\n",
       "    <tr>\n",
       "      <th>4</th>\n",
       "      <td>十二怒漢</td>\n",
       "      <td>1957</td>\n",
       "      <td>NaN</td>\n",
       "    </tr>\n",
       "    <tr>\n",
       "      <th>5</th>\n",
       "      <td>辛德勒的名單</td>\n",
       "      <td>1993</td>\n",
       "      <td>NaN</td>\n",
       "    </tr>\n",
       "    <tr>\n",
       "      <th>6</th>\n",
       "      <td>魔戒三部曲：王者再臨</td>\n",
       "      <td>2003</td>\n",
       "      <td>8.9</td>\n",
       "    </tr>\n",
       "    <tr>\n",
       "      <th>7</th>\n",
       "      <td>黑色追緝令</td>\n",
       "      <td>1994</td>\n",
       "      <td>NaN</td>\n",
       "    </tr>\n",
       "    <tr>\n",
       "      <th>8</th>\n",
       "      <td>黃昏三鏢客</td>\n",
       "      <td>1966</td>\n",
       "      <td>NaN</td>\n",
       "    </tr>\n",
       "    <tr>\n",
       "      <th>9</th>\n",
       "      <td>魔戒首部曲：魔戒現身</td>\n",
       "      <td>2001</td>\n",
       "      <td>8.8</td>\n",
       "    </tr>\n",
       "  </tbody>\n",
       "</table>\n",
       "</div>"
      ],
      "text/plain": [
       "        title  year  rating\n",
       "0      刺激1995  1994     NaN\n",
       "1          教父  1972     NaN\n",
       "2       教父第二集  1974     NaN\n",
       "3        黑暗騎士  2008     NaN\n",
       "4        十二怒漢  1957     NaN\n",
       "5      辛德勒的名單  1993     NaN\n",
       "6  魔戒三部曲：王者再臨  2003     8.9\n",
       "7       黑色追緝令  1994     NaN\n",
       "8       黃昏三鏢客  1966     NaN\n",
       "9  魔戒首部曲：魔戒現身  2001     8.8"
      ]
     },
     "execution_count": 55,
     "metadata": {},
     "output_type": "execute_result"
    }
   ],
   "source": [
    "# left join\n",
    "pd.merge(left_df, right_df, how='left')"
   ]
  },
  {
   "cell_type": "code",
   "execution_count": 56,
   "metadata": {
    "slideshow": {
     "slide_type": "subslide"
    }
   },
   "outputs": [
    {
     "data": {
      "text/html": [
       "<div>\n",
       "<style scoped>\n",
       "    .dataframe tbody tr th:only-of-type {\n",
       "        vertical-align: middle;\n",
       "    }\n",
       "\n",
       "    .dataframe tbody tr th {\n",
       "        vertical-align: top;\n",
       "    }\n",
       "\n",
       "    .dataframe thead th {\n",
       "        text-align: right;\n",
       "    }\n",
       "</style>\n",
       "<table border=\"1\" class=\"dataframe\">\n",
       "  <thead>\n",
       "    <tr style=\"text-align: right;\">\n",
       "      <th></th>\n",
       "      <th>title</th>\n",
       "      <th>year</th>\n",
       "      <th>rating</th>\n",
       "    </tr>\n",
       "  </thead>\n",
       "  <tbody>\n",
       "    <tr>\n",
       "      <th>0</th>\n",
       "      <td>魔戒三部曲：王者再臨</td>\n",
       "      <td>2003.0</td>\n",
       "      <td>8.9</td>\n",
       "    </tr>\n",
       "    <tr>\n",
       "      <th>1</th>\n",
       "      <td>魔戒首部曲：魔戒現身</td>\n",
       "      <td>2001.0</td>\n",
       "      <td>8.8</td>\n",
       "    </tr>\n",
       "    <tr>\n",
       "      <th>2</th>\n",
       "      <td>魔戒二部曲：雙城奇謀</td>\n",
       "      <td>NaN</td>\n",
       "      <td>8.7</td>\n",
       "    </tr>\n",
       "  </tbody>\n",
       "</table>\n",
       "</div>"
      ],
      "text/plain": [
       "        title    year  rating\n",
       "0  魔戒三部曲：王者再臨  2003.0     8.9\n",
       "1  魔戒首部曲：魔戒現身  2001.0     8.8\n",
       "2  魔戒二部曲：雙城奇謀     NaN     8.7"
      ]
     },
     "execution_count": 56,
     "metadata": {},
     "output_type": "execute_result"
    }
   ],
   "source": [
    "# right join\n",
    "pd.merge(left_df, right_df, how='right')"
   ]
  },
  {
   "cell_type": "code",
   "execution_count": 57,
   "metadata": {
    "slideshow": {
     "slide_type": "subslide"
    }
   },
   "outputs": [
    {
     "data": {
      "text/html": [
       "<div>\n",
       "<style scoped>\n",
       "    .dataframe tbody tr th:only-of-type {\n",
       "        vertical-align: middle;\n",
       "    }\n",
       "\n",
       "    .dataframe tbody tr th {\n",
       "        vertical-align: top;\n",
       "    }\n",
       "\n",
       "    .dataframe thead th {\n",
       "        text-align: right;\n",
       "    }\n",
       "</style>\n",
       "<table border=\"1\" class=\"dataframe\">\n",
       "  <thead>\n",
       "    <tr style=\"text-align: right;\">\n",
       "      <th></th>\n",
       "      <th>title</th>\n",
       "      <th>year</th>\n",
       "      <th>rating</th>\n",
       "    </tr>\n",
       "  </thead>\n",
       "  <tbody>\n",
       "    <tr>\n",
       "      <th>0</th>\n",
       "      <td>刺激1995</td>\n",
       "      <td>1994.0</td>\n",
       "      <td>NaN</td>\n",
       "    </tr>\n",
       "    <tr>\n",
       "      <th>1</th>\n",
       "      <td>教父</td>\n",
       "      <td>1972.0</td>\n",
       "      <td>NaN</td>\n",
       "    </tr>\n",
       "    <tr>\n",
       "      <th>2</th>\n",
       "      <td>教父第二集</td>\n",
       "      <td>1974.0</td>\n",
       "      <td>NaN</td>\n",
       "    </tr>\n",
       "    <tr>\n",
       "      <th>3</th>\n",
       "      <td>黑暗騎士</td>\n",
       "      <td>2008.0</td>\n",
       "      <td>NaN</td>\n",
       "    </tr>\n",
       "    <tr>\n",
       "      <th>4</th>\n",
       "      <td>十二怒漢</td>\n",
       "      <td>1957.0</td>\n",
       "      <td>NaN</td>\n",
       "    </tr>\n",
       "    <tr>\n",
       "      <th>5</th>\n",
       "      <td>辛德勒的名單</td>\n",
       "      <td>1993.0</td>\n",
       "      <td>NaN</td>\n",
       "    </tr>\n",
       "    <tr>\n",
       "      <th>6</th>\n",
       "      <td>魔戒三部曲：王者再臨</td>\n",
       "      <td>2003.0</td>\n",
       "      <td>8.9</td>\n",
       "    </tr>\n",
       "    <tr>\n",
       "      <th>7</th>\n",
       "      <td>黑色追緝令</td>\n",
       "      <td>1994.0</td>\n",
       "      <td>NaN</td>\n",
       "    </tr>\n",
       "    <tr>\n",
       "      <th>8</th>\n",
       "      <td>黃昏三鏢客</td>\n",
       "      <td>1966.0</td>\n",
       "      <td>NaN</td>\n",
       "    </tr>\n",
       "    <tr>\n",
       "      <th>9</th>\n",
       "      <td>魔戒首部曲：魔戒現身</td>\n",
       "      <td>2001.0</td>\n",
       "      <td>8.8</td>\n",
       "    </tr>\n",
       "    <tr>\n",
       "      <th>10</th>\n",
       "      <td>魔戒二部曲：雙城奇謀</td>\n",
       "      <td>NaN</td>\n",
       "      <td>8.7</td>\n",
       "    </tr>\n",
       "  </tbody>\n",
       "</table>\n",
       "</div>"
      ],
      "text/plain": [
       "         title    year  rating\n",
       "0       刺激1995  1994.0     NaN\n",
       "1           教父  1972.0     NaN\n",
       "2        教父第二集  1974.0     NaN\n",
       "3         黑暗騎士  2008.0     NaN\n",
       "4         十二怒漢  1957.0     NaN\n",
       "5       辛德勒的名單  1993.0     NaN\n",
       "6   魔戒三部曲：王者再臨  2003.0     8.9\n",
       "7        黑色追緝令  1994.0     NaN\n",
       "8        黃昏三鏢客  1966.0     NaN\n",
       "9   魔戒首部曲：魔戒現身  2001.0     8.8\n",
       "10  魔戒二部曲：雙城奇謀     NaN     8.7"
      ]
     },
     "execution_count": 57,
     "metadata": {},
     "output_type": "execute_result"
    }
   ],
   "source": [
    "# outer join\n",
    "pd.merge(left_df, right_df, how='outer')"
   ]
  },
  {
   "cell_type": "markdown",
   "metadata": {
    "slideshow": {
     "slide_type": "subslide"
    }
   },
   "source": [
    "## 使用（呼叫）DataFrame 的 `join` 方法利用資料框的列索引合併"
   ]
  },
  {
   "cell_type": "code",
   "execution_count": 58,
   "metadata": {},
   "outputs": [
    {
     "data": {
      "text/html": [
       "<div>\n",
       "<style scoped>\n",
       "    .dataframe tbody tr th:only-of-type {\n",
       "        vertical-align: middle;\n",
       "    }\n",
       "\n",
       "    .dataframe tbody tr th {\n",
       "        vertical-align: top;\n",
       "    }\n",
       "\n",
       "    .dataframe thead th {\n",
       "        text-align: right;\n",
       "    }\n",
       "</style>\n",
       "<table border=\"1\" class=\"dataframe\">\n",
       "  <thead>\n",
       "    <tr style=\"text-align: right;\">\n",
       "      <th></th>\n",
       "      <th>title_x</th>\n",
       "      <th>year</th>\n",
       "      <th>title_y</th>\n",
       "      <th>rating</th>\n",
       "    </tr>\n",
       "  </thead>\n",
       "  <tbody>\n",
       "    <tr>\n",
       "      <th>0</th>\n",
       "      <td>刺激1995</td>\n",
       "      <td>1994</td>\n",
       "      <td>魔戒三部曲：王者再臨</td>\n",
       "      <td>8.9</td>\n",
       "    </tr>\n",
       "    <tr>\n",
       "      <th>1</th>\n",
       "      <td>教父</td>\n",
       "      <td>1972</td>\n",
       "      <td>魔戒首部曲：魔戒現身</td>\n",
       "      <td>8.8</td>\n",
       "    </tr>\n",
       "    <tr>\n",
       "      <th>2</th>\n",
       "      <td>教父第二集</td>\n",
       "      <td>1974</td>\n",
       "      <td>魔戒二部曲：雙城奇謀</td>\n",
       "      <td>8.7</td>\n",
       "    </tr>\n",
       "    <tr>\n",
       "      <th>3</th>\n",
       "      <td>黑暗騎士</td>\n",
       "      <td>2008</td>\n",
       "      <td>NaN</td>\n",
       "      <td>NaN</td>\n",
       "    </tr>\n",
       "    <tr>\n",
       "      <th>4</th>\n",
       "      <td>十二怒漢</td>\n",
       "      <td>1957</td>\n",
       "      <td>NaN</td>\n",
       "      <td>NaN</td>\n",
       "    </tr>\n",
       "    <tr>\n",
       "      <th>5</th>\n",
       "      <td>辛德勒的名單</td>\n",
       "      <td>1993</td>\n",
       "      <td>NaN</td>\n",
       "      <td>NaN</td>\n",
       "    </tr>\n",
       "    <tr>\n",
       "      <th>6</th>\n",
       "      <td>魔戒三部曲：王者再臨</td>\n",
       "      <td>2003</td>\n",
       "      <td>NaN</td>\n",
       "      <td>NaN</td>\n",
       "    </tr>\n",
       "    <tr>\n",
       "      <th>7</th>\n",
       "      <td>黑色追緝令</td>\n",
       "      <td>1994</td>\n",
       "      <td>NaN</td>\n",
       "      <td>NaN</td>\n",
       "    </tr>\n",
       "    <tr>\n",
       "      <th>8</th>\n",
       "      <td>黃昏三鏢客</td>\n",
       "      <td>1966</td>\n",
       "      <td>NaN</td>\n",
       "      <td>NaN</td>\n",
       "    </tr>\n",
       "    <tr>\n",
       "      <th>9</th>\n",
       "      <td>魔戒首部曲：魔戒現身</td>\n",
       "      <td>2001</td>\n",
       "      <td>NaN</td>\n",
       "      <td>NaN</td>\n",
       "    </tr>\n",
       "  </tbody>\n",
       "</table>\n",
       "</div>"
      ],
      "text/plain": [
       "      title_x  year     title_y  rating\n",
       "0      刺激1995  1994  魔戒三部曲：王者再臨     8.9\n",
       "1          教父  1972  魔戒首部曲：魔戒現身     8.8\n",
       "2       教父第二集  1974  魔戒二部曲：雙城奇謀     8.7\n",
       "3        黑暗騎士  2008         NaN     NaN\n",
       "4        十二怒漢  1957         NaN     NaN\n",
       "5      辛德勒的名單  1993         NaN     NaN\n",
       "6  魔戒三部曲：王者再臨  2003         NaN     NaN\n",
       "7       黑色追緝令  1994         NaN     NaN\n",
       "8       黃昏三鏢客  1966         NaN     NaN\n",
       "9  魔戒首部曲：魔戒現身  2001         NaN     NaN"
      ]
     },
     "execution_count": 58,
     "metadata": {},
     "output_type": "execute_result"
    }
   ],
   "source": [
    "# join dataframes on index\n",
    "left_df.join(right_df, lsuffix='_x', rsuffix='_y')"
   ]
  },
  {
   "cell_type": "code",
   "execution_count": 59,
   "metadata": {
    "slideshow": {
     "slide_type": "subslide"
    }
   },
   "outputs": [
    {
     "data": {
      "text/html": [
       "<div>\n",
       "<style scoped>\n",
       "    .dataframe tbody tr th:only-of-type {\n",
       "        vertical-align: middle;\n",
       "    }\n",
       "\n",
       "    .dataframe tbody tr th {\n",
       "        vertical-align: top;\n",
       "    }\n",
       "\n",
       "    .dataframe thead th {\n",
       "        text-align: right;\n",
       "    }\n",
       "</style>\n",
       "<table border=\"1\" class=\"dataframe\">\n",
       "  <thead>\n",
       "    <tr style=\"text-align: right;\">\n",
       "      <th></th>\n",
       "      <th>year</th>\n",
       "      <th>rating</th>\n",
       "    </tr>\n",
       "    <tr>\n",
       "      <th>title</th>\n",
       "      <th></th>\n",
       "      <th></th>\n",
       "    </tr>\n",
       "  </thead>\n",
       "  <tbody>\n",
       "    <tr>\n",
       "      <th>刺激1995</th>\n",
       "      <td>1994</td>\n",
       "      <td>NaN</td>\n",
       "    </tr>\n",
       "    <tr>\n",
       "      <th>教父</th>\n",
       "      <td>1972</td>\n",
       "      <td>NaN</td>\n",
       "    </tr>\n",
       "    <tr>\n",
       "      <th>教父第二集</th>\n",
       "      <td>1974</td>\n",
       "      <td>NaN</td>\n",
       "    </tr>\n",
       "    <tr>\n",
       "      <th>黑暗騎士</th>\n",
       "      <td>2008</td>\n",
       "      <td>NaN</td>\n",
       "    </tr>\n",
       "    <tr>\n",
       "      <th>十二怒漢</th>\n",
       "      <td>1957</td>\n",
       "      <td>NaN</td>\n",
       "    </tr>\n",
       "    <tr>\n",
       "      <th>辛德勒的名單</th>\n",
       "      <td>1993</td>\n",
       "      <td>NaN</td>\n",
       "    </tr>\n",
       "    <tr>\n",
       "      <th>魔戒三部曲：王者再臨</th>\n",
       "      <td>2003</td>\n",
       "      <td>8.9</td>\n",
       "    </tr>\n",
       "    <tr>\n",
       "      <th>黑色追緝令</th>\n",
       "      <td>1994</td>\n",
       "      <td>NaN</td>\n",
       "    </tr>\n",
       "    <tr>\n",
       "      <th>黃昏三鏢客</th>\n",
       "      <td>1966</td>\n",
       "      <td>NaN</td>\n",
       "    </tr>\n",
       "    <tr>\n",
       "      <th>魔戒首部曲：魔戒現身</th>\n",
       "      <td>2001</td>\n",
       "      <td>8.8</td>\n",
       "    </tr>\n",
       "  </tbody>\n",
       "</table>\n",
       "</div>"
      ],
      "text/plain": [
       "            year  rating\n",
       "title                   \n",
       "刺激1995      1994     NaN\n",
       "教父          1972     NaN\n",
       "教父第二集       1974     NaN\n",
       "黑暗騎士        2008     NaN\n",
       "十二怒漢        1957     NaN\n",
       "辛德勒的名單      1993     NaN\n",
       "魔戒三部曲：王者再臨  2003     8.9\n",
       "黑色追緝令       1994     NaN\n",
       "黃昏三鏢客       1966     NaN\n",
       "魔戒首部曲：魔戒現身  2001     8.8"
      ]
     },
     "execution_count": 59,
     "metadata": {},
     "output_type": "execute_result"
    }
   ],
   "source": [
    "left_df = left_df.set_index('title')\n",
    "right_df = right_df.set_index('title')\n",
    "# default: left join\n",
    "left_df.join(right_df)"
   ]
  },
  {
   "cell_type": "code",
   "execution_count": 60,
   "metadata": {
    "slideshow": {
     "slide_type": "subslide"
    }
   },
   "outputs": [
    {
     "data": {
      "text/html": [
       "<div>\n",
       "<style scoped>\n",
       "    .dataframe tbody tr th:only-of-type {\n",
       "        vertical-align: middle;\n",
       "    }\n",
       "\n",
       "    .dataframe tbody tr th {\n",
       "        vertical-align: top;\n",
       "    }\n",
       "\n",
       "    .dataframe thead th {\n",
       "        text-align: right;\n",
       "    }\n",
       "</style>\n",
       "<table border=\"1\" class=\"dataframe\">\n",
       "  <thead>\n",
       "    <tr style=\"text-align: right;\">\n",
       "      <th></th>\n",
       "      <th>year</th>\n",
       "      <th>rating</th>\n",
       "    </tr>\n",
       "    <tr>\n",
       "      <th>title</th>\n",
       "      <th></th>\n",
       "      <th></th>\n",
       "    </tr>\n",
       "  </thead>\n",
       "  <tbody>\n",
       "    <tr>\n",
       "      <th>魔戒三部曲：王者再臨</th>\n",
       "      <td>2003</td>\n",
       "      <td>8.9</td>\n",
       "    </tr>\n",
       "    <tr>\n",
       "      <th>魔戒首部曲：魔戒現身</th>\n",
       "      <td>2001</td>\n",
       "      <td>8.8</td>\n",
       "    </tr>\n",
       "  </tbody>\n",
       "</table>\n",
       "</div>"
      ],
      "text/plain": [
       "            year  rating\n",
       "title                   \n",
       "魔戒三部曲：王者再臨  2003     8.9\n",
       "魔戒首部曲：魔戒現身  2001     8.8"
      ]
     },
     "execution_count": 60,
     "metadata": {},
     "output_type": "execute_result"
    }
   ],
   "source": [
    "# inner join\n",
    "left_df.join(right_df, how='inner')"
   ]
  },
  {
   "cell_type": "code",
   "execution_count": 61,
   "metadata": {
    "slideshow": {
     "slide_type": "subslide"
    }
   },
   "outputs": [
    {
     "data": {
      "text/html": [
       "<div>\n",
       "<style scoped>\n",
       "    .dataframe tbody tr th:only-of-type {\n",
       "        vertical-align: middle;\n",
       "    }\n",
       "\n",
       "    .dataframe tbody tr th {\n",
       "        vertical-align: top;\n",
       "    }\n",
       "\n",
       "    .dataframe thead th {\n",
       "        text-align: right;\n",
       "    }\n",
       "</style>\n",
       "<table border=\"1\" class=\"dataframe\">\n",
       "  <thead>\n",
       "    <tr style=\"text-align: right;\">\n",
       "      <th></th>\n",
       "      <th>year</th>\n",
       "      <th>rating</th>\n",
       "    </tr>\n",
       "    <tr>\n",
       "      <th>title</th>\n",
       "      <th></th>\n",
       "      <th></th>\n",
       "    </tr>\n",
       "  </thead>\n",
       "  <tbody>\n",
       "    <tr>\n",
       "      <th>魔戒三部曲：王者再臨</th>\n",
       "      <td>2003.0</td>\n",
       "      <td>8.9</td>\n",
       "    </tr>\n",
       "    <tr>\n",
       "      <th>魔戒首部曲：魔戒現身</th>\n",
       "      <td>2001.0</td>\n",
       "      <td>8.8</td>\n",
       "    </tr>\n",
       "    <tr>\n",
       "      <th>魔戒二部曲：雙城奇謀</th>\n",
       "      <td>NaN</td>\n",
       "      <td>8.7</td>\n",
       "    </tr>\n",
       "  </tbody>\n",
       "</table>\n",
       "</div>"
      ],
      "text/plain": [
       "              year  rating\n",
       "title                     \n",
       "魔戒三部曲：王者再臨  2003.0     8.9\n",
       "魔戒首部曲：魔戒現身  2001.0     8.8\n",
       "魔戒二部曲：雙城奇謀     NaN     8.7"
      ]
     },
     "execution_count": 61,
     "metadata": {},
     "output_type": "execute_result"
    }
   ],
   "source": [
    "# right join\n",
    "left_df.join(right_df, how='right')"
   ]
  },
  {
   "cell_type": "code",
   "execution_count": 62,
   "metadata": {
    "slideshow": {
     "slide_type": "subslide"
    }
   },
   "outputs": [
    {
     "data": {
      "text/html": [
       "<div>\n",
       "<style scoped>\n",
       "    .dataframe tbody tr th:only-of-type {\n",
       "        vertical-align: middle;\n",
       "    }\n",
       "\n",
       "    .dataframe tbody tr th {\n",
       "        vertical-align: top;\n",
       "    }\n",
       "\n",
       "    .dataframe thead th {\n",
       "        text-align: right;\n",
       "    }\n",
       "</style>\n",
       "<table border=\"1\" class=\"dataframe\">\n",
       "  <thead>\n",
       "    <tr style=\"text-align: right;\">\n",
       "      <th></th>\n",
       "      <th>year</th>\n",
       "      <th>rating</th>\n",
       "    </tr>\n",
       "    <tr>\n",
       "      <th>title</th>\n",
       "      <th></th>\n",
       "      <th></th>\n",
       "    </tr>\n",
       "  </thead>\n",
       "  <tbody>\n",
       "    <tr>\n",
       "      <th>刺激1995</th>\n",
       "      <td>1994.0</td>\n",
       "      <td>NaN</td>\n",
       "    </tr>\n",
       "    <tr>\n",
       "      <th>十二怒漢</th>\n",
       "      <td>1957.0</td>\n",
       "      <td>NaN</td>\n",
       "    </tr>\n",
       "    <tr>\n",
       "      <th>教父</th>\n",
       "      <td>1972.0</td>\n",
       "      <td>NaN</td>\n",
       "    </tr>\n",
       "    <tr>\n",
       "      <th>教父第二集</th>\n",
       "      <td>1974.0</td>\n",
       "      <td>NaN</td>\n",
       "    </tr>\n",
       "    <tr>\n",
       "      <th>辛德勒的名單</th>\n",
       "      <td>1993.0</td>\n",
       "      <td>NaN</td>\n",
       "    </tr>\n",
       "    <tr>\n",
       "      <th>魔戒三部曲：王者再臨</th>\n",
       "      <td>2003.0</td>\n",
       "      <td>8.9</td>\n",
       "    </tr>\n",
       "    <tr>\n",
       "      <th>魔戒二部曲：雙城奇謀</th>\n",
       "      <td>NaN</td>\n",
       "      <td>8.7</td>\n",
       "    </tr>\n",
       "    <tr>\n",
       "      <th>魔戒首部曲：魔戒現身</th>\n",
       "      <td>2001.0</td>\n",
       "      <td>8.8</td>\n",
       "    </tr>\n",
       "    <tr>\n",
       "      <th>黃昏三鏢客</th>\n",
       "      <td>1966.0</td>\n",
       "      <td>NaN</td>\n",
       "    </tr>\n",
       "    <tr>\n",
       "      <th>黑暗騎士</th>\n",
       "      <td>2008.0</td>\n",
       "      <td>NaN</td>\n",
       "    </tr>\n",
       "    <tr>\n",
       "      <th>黑色追緝令</th>\n",
       "      <td>1994.0</td>\n",
       "      <td>NaN</td>\n",
       "    </tr>\n",
       "  </tbody>\n",
       "</table>\n",
       "</div>"
      ],
      "text/plain": [
       "              year  rating\n",
       "title                     \n",
       "刺激1995      1994.0     NaN\n",
       "十二怒漢        1957.0     NaN\n",
       "教父          1972.0     NaN\n",
       "教父第二集       1974.0     NaN\n",
       "辛德勒的名單      1993.0     NaN\n",
       "魔戒三部曲：王者再臨  2003.0     8.9\n",
       "魔戒二部曲：雙城奇謀     NaN     8.7\n",
       "魔戒首部曲：魔戒現身  2001.0     8.8\n",
       "黃昏三鏢客       1966.0     NaN\n",
       "黑暗騎士        2008.0     NaN\n",
       "黑色追緝令       1994.0     NaN"
      ]
     },
     "execution_count": 62,
     "metadata": {},
     "output_type": "execute_result"
    }
   ],
   "source": [
    "# outer join\n",
    "left_df.join(right_df, how='outer')"
   ]
  }
 ],
 "metadata": {
  "celltoolbar": "Slideshow",
  "kernelspec": {
   "display_name": "Python Data Science",
   "language": "python",
   "name": "pyds"
  },
  "language_info": {
   "codemirror_mode": {
    "name": "ipython",
    "version": 3
   },
   "file_extension": ".py",
   "mimetype": "text/x-python",
   "name": "python",
   "nbconvert_exporter": "python",
   "pygments_lexer": "ipython3",
   "version": "3.8.10"
  }
 },
 "nbformat": 4,
 "nbformat_minor": 4
}
