{
 "cells": [
  {
   "cell_type": "markdown",
   "metadata": {
    "slideshow": {
     "slide_type": "slide"
    }
   },
   "source": [
    "# 以 Scikit-Learn 做機器學習\n",
    "\n",
    "[數據交點](https://www.datainpoint.com/) | 郭耀仁 <yaojenkuo@datainpoint.com>"
   ]
  },
  {
   "cell_type": "code",
   "execution_count": 1,
   "metadata": {
    "slideshow": {
     "slide_type": "subslide"
    }
   },
   "outputs": [],
   "source": [
    "import numpy as np\n",
    "import pandas as pd\n",
    "import matplotlib.pyplot as plt\n",
    "from sklearn.preprocessing import PolynomialFeatures\n",
    "from sklearn.preprocessing import StandardScaler\n",
    "from sklearn.linear_model import LinearRegression\n",
    "from sklearn.linear_model import Ridge\n",
    "from sklearn.linear_model import LogisticRegression\n",
    "from sklearn.svm import SVC\n",
    "from sklearn.model_selection import train_test_split\n",
    "from sklearn.metrics import mean_squared_error\n",
    "from sklearn.metrics import accuracy_score\n",
    "from xgboost import XGBRegressor\n",
    "from xgboost import XGBClassifier"
   ]
  },
  {
   "cell_type": "markdown",
   "metadata": {
    "slideshow": {
     "slide_type": "slide"
    }
   },
   "source": [
    "## 關於 Scikit-Learn"
   ]
  },
  {
   "cell_type": "markdown",
   "metadata": {
    "slideshow": {
     "slide_type": "subslide"
    }
   },
   "source": [
    "## 什麼是 Scikit-Learn?\n",
    "\n",
    "> Scikit-learn 是開源的機器學習模組，透過它可以進行監督式以及非監督式學習，它提供了模型配適、資料預處理、模型選擇以及模型評估等功能。\n",
    "\n",
    "來源：<https://scikit-learn.org>"
   ]
  },
  {
   "cell_type": "markdown",
   "metadata": {
    "slideshow": {
     "slide_type": "subslide"
    }
   },
   "source": [
    "## 以 `import` 指令載入 `sklearn`"
   ]
  },
  {
   "cell_type": "code",
   "execution_count": 2,
   "metadata": {},
   "outputs": [],
   "source": [
    "import sklearn"
   ]
  },
  {
   "cell_type": "markdown",
   "metadata": {
    "slideshow": {
     "slide_type": "subslide"
    }
   },
   "source": [
    "## 如果環境中沒有安裝 Scikit-Learn，載入時會遭遇 `ModuleNotFoundError`\n",
    "\n",
    "```\n",
    "Traceback (most recent call last):\n",
    "  File \"<stdin>\", line 1, in <module>\n",
    "ModuleNotFoundError: No module named 'sklearn'\n",
    "```"
   ]
  },
  {
   "cell_type": "markdown",
   "metadata": {
    "slideshow": {
     "slide_type": "subslide"
    }
   },
   "source": [
    "## 如果遭遇 ModuleNotFoundError 可以在終端機使用 `pip install` 指令安裝\n",
    "\n",
    "```bash\n",
    "pip install scikit-learn\n",
    "```"
   ]
  },
  {
   "cell_type": "markdown",
   "metadata": {
    "slideshow": {
     "slide_type": "subslide"
    }
   },
   "source": [
    "## 可以透過兩個屬性檢查版本號與安裝路徑\n",
    "\n",
    "- `__version__` 屬性檢查版本號。\n",
    "- `__file__` 屬性檢查安裝路徑。"
   ]
  },
  {
   "cell_type": "code",
   "execution_count": 3,
   "metadata": {},
   "outputs": [
    {
     "name": "stdout",
     "output_type": "stream",
     "text": [
      "0.24.2\n",
      "/Users/kuoyaojen/opt/miniconda3/envs/pyds/lib/python3.8/site-packages/sklearn/__init__.py\n"
     ]
    }
   ],
   "source": [
    "print(sklearn.__version__)\n",
    "print(sklearn.__file__)"
   ]
  },
  {
   "cell_type": "markdown",
   "metadata": {
    "slideshow": {
     "slide_type": "subslide"
    }
   },
   "source": [
    "## 我們通常使用 Scikit-Learn 特定類別或函數，因此多數的時候我們以 `from sklearn import FUNCTIONALITY` 載入指定的功能，而非 `import sklearn`"
   ]
  },
  {
   "cell_type": "markdown",
   "metadata": {
    "slideshow": {
     "slide_type": "subslide"
    }
   },
   "source": [
    "## 為什麼選擇 Scikit-Learn？\n",
    "\n",
    "Scikit-Learn 有著簡潔、一致且設計良善的應用程式介面設計，它的文件撰寫得相當完整而豐富，使用 Scikit-Learn 最大的好處在於它一致的應用程式介面，這讓使用者只要理解基礎用法和語法，就能延伸切換到其他的演算法或模型。"
   ]
  },
  {
   "cell_type": "markdown",
   "metadata": {
    "slideshow": {
     "slide_type": "subslide"
    }
   },
   "source": [
    "## Scikit-Learn 應用程式介面設計原則\n",
    "\n",
    "- **一致性**。\n",
    "- **可檢查性**。\n",
    "- 不擴增新類別。\n",
    "- 可組合性。\n",
    "- **合理預設參數**。"
   ]
  },
  {
   "cell_type": "markdown",
   "metadata": {
    "slideshow": {
     "slide_type": "slide"
    }
   },
   "source": [
    "## Scikit-Learn 起步走"
   ]
  },
  {
   "cell_type": "markdown",
   "metadata": {
    "slideshow": {
     "slide_type": "subslide"
    }
   },
   "source": [
    "## 什麼是機器學習？\n",
    "\n",
    "> A computer program is said to learn from experience E with respect to some class of tasks T and performance measure P if its performance at tasks in T, as measured by P, improves with experience E.\n",
    "\n",
    "來源：[Tom Mitchel](http://www.cs.cmu.edu/~tom/)"
   ]
  },
  {
   "cell_type": "markdown",
   "metadata": {
    "slideshow": {
     "slide_type": "subslide"
    }
   },
   "source": [
    "## 傳統透過電腦程式解決問題的方式示意圖\n",
    "\n",
    "![Imgur](https://i.imgur.com/3pojPXW.png?1)\n",
    "\n",
    "來源：<https://www.coursera.org/learn/introduction-tensorflow>"
   ]
  },
  {
   "cell_type": "markdown",
   "metadata": {
    "slideshow": {
     "slide_type": "subslide"
    }
   },
   "source": [
    "## 給定規則 $w$ 以及資料 $X$，我們就可以定義出函數 $f$ 生成答案 $y$\n",
    "\n",
    "\\begin{equation}\n",
    "y = f(X;w) = Xw\n",
    "\\end{equation}"
   ]
  },
  {
   "cell_type": "markdown",
   "metadata": {
    "slideshow": {
     "slide_type": "subslide"
    }
   },
   "source": [
    "## 以機器學習的電腦程式解決問題的方式示意圖\n",
    "\n",
    "![Imgur](https://i.imgur.com/YunyLd7.png)\n",
    "\n",
    "來源：<https://www.coursera.org/learn/introduction-tensorflow>"
   ]
  },
  {
   "cell_type": "markdown",
   "metadata": {
    "slideshow": {
     "slide_type": "subslide"
    }
   },
   "source": [
    "## 給定答案 $y$ 以及資料 $X$，機器學習的電腦程式在最小化損失函數 $J$ 的前提下生成規則 $w$\n",
    "\\begin{equation}\n",
    "minimize \\; J(w) \\\\\n",
    "subject \\; to \\; \\hat{y} = h(X; w) = Xw \\\\\n",
    "where \\; J(w) \\; \\text{measures the loss between} \\; y \\; \\text{and} \\; \\hat{y}\n",
    "\\end{equation}"
   ]
  },
  {
   "cell_type": "markdown",
   "metadata": {
    "slideshow": {
     "slide_type": "subslide"
    }
   },
   "source": [
    "## 預測數值時最常見的損失函數 $J$\n",
    "\n",
    "最小化均方誤差（Mean squared error）。\n",
    "\n",
    "\\begin{align}\n",
    "\\text{Minimize} \\; J(w) =  \\frac{1}{m} \\sum_i^m (y_i - \\hat{y_i})^2 \\\\\n",
    "= \\frac{1}{m} \\sum_i^m (y_i - x_i w)^2\n",
    "\\end{align}"
   ]
  },
  {
   "cell_type": "markdown",
   "metadata": {
    "slideshow": {
     "slide_type": "subslide"
    }
   },
   "source": [
    "## 預測類別時最常見的損失函數 $J$\n",
    "\n",
    "最小化預測錯誤個數。\n",
    "\n",
    "\\begin{align}\n",
    "\\text{Minimize} \\; J(w) = | y_i \\neq \\hat{y_i}| \\\\\n",
    "= | y_i \\neq \\sigma(x_iw)|\n",
    "\\end{align}"
   ]
  },
  {
   "cell_type": "markdown",
   "metadata": {
    "slideshow": {
     "slide_type": "subslide"
    }
   },
   "source": [
    "## 預測機率時最常見的損失函數 $J$\n",
    "\n",
    "最小化交叉熵。\n",
    "\n",
    "\\begin{align}\n",
    "\\text{Minimize} \\; J(w) = \\frac{1}{m} \\sum_i^m -y log \\big( \\sigma(x_iw) \\big) - (1-y) log \\Big( \\sigma \\big( 1 - \\sigma(x_iw) \\big) \\Big)\n",
    "\\end{align}"
   ]
  },
  {
   "cell_type": "markdown",
   "metadata": {
    "slideshow": {
     "slide_type": "subslide"
    }
   },
   "source": [
    "## Scikit-Learn 的資料表達\n",
    "\n",
    "- 外型 $(m, n)$ 的特徵矩陣 $X$。\n",
    "- 外型 $(m,)$ 或 $(m, 1)$ 的目標陣列 $y$。"
   ]
  },
  {
   "cell_type": "code",
   "execution_count": 4,
   "metadata": {
    "slideshow": {
     "slide_type": "skip"
    }
   },
   "outputs": [],
   "source": [
    "def plot_X_y():\n",
    "    fig = plt.figure(figsize=(6, 4))\n",
    "    ax = fig.add_axes([0, 0, 1, 1])\n",
    "    ax.axis('off')\n",
    "    ax.axis('equal')\n",
    "    # Draw features matrix\n",
    "    ax.vlines(range(6), ymin=0, ymax=9, lw=1)\n",
    "    ax.hlines(range(10), xmin=0, xmax=5, lw=1)\n",
    "    font_prop = dict(size=12, family='monospace')\n",
    "    ax.text(-1, -1, \"Feature Matrix ($X$)\", size=14)\n",
    "    ax.text(0.1, -0.3, r'n_features $\\longrightarrow$', **font_prop)\n",
    "    ax.text(-0.1, 0.1, r'$\\longleftarrow$ m_samples', rotation=90,\n",
    "            va='top', ha='right', **font_prop)\n",
    "    # Draw labels vector\n",
    "    ax.vlines(range(8, 10), ymin=0, ymax=9, lw=1)\n",
    "    ax.hlines(range(10), xmin=8, xmax=9, lw=1)\n",
    "    ax.text(7, -1, \"Target Array ($y$)\", size=14)\n",
    "    ax.text(7.9, 0.1, r'$\\longleftarrow$ m_samples', rotation=90,\n",
    "            va='top', ha='right', **font_prop)\n",
    "    ax.set_ylim(10, -2)\n",
    "    plt.show()"
   ]
  },
  {
   "cell_type": "code",
   "execution_count": 5,
   "metadata": {
    "slideshow": {
     "slide_type": "subslide"
    }
   },
   "outputs": [
    {
     "data": {
      "image/png": "[encoded data removed]",
      "text/plain": [
       "<Figure size 432x288 with 1 Axes>"
      ]
     },
     "metadata": {
      "needs_background": "light"
     },
     "output_type": "display_data"
    }
   ],
   "source": [
    "# 來源：<https://jakevdp.github.io/PythonDataScienceHandbook>\n",
    "plot_X_y()"
   ]
  },
  {
   "cell_type": "markdown",
   "metadata": {
    "slideshow": {
     "slide_type": "subslide"
    }
   },
   "source": [
    "## 如何從資料框中取出特徵矩陣與目標陣列"
   ]
  },
  {
   "cell_type": "code",
   "execution_count": 6,
   "metadata": {},
   "outputs": [
    {
     "name": "stdout",
     "output_type": "stream",
     "text": [
      "<class 'pandas.core.frame.DataFrame'>\n",
      "(503, 50)\n"
     ]
    }
   ],
   "source": [
    "csv_url = \"https://raw.githubusercontent.com/yaojenkuo/ml-newbies/master/player_stats.csv\"\n",
    "player_stats = pd.read_csv(csv_url)\n",
    "print(type(player_stats))\n",
    "print(player_stats.shape)"
   ]
  },
  {
   "cell_type": "code",
   "execution_count": 7,
   "metadata": {
    "slideshow": {
     "slide_type": "subslide"
    }
   },
   "outputs": [
    {
     "data": {
      "text/html": [
       "<div>\n",
       "<style scoped>\n",
       "    .dataframe tbody tr th:only-of-type {\n",
       "        vertical-align: middle;\n",
       "    }\n",
       "\n",
       "    .dataframe tbody tr th {\n",
       "        vertical-align: top;\n",
       "    }\n",
       "\n",
       "    .dataframe thead th {\n",
       "        text-align: right;\n",
       "    }\n",
       "</style>\n",
       "<table border=\"1\" class=\"dataframe\">\n",
       "  <thead>\n",
       "    <tr style=\"text-align: right;\">\n",
       "      <th></th>\n",
       "      <th>firstName</th>\n",
       "      <th>lastName</th>\n",
       "      <th>temporaryDisplayName</th>\n",
       "      <th>personId</th>\n",
       "      <th>teamId</th>\n",
       "      <th>jersey</th>\n",
       "      <th>isActive</th>\n",
       "      <th>pos</th>\n",
       "      <th>heightFeet</th>\n",
       "      <th>heightInches</th>\n",
       "      <th>...</th>\n",
       "      <th>ftm</th>\n",
       "      <th>fta</th>\n",
       "      <th>pFouls</th>\n",
       "      <th>points</th>\n",
       "      <th>gamesPlayed</th>\n",
       "      <th>gamesStarted</th>\n",
       "      <th>plusMinus</th>\n",
       "      <th>min</th>\n",
       "      <th>dd2</th>\n",
       "      <th>td3</th>\n",
       "    </tr>\n",
       "  </thead>\n",
       "  <tbody>\n",
       "    <tr>\n",
       "      <th>0</th>\n",
       "      <td>Precious</td>\n",
       "      <td>Achiuwa</td>\n",
       "      <td>Achiuwa, Precious</td>\n",
       "      <td>1630173</td>\n",
       "      <td>1610612748</td>\n",
       "      <td>5.0</td>\n",
       "      <td>True</td>\n",
       "      <td>F</td>\n",
       "      <td>6</td>\n",
       "      <td>8</td>\n",
       "      <td>...</td>\n",
       "      <td>56.0</td>\n",
       "      <td>110.0</td>\n",
       "      <td>91.0</td>\n",
       "      <td>304.0</td>\n",
       "      <td>61.0</td>\n",
       "      <td>4.0</td>\n",
       "      <td>-116.0</td>\n",
       "      <td>737.0</td>\n",
       "      <td>3.0</td>\n",
       "      <td>0.0</td>\n",
       "    </tr>\n",
       "    <tr>\n",
       "      <th>1</th>\n",
       "      <td>Steven</td>\n",
       "      <td>Adams</td>\n",
       "      <td>Adams, Steven</td>\n",
       "      <td>203500</td>\n",
       "      <td>1610612740</td>\n",
       "      <td>12.0</td>\n",
       "      <td>True</td>\n",
       "      <td>C</td>\n",
       "      <td>6</td>\n",
       "      <td>11</td>\n",
       "      <td>...</td>\n",
       "      <td>936.0</td>\n",
       "      <td>1708.0</td>\n",
       "      <td>1497.0</td>\n",
       "      <td>5629.0</td>\n",
       "      <td>588.0</td>\n",
       "      <td>524.0</td>\n",
       "      <td>1638.0</td>\n",
       "      <td>15812.0</td>\n",
       "      <td>125.0</td>\n",
       "      <td>1.0</td>\n",
       "    </tr>\n",
       "    <tr>\n",
       "      <th>2</th>\n",
       "      <td>Bam</td>\n",
       "      <td>Adebayo</td>\n",
       "      <td>Adebayo, Bam</td>\n",
       "      <td>1628389</td>\n",
       "      <td>1610612748</td>\n",
       "      <td>13.0</td>\n",
       "      <td>True</td>\n",
       "      <td>C-F</td>\n",
       "      <td>6</td>\n",
       "      <td>9</td>\n",
       "      <td>...</td>\n",
       "      <td>842.0</td>\n",
       "      <td>1141.0</td>\n",
       "      <td>668.0</td>\n",
       "      <td>3549.0</td>\n",
       "      <td>287.0</td>\n",
       "      <td>183.0</td>\n",
       "      <td>258.0</td>\n",
       "      <td>7840.0</td>\n",
       "      <td>91.0</td>\n",
       "      <td>5.0</td>\n",
       "    </tr>\n",
       "    <tr>\n",
       "      <th>3</th>\n",
       "      <td>Ty-Shon</td>\n",
       "      <td>Alexander</td>\n",
       "      <td>Alexander, Ty-Shon</td>\n",
       "      <td>1630234</td>\n",
       "      <td>1610612756</td>\n",
       "      <td>0.0</td>\n",
       "      <td>True</td>\n",
       "      <td>G</td>\n",
       "      <td>6</td>\n",
       "      <td>3</td>\n",
       "      <td>...</td>\n",
       "      <td>1.0</td>\n",
       "      <td>2.0</td>\n",
       "      <td>2.0</td>\n",
       "      <td>9.0</td>\n",
       "      <td>15.0</td>\n",
       "      <td>0.0</td>\n",
       "      <td>-8.0</td>\n",
       "      <td>47.0</td>\n",
       "      <td>0.0</td>\n",
       "      <td>0.0</td>\n",
       "    </tr>\n",
       "    <tr>\n",
       "      <th>4</th>\n",
       "      <td>Nickeil</td>\n",
       "      <td>Alexander-Walker</td>\n",
       "      <td>Alexander-Walker, Nickeil</td>\n",
       "      <td>1629638</td>\n",
       "      <td>1610612740</td>\n",
       "      <td>6.0</td>\n",
       "      <td>True</td>\n",
       "      <td>G</td>\n",
       "      <td>6</td>\n",
       "      <td>6</td>\n",
       "      <td>...</td>\n",
       "      <td>73.0</td>\n",
       "      <td>103.0</td>\n",
       "      <td>145.0</td>\n",
       "      <td>775.0</td>\n",
       "      <td>93.0</td>\n",
       "      <td>14.0</td>\n",
       "      <td>-105.0</td>\n",
       "      <td>1597.0</td>\n",
       "      <td>0.0</td>\n",
       "      <td>0.0</td>\n",
       "    </tr>\n",
       "  </tbody>\n",
       "</table>\n",
       "<p>5 rows × 50 columns</p>\n",
       "</div>"
      ],
      "text/plain": [
       "  firstName          lastName       temporaryDisplayName  personId  \\\n",
       "0  Precious           Achiuwa          Achiuwa, Precious   1630173   \n",
       "1    Steven             Adams              Adams, Steven    203500   \n",
       "2       Bam           Adebayo               Adebayo, Bam   1628389   \n",
       "3   Ty-Shon         Alexander         Alexander, Ty-Shon   1630234   \n",
       "4   Nickeil  Alexander-Walker  Alexander-Walker, Nickeil   1629638   \n",
       "\n",
       "       teamId  jersey  isActive  pos  heightFeet  heightInches  ...    ftm  \\\n",
       "0  1610612748     5.0      True    F           6             8  ...   56.0   \n",
       "1  1610612740    12.0      True    C           6            11  ...  936.0   \n",
       "2  1610612748    13.0      True  C-F           6             9  ...  842.0   \n",
       "3  1610612756     0.0      True    G           6             3  ...    1.0   \n",
       "4  1610612740     6.0      True    G           6             6  ...   73.0   \n",
       "\n",
       "      fta  pFouls  points  gamesPlayed  gamesStarted plusMinus      min  \\\n",
       "0   110.0    91.0   304.0         61.0           4.0    -116.0    737.0   \n",
       "1  1708.0  1497.0  5629.0        588.0         524.0    1638.0  15812.0   \n",
       "2  1141.0   668.0  3549.0        287.0         183.0     258.0   7840.0   \n",
       "3     2.0     2.0     9.0         15.0           0.0      -8.0     47.0   \n",
       "4   103.0   145.0   775.0         93.0          14.0    -105.0   1597.0   \n",
       "\n",
       "     dd2  td3  \n",
       "0    3.0  0.0  \n",
       "1  125.0  1.0  \n",
       "2   91.0  5.0  \n",
       "3    0.0  0.0  \n",
       "4    0.0  0.0  \n",
       "\n",
       "[5 rows x 50 columns]"
      ]
     },
     "execution_count": 7,
     "metadata": {},
     "output_type": "execute_result"
    }
   ],
   "source": [
    "player_stats.head()"
   ]
  },
  {
   "cell_type": "code",
   "execution_count": 8,
   "metadata": {
    "slideshow": {
     "slide_type": "subslide"
    }
   },
   "outputs": [
    {
     "name": "stdout",
     "output_type": "stream",
     "text": [
      "(503, 2)\n",
      "(503,)\n"
     ]
    }
   ],
   "source": [
    "X = player_stats[['apg', 'rpg']].values\n",
    "y = player_stats['pos'].values\n",
    "print(X.shape)\n",
    "print(y.shape)"
   ]
  },
  {
   "cell_type": "code",
   "execution_count": 9,
   "metadata": {
    "slideshow": {
     "slide_type": "subslide"
    }
   },
   "outputs": [
    {
     "name": "stdout",
     "output_type": "stream",
     "text": [
      "(503, 1)\n",
      "(503,)\n"
     ]
    }
   ],
   "source": [
    "X = player_stats['heightMeters'].values.reshape(-1, 1)\n",
    "y = player_stats['weightKilograms'].values\n",
    "print(X.shape)\n",
    "print(y.shape)"
   ]
  },
  {
   "cell_type": "markdown",
   "metadata": {
    "slideshow": {
     "slide_type": "slide"
    }
   },
   "source": [
    "## Scikit-Learn 估計器"
   ]
  },
  {
   "cell_type": "markdown",
   "metadata": {
    "slideshow": {
     "slide_type": "subslide"
    }
   },
   "source": [
    "## 估計器（Estimators）是 Scikit-Learn 創造的重要類別"
   ]
  },
  {
   "cell_type": "markdown",
   "metadata": {
    "slideshow": {
     "slide_type": "subslide"
    }
   },
   "source": [
    "## 兩種估計器\n",
    "\n",
    "1. 轉換器（Transformers）：用來預處理資料。\n",
    "2. 預測器（Predictors）：用來訓練資料、生成規則 $w$。"
   ]
  },
  {
   "cell_type": "markdown",
   "metadata": {
    "slideshow": {
     "slide_type": "subslide"
    }
   },
   "source": [
    "## 複習：Scikit-Learn 應用程式介面設計原則\n",
    "\n",
    "- **一致性**。\n",
    "- **可檢查性**。\n",
    "- 不擴增新類別。\n",
    "- 可組合性。\n",
    "- **合理預設參數**。"
   ]
  },
  {
   "cell_type": "markdown",
   "metadata": {
    "slideshow": {
     "slide_type": "subslide"
    }
   },
   "source": [
    "## 合理預設參數原則\n",
    "\n",
    "每個估計器都可以用預設參數初始化為物件（使類別實例化）。"
   ]
  },
  {
   "cell_type": "code",
   "execution_count": 10,
   "metadata": {
    "slideshow": {
     "slide_type": "subslide"
    }
   },
   "outputs": [],
   "source": [
    "# Two transformers\n",
    "poly = PolynomialFeatures()\n",
    "ss = StandardScaler()"
   ]
  },
  {
   "cell_type": "code",
   "execution_count": 11,
   "metadata": {
    "slideshow": {
     "slide_type": "-"
    }
   },
   "outputs": [],
   "source": [
    "# Two predictors\n",
    "lr = LinearRegression()\n",
    "ridge = Ridge()"
   ]
  },
  {
   "cell_type": "markdown",
   "metadata": {
    "slideshow": {
     "slide_type": "subslide"
    }
   },
   "source": [
    "## 一致性原則\n",
    "\n",
    "- 每個轉換器類別都有 `fit_transform()` 方法。\n",
    "- 每個預測器類別都有 `fit()` 與 `predict()` 方法。"
   ]
  },
  {
   "cell_type": "code",
   "execution_count": 12,
   "metadata": {
    "slideshow": {
     "slide_type": "subslide"
    }
   },
   "outputs": [],
   "source": [
    "# Two transformers\n",
    "X_poly = poly.fit_transform(X)\n",
    "X_ss = ss.fit_transform(X)"
   ]
  },
  {
   "cell_type": "code",
   "execution_count": 13,
   "metadata": {
    "slideshow": {
     "slide_type": "-"
    }
   },
   "outputs": [
    {
     "data": {
      "text/plain": [
       "Ridge()"
      ]
     },
     "execution_count": 13,
     "metadata": {},
     "output_type": "execute_result"
    }
   ],
   "source": [
    "# Two predictors\n",
    "lr.fit(X, y)\n",
    "ridge.fit(X, y)"
   ]
  },
  {
   "cell_type": "markdown",
   "metadata": {
    "slideshow": {
     "slide_type": "subslide"
    }
   },
   "source": [
    "## 可檢查性原則\n",
    "\n",
    "每個估計器類別都有屬性或方法讓使用者檢視轉換與預測的規則。"
   ]
  },
  {
   "cell_type": "code",
   "execution_count": 14,
   "metadata": {
    "slideshow": {
     "slide_type": "subslide"
    }
   },
   "outputs": [
    {
     "name": "stdout",
     "output_type": "stream",
     "text": [
      "{'degree': 2, 'include_bias': True, 'interaction_only': False, 'order': 'C'}\n",
      "[1.9887674]\n",
      "[0.08491413]\n"
     ]
    }
   ],
   "source": [
    "# Two transformers\n",
    "print(poly.get_params())\n",
    "print(ss.mean_)\n",
    "print(ss.scale_)"
   ]
  },
  {
   "cell_type": "code",
   "execution_count": 15,
   "metadata": {
    "slideshow": {
     "slide_type": "-"
    }
   },
   "outputs": [
    {
     "name": "stdout",
     "output_type": "stream",
     "text": [
      "-103.98696452290916\n",
      "[101.73033754]\n",
      "1.0\n"
     ]
    }
   ],
   "source": [
    "# Two predictors\n",
    "print(lr.intercept_)\n",
    "print(lr.coef_)\n",
    "print(ridge.alpha)"
   ]
  },
  {
   "cell_type": "markdown",
   "metadata": {
    "slideshow": {
     "slide_type": "subslide"
    }
   },
   "source": [
    "## 呼叫 Scikit-Learn 估計器的標準步驟\n",
    "\n",
    "1. 準備特徵矩陣 $X$ 與目標陣列 $y$。\n",
    "2. 切割訓練與驗證資料集。\n",
    "3. 初始化估計器。\n",
    "4. 訓練、配適並檢查規則。\n",
    "5. 在驗證資料集評估。"
   ]
  },
  {
   "cell_type": "markdown",
   "metadata": {
    "slideshow": {
     "slide_type": "subslide"
    }
   },
   "source": [
    "## 預測數值：NBA 球員的體重"
   ]
  },
  {
   "cell_type": "markdown",
   "metadata": {
    "slideshow": {
     "slide_type": "subslide"
    }
   },
   "source": [
    "## 準備特徵矩陣 $X$ 與目標陣列 $y$"
   ]
  },
  {
   "cell_type": "code",
   "execution_count": 16,
   "metadata": {
    "slideshow": {
     "slide_type": "-"
    }
   },
   "outputs": [
    {
     "name": "stdout",
     "output_type": "stream",
     "text": [
      "(503, 3)\n",
      "(503,)\n"
     ]
    }
   ],
   "source": [
    "X = player_stats[['heightMeters', 'apg', 'rpg']].values\n",
    "y = player_stats['weightKilograms'].values\n",
    "print(X.shape)\n",
    "print(y.shape)"
   ]
  },
  {
   "cell_type": "markdown",
   "metadata": {
    "slideshow": {
     "slide_type": "subslide"
    }
   },
   "source": [
    "## 切割訓練與驗證資料集"
   ]
  },
  {
   "cell_type": "code",
   "execution_count": 17,
   "metadata": {},
   "outputs": [
    {
     "name": "stdout",
     "output_type": "stream",
     "text": [
      "(402, 3)\n",
      "(101, 3)\n",
      "(402,)\n",
      "(101,)\n"
     ]
    }
   ],
   "source": [
    "X_train, X_valid, y_train, y_valid = train_test_split(X, y, test_size=0.2, random_state=42)\n",
    "print(X_train.shape)\n",
    "print(X_valid.shape)\n",
    "print(y_train.shape)\n",
    "print(y_valid.shape)"
   ]
  },
  {
   "cell_type": "markdown",
   "metadata": {
    "slideshow": {
     "slide_type": "subslide"
    }
   },
   "source": [
    "## 初始化估計器"
   ]
  },
  {
   "cell_type": "code",
   "execution_count": 18,
   "metadata": {},
   "outputs": [],
   "source": [
    "lr = LinearRegression()\n",
    "ridge = Ridge()"
   ]
  },
  {
   "cell_type": "markdown",
   "metadata": {
    "slideshow": {
     "slide_type": "subslide"
    }
   },
   "source": [
    "## 訓練、配適並檢查規則"
   ]
  },
  {
   "cell_type": "code",
   "execution_count": 19,
   "metadata": {},
   "outputs": [
    {
     "name": "stdout",
     "output_type": "stream",
     "text": [
      "[70.55073073 -1.03712458  1.61454939]\n",
      "[41.71730648 -1.79495279  2.2969704 ]\n"
     ]
    }
   ],
   "source": [
    "lr.fit(X_train, y_train)\n",
    "ridge.fit(X_train, y_train)\n",
    "print(lr.coef_)\n",
    "print(ridge.coef_)"
   ]
  },
  {
   "cell_type": "markdown",
   "metadata": {
    "slideshow": {
     "slide_type": "subslide"
    }
   },
   "source": [
    "## 在驗證資料集評估"
   ]
  },
  {
   "cell_type": "code",
   "execution_count": 20,
   "metadata": {},
   "outputs": [
    {
     "name": "stdout",
     "output_type": "stream",
     "text": [
      "53.63580742285261\n",
      "60.2499055659857\n"
     ]
    }
   ],
   "source": [
    "y_pred = lr.predict(X_valid)\n",
    "print(mean_squared_error(y_valid, y_pred))\n",
    "y_pred = ridge.predict(X_valid)\n",
    "print(mean_squared_error(y_valid, y_pred))"
   ]
  },
  {
   "cell_type": "markdown",
   "metadata": {
    "slideshow": {
     "slide_type": "subslide"
    }
   },
   "source": [
    "## 預測類別：NBA 球員的鋒衛位置"
   ]
  },
  {
   "cell_type": "markdown",
   "metadata": {
    "slideshow": {
     "slide_type": "subslide"
    }
   },
   "source": [
    "## 準備特徵矩陣 $X$ 與目標陣列 $y$"
   ]
  },
  {
   "cell_type": "code",
   "execution_count": 21,
   "metadata": {},
   "outputs": [
    {
     "name": "stdout",
     "output_type": "stream",
     "text": [
      "(503, 3)\n",
      "(503,)\n"
     ]
    }
   ],
   "source": [
    "pos_dict = {\n",
    "    'G': 0,\n",
    "    'F': 1,\n",
    "    'C': 2\n",
    "}\n",
    "pos_recoded = player_stats['pos'].map(lambda x: x[0])\n",
    "pos_recoded_int = pos_recoded.map(pos_dict)\n",
    "X = player_stats[['heightMeters', 'apg', 'rpg']].values\n",
    "y = pos_recoded_int.values\n",
    "print(X.shape)\n",
    "print(y.shape)"
   ]
  },
  {
   "cell_type": "markdown",
   "metadata": {
    "slideshow": {
     "slide_type": "subslide"
    }
   },
   "source": [
    "## 切割訓練與驗證資料集"
   ]
  },
  {
   "cell_type": "code",
   "execution_count": 22,
   "metadata": {},
   "outputs": [
    {
     "name": "stdout",
     "output_type": "stream",
     "text": [
      "(402, 3)\n",
      "(101, 3)\n",
      "(402,)\n",
      "(101,)\n"
     ]
    }
   ],
   "source": [
    "X_train, X_valid, y_train, y_valid = train_test_split(X, y, test_size=0.2, random_state=42)\n",
    "print(X_train.shape)\n",
    "print(X_valid.shape)\n",
    "print(y_train.shape)\n",
    "print(y_valid.shape)"
   ]
  },
  {
   "cell_type": "markdown",
   "metadata": {
    "slideshow": {
     "slide_type": "subslide"
    }
   },
   "source": [
    "## 初始化估計器"
   ]
  },
  {
   "cell_type": "code",
   "execution_count": 23,
   "metadata": {},
   "outputs": [],
   "source": [
    "logreg = LogisticRegression()\n",
    "svc = SVC(kernel='linear', probability=True)"
   ]
  },
  {
   "cell_type": "markdown",
   "metadata": {
    "slideshow": {
     "slide_type": "subslide"
    }
   },
   "source": [
    "## 訓練、配適並檢查規則"
   ]
  },
  {
   "cell_type": "code",
   "execution_count": 24,
   "metadata": {},
   "outputs": [
    {
     "name": "stdout",
     "output_type": "stream",
     "text": [
      "[[-2.79855675  1.44081639 -1.11626655]\n",
      " [ 0.77311683 -0.181357    0.29423135]\n",
      " [ 2.02543992 -1.2594594   0.8220352 ]]\n",
      "[[-3.56870681  1.17220423 -1.02617682]\n",
      " [-2.28        1.07865176 -0.67415719]\n",
      " [-2.06        0.55268973 -0.26909661]]\n"
     ]
    }
   ],
   "source": [
    "logreg.fit(X_train, y_train)\n",
    "svc.fit(X_train, y_train)\n",
    "print(logreg.coef_)\n",
    "print(svc.coef_)"
   ]
  },
  {
   "cell_type": "code",
   "execution_count": 25,
   "metadata": {
    "slideshow": {
     "slide_type": "subslide"
    }
   },
   "outputs": [
    {
     "name": "stdout",
     "output_type": "stream",
     "text": [
      "[[3.28277259e-01 6.11285172e-01 6.04375685e-02]\n",
      " [1.58983789e-01 7.83373574e-01 5.76426368e-02]\n",
      " [9.63152975e-01 3.65027894e-02 3.44235186e-04]\n",
      " [1.11232339e-01 7.84153939e-01 1.04613722e-01]\n",
      " [1.79113159e-01 7.25169360e-01 9.57174807e-02]]\n",
      "[[0.31696488 0.6271961  0.05583902]\n",
      " [0.15383088 0.80514514 0.04102397]\n",
      " [0.96151743 0.03724796 0.0012346 ]\n",
      " [0.10025218 0.8056887  0.09405912]\n",
      " [0.17110019 0.75285219 0.07604762]]\n"
     ]
    }
   ],
   "source": [
    "print(logreg.predict_proba(X_valid)[:5, :])\n",
    "print(svc.predict_proba(X_valid)[:5, :])"
   ]
  },
  {
   "cell_type": "markdown",
   "metadata": {
    "slideshow": {
     "slide_type": "subslide"
    }
   },
   "source": [
    "## 在驗證資料集評估"
   ]
  },
  {
   "cell_type": "code",
   "execution_count": 26,
   "metadata": {},
   "outputs": [
    {
     "name": "stdout",
     "output_type": "stream",
     "text": [
      "0.7524752475247525\n",
      "0.7623762376237624\n"
     ]
    }
   ],
   "source": [
    "y_pred = logreg.predict(X_valid)\n",
    "print(accuracy_score(y_valid, y_pred))\n",
    "y_pred = svc.predict(X_valid)\n",
    "print(accuracy_score(y_valid, y_pred))"
   ]
  },
  {
   "cell_type": "markdown",
   "metadata": {
    "slideshow": {
     "slide_type": "slide"
    }
   },
   "source": [
    "## 延伸到其他機器學習框架"
   ]
  },
  {
   "cell_type": "markdown",
   "metadata": {
    "slideshow": {
     "slide_type": "subslide"
    }
   },
   "source": [
    "## 什麼是機器學習框架？\n",
    "\n",
    "機器學習框架是讓開發者能更快、更簡單地建立與部署機器學習模型的應用程式介面，受歡迎的機器學習框架包括 Scikit-Learn、TensorFlow 與 PyTorch...等。"
   ]
  },
  {
   "cell_type": "markdown",
   "metadata": {
    "slideshow": {
     "slide_type": "subslide"
    }
   },
   "source": [
    "## 如果沒有機器學習框架呢？\n",
    "\n",
    "我們必須自行定義評估器類別。"
   ]
  },
  {
   "cell_type": "markdown",
   "metadata": {
    "slideshow": {
     "slide_type": "subslide"
    }
   },
   "source": [
    "## 以正規方程類別 `NormalEquation` 為例"
   ]
  },
  {
   "cell_type": "markdown",
   "metadata": {},
   "source": [
    "```python\n",
    "class NormalEquation:\n",
    "    \"\"\"\n",
    "    This class defines the Normal equation for linear regression.\n",
    "    Args:\n",
    "        fit_intercept (bool): Whether to add intercept for this model.\n",
    "    \"\"\"\n",
    "    def __init__(self, fit_intercept=True):\n",
    "        self._fit_intercept = fit_intercept\n",
    "```"
   ]
  },
  {
   "cell_type": "markdown",
   "metadata": {
    "slideshow": {
     "slide_type": "subslide"
    }
   },
   "source": [
    "```python\n",
    "    def fit(self, X_train, y_train):\n",
    "        \"\"\"\n",
    "        This function uses Normal equation to solve for weights of this model.\n",
    "        Args:\n",
    "            X_train (ndarray): 2d-array for feature matrix of training data.\n",
    "            y_train (ndarray): 1d-array for target vector of training data.\n",
    "        \"\"\"\n",
    "        self._X_train = X_train.copy()\n",
    "        self._y_train = y_train.copy()\n",
    "        m = self._X_train.shape[0]\n",
    "        if self._fit_intercept:\n",
    "            X0 = np.ones((m, 1), dtype=float)\n",
    "            self._X_train = np.concatenate([X0, self._X_train], axis=1)\n",
    "        X_train_T = np.transpose(self._X_train)\n",
    "        left_matrix = np.dot(X_train_T, self._X_train)\n",
    "        right_matrix = np.dot(X_train_T, self._y_train)\n",
    "        left_matrix_inv = np.linalg.inv(left_matrix)\n",
    "        w = np.dot(left_matrix_inv, right_matrix)\n",
    "        w_ravel = w.ravel().copy()\n",
    "        self._w = w\n",
    "        self.intercept_ = w_ravel[0]\n",
    "        self.coef_ = w_ravel[1:]\n",
    "```"
   ]
  },
  {
   "cell_type": "markdown",
   "metadata": {
    "slideshow": {
     "slide_type": "subslide"
    }
   },
   "source": [
    "```python\n",
    "    def predict(self, X_test):\n",
    "        \"\"\"\n",
    "        This function returns predicted values with weights of this model.\n",
    "        Args:\n",
    "            X_test (ndarray): 2d-array for feature matrix of test data.\n",
    "        \"\"\"\n",
    "        self._X_test = X_test.copy()\n",
    "        m = self._X_test.shape[0]\n",
    "        if self._fit_intercept:\n",
    "            X0 = np.ones((m, 1), dtype=float)\n",
    "            self._X_test = np.concatenate([X0, self._X_test], axis=1)\n",
    "        y_pred = np.dot(self._X_test, self._w)\n",
    "        return y_pred\n",
    "```"
   ]
  },
  {
   "cell_type": "code",
   "execution_count": 27,
   "metadata": {
    "slideshow": {
     "slide_type": "subslide"
    }
   },
   "outputs": [],
   "source": [
    "class NormalEquation:\n",
    "    \"\"\"\n",
    "    This class defines the Normal equation for linear regression.\n",
    "    Args:\n",
    "        fit_intercept (bool): Whether to add intercept for this model.\n",
    "    \"\"\"\n",
    "    def __init__(self, fit_intercept=True):\n",
    "        self._fit_intercept = fit_intercept\n",
    "    def fit(self, X_train, y_train):\n",
    "        \"\"\"\n",
    "        This function uses Normal equation to solve for weights of this model.\n",
    "        Args:\n",
    "            X_train (ndarray): 2d-array for feature matrix of training data.\n",
    "            y_train (ndarray): 1d-array for target vector of training data.\n",
    "        \"\"\"\n",
    "        self._X_train = X_train.copy()\n",
    "        self._y_train = y_train.copy()\n",
    "        m = self._X_train.shape[0]\n",
    "        if self._fit_intercept:\n",
    "            X0 = np.ones((m, 1), dtype=float)\n",
    "            self._X_train = np.concatenate([X0, self._X_train], axis=1)\n",
    "        X_train_T = np.transpose(self._X_train)\n",
    "        left_matrix = np.dot(X_train_T, self._X_train)\n",
    "        right_matrix = np.dot(X_train_T, self._y_train)\n",
    "        left_matrix_inv = np.linalg.inv(left_matrix)\n",
    "        w = np.dot(left_matrix_inv, right_matrix)\n",
    "        w_ravel = w.ravel().copy()\n",
    "        self._w = w\n",
    "        self.intercept_ = w_ravel[0]\n",
    "        self.coef_ = w_ravel[1:]\n",
    "    def predict(self, X_test):\n",
    "        \"\"\"\n",
    "        This function returns predicted values with weights of this model.\n",
    "        Args:\n",
    "            X_test (ndarray): 2d-array for feature matrix of test data.\n",
    "        \"\"\"\n",
    "        self._X_test = X_test.copy()\n",
    "        m = self._X_test.shape[0]\n",
    "        if self._fit_intercept:\n",
    "            X0 = np.ones((m, 1), dtype=float)\n",
    "            self._X_test = np.concatenate([X0, self._X_test], axis=1)\n",
    "        y_pred = np.dot(self._X_test, self._w)\n",
    "        return y_pred"
   ]
  },
  {
   "cell_type": "code",
   "execution_count": 28,
   "metadata": {
    "slideshow": {
     "slide_type": "subslide"
    }
   },
   "outputs": [
    {
     "name": "stdout",
     "output_type": "stream",
     "text": [
      "-46.166884521983775\n",
      "[70.55073073 -1.03712458  1.61454939]\n"
     ]
    }
   ],
   "source": [
    "X = player_stats[['heightMeters', 'apg', 'rpg']].values\n",
    "y = player_stats['weightKilograms'].values\n",
    "X_train, X_valid, y_train, y_valid = train_test_split(X, y, test_size=0.2, random_state=42)\n",
    "ne = NormalEquation()\n",
    "ne.fit(X_train, y_train)\n",
    "print(ne.intercept_)\n",
    "print(ne.coef_)"
   ]
  },
  {
   "cell_type": "markdown",
   "metadata": {
    "slideshow": {
     "slide_type": "subslide"
    }
   },
   "source": [
    "## 因為機器學習框架的存在，讓我們得以在不需要自行定義評估器類別的情況下建立與部署機器學習模型"
   ]
  },
  {
   "cell_type": "markdown",
   "metadata": {
    "slideshow": {
     "slide_type": "subslide"
    }
   },
   "source": [
    "## 機器學習框架分為兩類\n",
    "\n",
    "1. 泛用的機器學習框架：Scikit-Learn、h2O、XGBoost、MLlib...等。\n",
    "2. 專用的神經網路框架：TensorFlow, PyTorch...等。"
   ]
  },
  {
   "cell_type": "markdown",
   "metadata": {
    "slideshow": {
     "slide_type": "subslide"
    }
   },
   "source": [
    "## 我們可以將 Scikit-Learn 的所學延伸到其他機器學習框架"
   ]
  },
  {
   "cell_type": "markdown",
   "metadata": {
    "slideshow": {
     "slide_type": "subslide"
    }
   },
   "source": [
    "## 什麼是 XGBoost？\n",
    "\n",
    "> XGBoost 是一個開源軟體，為 C++、Java、Python、R、和 Julia 提供了一個梯度提升機器學習演算法，由於這個演算法受到許多在機器學習競賽中獲獎團隊的青睞，因而受到了廣泛的歡迎和關注。\n",
    "\n",
    "來源：<https://en.wikipedia.org/wiki/XGBoost>"
   ]
  },
  {
   "cell_type": "markdown",
   "metadata": {
    "slideshow": {
     "slide_type": "subslide"
    }
   },
   "source": [
    "## 以 XGBoost 預測數值：NBA 球員的體重\n",
    "\n",
    "1. 準備特徵矩陣 $X$ 與目標陣列 $y$。\n",
    "2. 切割訓練與驗證資料集。\n",
    "3. 初始化估計器。\n",
    "4. 訓練、配適並檢查規則。\n",
    "5. 在驗證資料集評估。"
   ]
  },
  {
   "cell_type": "markdown",
   "metadata": {
    "slideshow": {
     "slide_type": "subslide"
    }
   },
   "source": [
    "## 準備特徵矩陣 $X$ 與目標陣列 $y$"
   ]
  },
  {
   "cell_type": "code",
   "execution_count": 29,
   "metadata": {},
   "outputs": [],
   "source": [
    "X = player_stats[['heightMeters', 'apg', 'rpg']].values\n",
    "y = player_stats['weightKilograms'].values"
   ]
  },
  {
   "cell_type": "markdown",
   "metadata": {
    "slideshow": {
     "slide_type": "subslide"
    }
   },
   "source": [
    "## 切割訓練與驗證資料集"
   ]
  },
  {
   "cell_type": "code",
   "execution_count": 30,
   "metadata": {},
   "outputs": [
    {
     "name": "stdout",
     "output_type": "stream",
     "text": [
      "(402, 3)\n",
      "(101, 3)\n",
      "(402,)\n",
      "(101,)\n"
     ]
    }
   ],
   "source": [
    "X_train, X_valid, y_train, y_valid = train_test_split(X, y, test_size=0.2, random_state=42)\n",
    "print(X_train.shape)\n",
    "print(X_valid.shape)\n",
    "print(y_train.shape)\n",
    "print(y_valid.shape)"
   ]
  },
  {
   "cell_type": "markdown",
   "metadata": {
    "slideshow": {
     "slide_type": "subslide"
    }
   },
   "source": [
    "## 初始化估計器"
   ]
  },
  {
   "cell_type": "code",
   "execution_count": 31,
   "metadata": {},
   "outputs": [],
   "source": [
    "xgb_r = XGBRegressor()"
   ]
  },
  {
   "cell_type": "markdown",
   "metadata": {
    "slideshow": {
     "slide_type": "subslide"
    }
   },
   "source": [
    "## 訓練、配適並檢查規則"
   ]
  },
  {
   "cell_type": "code",
   "execution_count": 32,
   "metadata": {},
   "outputs": [
    {
     "data": {
      "text/plain": [
       "XGBRegressor(base_score=0.5, booster='gbtree', colsample_bylevel=1,\n",
       "             colsample_bynode=1, colsample_bytree=1, gamma=0, gpu_id=-1,\n",
       "             importance_type='gain', interaction_constraints='',\n",
       "             learning_rate=0.300000012, max_delta_step=0, max_depth=6,\n",
       "             min_child_weight=1, missing=nan, monotone_constraints='()',\n",
       "             n_estimators=100, n_jobs=4, num_parallel_tree=1, random_state=0,\n",
       "             reg_alpha=0, reg_lambda=1, scale_pos_weight=1, subsample=1,\n",
       "             tree_method='exact', validate_parameters=1, verbosity=None)"
      ]
     },
     "execution_count": 32,
     "metadata": {},
     "output_type": "execute_result"
    }
   ],
   "source": [
    "xgb_r.fit(X_train, y_train)"
   ]
  },
  {
   "cell_type": "markdown",
   "metadata": {
    "slideshow": {
     "slide_type": "subslide"
    }
   },
   "source": [
    "## 在驗證資料集評估"
   ]
  },
  {
   "cell_type": "code",
   "execution_count": 33,
   "metadata": {},
   "outputs": [
    {
     "name": "stdout",
     "output_type": "stream",
     "text": [
      "71.92242945541291\n"
     ]
    }
   ],
   "source": [
    "y_pred = xgb_r.predict(X_valid)\n",
    "print(mean_squared_error(y_valid, y_pred))"
   ]
  },
  {
   "cell_type": "markdown",
   "metadata": {
    "slideshow": {
     "slide_type": "subslide"
    }
   },
   "source": [
    "## 以 XGBoost 預測類別：NBA 球員的鋒衛位置\n",
    "\n",
    "1. 準備特徵矩陣 $X$ 與目標陣列 $y$。\n",
    "2. 切割訓練與驗證資料集。\n",
    "3. 初始化估計器。\n",
    "4. 訓練、配適並檢查規則。\n",
    "5. 在驗證資料集評估。"
   ]
  },
  {
   "cell_type": "markdown",
   "metadata": {
    "slideshow": {
     "slide_type": "subslide"
    }
   },
   "source": [
    "## 準備特徵矩陣 $X$ 與目標陣列 $y$"
   ]
  },
  {
   "cell_type": "code",
   "execution_count": 34,
   "metadata": {},
   "outputs": [
    {
     "name": "stdout",
     "output_type": "stream",
     "text": [
      "(503, 3)\n",
      "(503,)\n"
     ]
    }
   ],
   "source": [
    "X = player_stats[['heightMeters', 'apg', 'rpg']].values\n",
    "y = pos_recoded_int.values\n",
    "print(X.shape)\n",
    "print(y.shape)"
   ]
  },
  {
   "cell_type": "markdown",
   "metadata": {
    "slideshow": {
     "slide_type": "subslide"
    }
   },
   "source": [
    "## 切割訓練與驗證資料集"
   ]
  },
  {
   "cell_type": "code",
   "execution_count": 35,
   "metadata": {},
   "outputs": [
    {
     "name": "stdout",
     "output_type": "stream",
     "text": [
      "(402, 3)\n",
      "(101, 3)\n",
      "(402,)\n",
      "(101,)\n"
     ]
    }
   ],
   "source": [
    "X_train, X_valid, y_train, y_valid = train_test_split(X, y, test_size=0.2, random_state=42)\n",
    "print(X_train.shape)\n",
    "print(X_valid.shape)\n",
    "print(y_train.shape)\n",
    "print(y_valid.shape)"
   ]
  },
  {
   "cell_type": "markdown",
   "metadata": {
    "slideshow": {
     "slide_type": "subslide"
    }
   },
   "source": [
    "## 初始化估計器"
   ]
  },
  {
   "cell_type": "code",
   "execution_count": 36,
   "metadata": {},
   "outputs": [],
   "source": [
    "xgb_c = XGBClassifier(use_label_encoder=False, eval_metric='mlogloss')"
   ]
  },
  {
   "cell_type": "markdown",
   "metadata": {
    "slideshow": {
     "slide_type": "subslide"
    }
   },
   "source": [
    "## 訓練、配適並檢查規則"
   ]
  },
  {
   "cell_type": "code",
   "execution_count": 37,
   "metadata": {},
   "outputs": [
    {
     "data": {
      "text/plain": [
       "XGBClassifier(base_score=0.5, booster='gbtree', colsample_bylevel=1,\n",
       "              colsample_bynode=1, colsample_bytree=1, eval_metric='mlogloss',\n",
       "              gamma=0, gpu_id=-1, importance_type='gain',\n",
       "              interaction_constraints='', learning_rate=0.300000012,\n",
       "              max_delta_step=0, max_depth=6, min_child_weight=1, missing=nan,\n",
       "              monotone_constraints='()', n_estimators=100, n_jobs=4,\n",
       "              num_parallel_tree=1, objective='multi:softprob', random_state=0,\n",
       "              reg_alpha=0, reg_lambda=1, scale_pos_weight=None, subsample=1,\n",
       "              tree_method='exact', use_label_encoder=False,\n",
       "              validate_parameters=1, verbosity=None)"
      ]
     },
     "execution_count": 37,
     "metadata": {},
     "output_type": "execute_result"
    }
   ],
   "source": [
    "xgb_c.fit(X_train, y_train)"
   ]
  },
  {
   "cell_type": "markdown",
   "metadata": {
    "slideshow": {
     "slide_type": "subslide"
    }
   },
   "source": [
    "## 在驗證資料集評估"
   ]
  },
  {
   "cell_type": "code",
   "execution_count": 38,
   "metadata": {},
   "outputs": [
    {
     "name": "stdout",
     "output_type": "stream",
     "text": [
      "0.8811881188118812\n"
     ]
    }
   ],
   "source": [
    "y_pred = xgb_c.predict(X_valid)\n",
    "print(accuracy_score(y_valid, y_pred))"
   ]
  }
 ],
 "metadata": {
  "celltoolbar": "Slideshow",
  "kernelspec": {
   "display_name": "Python Data Science",
   "language": "python",
   "name": "pyds"
  },
  "language_info": {
   "codemirror_mode": {
    "name": "ipython",
    "version": 3
   },
   "file_extension": ".py",
   "mimetype": "text/x-python",
   "name": "python",
   "nbconvert_exporter": "python",
   "pygments_lexer": "ipython3",
   "version": "3.8.10"
  }
 },
 "nbformat": 4,
 "nbformat_minor": 4
}
