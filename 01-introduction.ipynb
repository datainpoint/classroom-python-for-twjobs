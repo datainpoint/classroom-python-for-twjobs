{
 "cells": [
  {
   "cell_type": "markdown",
   "id": "rental-listening",
   "metadata": {
    "slideshow": {
     "slide_type": "slide"
    }
   },
   "source": [
    "# 資料分析通識\n",
    "\n",
    "[數據交點](https://www.datainpoint.com) | 郭耀仁 <yaojenkuo@datainpoint.com>"
   ]
  },
  {
   "cell_type": "markdown",
   "id": "catholic-norfolk",
   "metadata": {
    "slideshow": {
     "slide_type": "subslide"
    }
   },
   "source": [
    "## 三個資料分析的重要思維\n",
    "\n",
    "1. **雙城奇謀**，商業與資料導向分析的模糊地帶。\n",
    "2. **泛用迷思**，沒有一體適用所有應用場景的分析框架。\n",
    "3. **山羊過橋**，總有一方要弭平商業與資料導向間的分歧。"
   ]
  },
  {
   "cell_type": "markdown",
   "id": "exceptional-premium",
   "metadata": {
    "slideshow": {
     "slide_type": "slide"
    }
   },
   "source": [
    "## 雙城奇謀\n",
    "\n",
    "![](https://media.giphy.com/media/3oEjHWzZQaCrZW2aWs/giphy.gif)\n",
    "\n",
    "來源：<http://gph.is/1WbH9RY>"
   ]
  },
  {
   "cell_type": "markdown",
   "id": "directed-samuel",
   "metadata": {
    "slideshow": {
     "slide_type": "subslide"
    }
   },
   "source": [
    "## 什麼是分析\n",
    "\n",
    "將某個有興趣的問題拆分為數個小問題，研究小問題與有興趣的問題之間的關係。"
   ]
  },
  {
   "cell_type": "markdown",
   "id": "uniform-ethics",
   "metadata": {
    "slideshow": {
     "slide_type": "subslide"
    }
   },
   "source": [
    "## 平鋪直敘的說法\n",
    "\n",
    "撇除所有華麗的詞彙，「資料分析」是透過以邏輯、事實以及量化為基準來解決問題的方法。"
   ]
  },
  {
   "cell_type": "markdown",
   "id": "acquired-export",
   "metadata": {
    "slideshow": {
     "slide_type": "subslide"
    }
   },
   "source": [
    "## 為什麼要透過資料分析解決問題\n",
    "\n",
    "- 分析是連接問題與行動計畫之間的橋樑。\n",
    "- (商業)問題 -> 資料分析 -> 行動計畫 -> 評估 -> ...重複循環"
   ]
  },
  {
   "cell_type": "markdown",
   "id": "invalid-industry",
   "metadata": {
    "slideshow": {
     "slide_type": "subslide"
    }
   },
   "source": [
    "## 常見的十個（商業）問題\n",
    "\n",
    "- 進入一個新的市場\n",
    "- 產業分析\n",
    "- 併購\n",
    "- 新產品策略\n",
    "- 定價策略\n",
    "\n",
    "來源：<https://www.amazon.com/Case-Point-11-Interview-Preparation/dp/0986370762>"
   ]
  },
  {
   "cell_type": "markdown",
   "id": "configured-artwork",
   "metadata": {
    "slideshow": {
     "slide_type": "subslide"
    }
   },
   "source": [
    "## 常見的十個（商業）問題（續）\n",
    "\n",
    "- 成長策略\n",
    "- 新事業\n",
    "- 競爭策略\n",
    "- 增加利潤\n",
    "    - 提升營業收入\n",
    "    - 減少營業成本\n",
    "- 重組\n",
    "\n",
    "來源：<https://www.amazon.com/Case-Point-11-Interview-Preparation/dp/0986370762>"
   ]
  },
  {
   "cell_type": "markdown",
   "id": "correct-meaning",
   "metadata": {
    "slideshow": {
     "slide_type": "subslide"
    }
   },
   "source": [
    "## 因應而生的分析框架\n",
    "\n",
    "- 增進分析的效率、品質、可靠性與強韌性。\n",
    "- 實踐 DRY(Don’t Repeat Yourself)準則。"
   ]
  },
  {
   "cell_type": "markdown",
   "id": "chemical-pioneer",
   "metadata": {
    "slideshow": {
     "slide_type": "subslide"
    }
   },
   "source": [
    "## 太多的分析框架也是問題所在\n",
    "\n",
    "![](https://media.giphy.com/media/H1KLQt3RT0sHm/giphy.gif)\n",
    "\n",
    "來源：<http://gph.is/18hNtOr>"
   ]
  },
  {
   "cell_type": "markdown",
   "id": "charitable-bailey",
   "metadata": {
    "slideshow": {
     "slide_type": "subslide"
    }
   },
   "source": [
    "## 雙城奇謀：商業導向分析師\n",
    "\n",
    "商業導向分析師偏好的分析框架：\n",
    "\n",
    "- 常春藤系統（3Cs、4Ps、波特五力）。\n",
    "- 企管顧問公司系統（BCG 矩陣、麥肯錫七步驟）。\n",
    "- 損益表分析。\n",
    "- ...等。"
   ]
  },
  {
   "cell_type": "markdown",
   "id": "united-acceptance",
   "metadata": {
    "slideshow": {
     "slide_type": "subslide"
    }
   },
   "source": [
    "## 雙城奇謀：資料導向分析師\n",
    "\n",
    "資料導向分析師偏好的分析框架：\n",
    "\n",
    "- Gartner 分析遞增模型。\n",
    "- 資料科學金字塔需求。\n",
    "- 資料科學專案流程。"
   ]
  },
  {
   "cell_type": "markdown",
   "id": "copyrighted-tourist",
   "metadata": {
    "slideshow": {
     "slide_type": "subslide"
    }
   },
   "source": [
    "## 常春藤系統：3Cs\n",
    "\n",
    "- Customer\n",
    "- Competitor\n",
    "- Company"
   ]
  },
  {
   "cell_type": "markdown",
   "id": "proprietary-channel",
   "metadata": {
    "slideshow": {
     "slide_type": "subslide"
    }
   },
   "source": [
    "## 常春藤系統：4Ps\n",
    "\n",
    "- Product\n",
    "- Price\n",
    "- Place\n",
    "- Promotion"
   ]
  },
  {
   "cell_type": "markdown",
   "id": "specified-faculty",
   "metadata": {
    "slideshow": {
     "slide_type": "subslide"
    }
   },
   "source": [
    "## 企管顧問公司系統：麥肯錫七步驟\n",
    "\n",
    "1. 定義問題。\n",
    "2. 拆解問題。\n",
    "3. 優先排序。\n",
    "4. 議題分析。\n",
    "5. 整合。\n",
    "6. 故事敘述。\n",
    "7. 簡報。\n",
    "\n",
    "...重複循環。"
   ]
  },
  {
   "cell_type": "markdown",
   "id": "eight-snapshot",
   "metadata": {
    "slideshow": {
     "slide_type": "subslide"
    }
   },
   "source": [
    "## Gartner 分析遞增模型\n",
    "\n",
    "![](images/gaam.jpeg)\n",
    "\n",
    "來源：<https://www.gartner.com/en/documents/1964015/best-practices-in-analytics-integrating-analytical-capab>"
   ]
  },
  {
   "cell_type": "markdown",
   "id": "trained-inventory",
   "metadata": {
    "slideshow": {
     "slide_type": "subslide"
    }
   },
   "source": [
    "## 資料科學金字塔需求\n",
    "\n",
    "![](images/ds-hierarchy-needs.png)\n",
    "\n",
    "來源：<https://hackernoon.com/the-ai-hierarchy-of-needs-18f111fcc007>"
   ]
  },
  {
   "cell_type": "markdown",
   "id": "pretty-bristol",
   "metadata": {
    "slideshow": {
     "slide_type": "subslide"
    }
   },
   "source": [
    "## 資料科學專案流程\n",
    "\n",
    "![](images/data-science-project.png)\n",
    "\n",
    "來源：<https://r4ds.had.co.nz/introduction.html>"
   ]
  },
  {
   "cell_type": "markdown",
   "id": "wooden-occasions",
   "metadata": {
    "slideshow": {
     "slide_type": "subslide"
    }
   },
   "source": [
    "## 不同的專注\n",
    "\n",
    "- 商業導向專注在**推論邏輯**。\n",
    "- 資料導向專注在**資訊價值**。"
   ]
  },
  {
   "cell_type": "markdown",
   "id": "fundamental-austria",
   "metadata": {
    "slideshow": {
     "slide_type": "subslide"
    }
   },
   "source": [
    "## 小結：我們從「雙城奇謀」得到什麼？\n",
    "\n",
    "- 當我們談到「分析」的時候，隨著聽眾的背景不同將會產生一定程度的模糊性。\n",
    "- 我們談到了「兩種口味」的分析：商業導向以及資料導向。\n",
    "- 基於兩種導向各自衍生出多樣化的分析框架。"
   ]
  },
  {
   "cell_type": "markdown",
   "id": "expensive-sherman",
   "metadata": {
    "slideshow": {
     "slide_type": "slide"
    }
   },
   "source": [
    "## 泛用迷思\n",
    "\n",
    "![](https://media.giphy.com/media/b7Fq4pVZIsrra/giphy.gif)\n",
    "\n",
    "來源：<http://gph.is/1maf0K9>"
   ]
  },
  {
   "cell_type": "markdown",
   "id": "qualified-evaluation",
   "metadata": {
    "slideshow": {
     "slide_type": "subslide"
    }
   },
   "source": [
    "## 童話故事\n",
    "\n",
    "有一個泛用的分析框架可以套用在所有的專案中。"
   ]
  },
  {
   "cell_type": "markdown",
   "id": "quick-direction",
   "metadata": {
    "slideshow": {
     "slide_type": "subslide"
    }
   },
   "source": [
    "## SCIKIT-LEARN：選擇不同的估算器\n",
    "\n",
    "![](images/sklearn.png)\n",
    "\n",
    "來源：<https://scikit-learn.org/stable/tutorial/machine_learning_map/index.html>"
   ]
  },
  {
   "cell_type": "markdown",
   "id": "dramatic-meeting",
   "metadata": {
    "slideshow": {
     "slide_type": "subslide"
    }
   },
   "source": [
    "## CHESTER ISMAY：統計推論心智圖\n",
    "\n",
    "![](images/inference-mind-map.png)\n",
    "\n",
    "來源：<https://coggle.it/diagram/Vxlydu1akQFeqo6-/t/inference>"
   ]
  },
  {
   "cell_type": "markdown",
   "id": "approved-capture",
   "metadata": {
    "slideshow": {
     "slide_type": "subslide"
    }
   },
   "source": [
    "## 有眾多的估算器與統計推論模型\n",
    "\n",
    "我們沒有自信説「最佳模型」，但是我們可以說明在某些應用場景下，特定模型比其他的模型表現更好。"
   ]
  },
  {
   "cell_type": "markdown",
   "id": "optional-reaction",
   "metadata": {
    "slideshow": {
     "slide_type": "subslide"
    }
   },
   "source": [
    "## 有眾多的框架\n",
    "\n",
    "我們沒有自信說「最佳框架」，但是我們可以說明在某些應用場景下，特定框架比其他的框架更能幫助分析師解決問題。"
   ]
  },
  {
   "cell_type": "markdown",
   "id": "durable-stable",
   "metadata": {
    "slideshow": {
     "slide_type": "subslide"
    }
   },
   "source": [
    "## 泛用的框架\n",
    "\n",
    "- 商業導向框架：麥肯錫七步驟。\n",
    "- 資料導向框架：Gartner 分析遞增模型。"
   ]
  },
  {
   "cell_type": "markdown",
   "id": "unlimited-burning",
   "metadata": {
    "slideshow": {
     "slide_type": "subslide"
    }
   },
   "source": [
    "## 簡化的麥肯錫七步驟\n",
    "\n",
    "1. 定義問題。\n",
    "2. 拆解問題。\n",
    "3. 優先排序。\n",
    "4. ~~議題分析。~~\n",
    "5. 整合。\n",
    "6. ~~故事敘述.~~\n",
    "7. ~~簡報。~~\n",
    "\n",
    "...重複循環。"
   ]
  },
  {
   "cell_type": "markdown",
   "id": "opened-buyer",
   "metadata": {
    "slideshow": {
     "slide_type": "subslide"
    }
   },
   "source": [
    "## 好的「定義問題」\n",
    "\n",
    "- 明確。\n",
    "- 可爭論。\n",
    "- 專注在決策者的行動。"
   ]
  },
  {
   "cell_type": "markdown",
   "id": "excited-presentation",
   "metadata": {
    "slideshow": {
     "slide_type": "subslide"
    }
   },
   "source": [
    "## 輔助定義問題的工作表\n",
    "\n",
    "![](images/problem-statement.png)\n",
    "\n",
    "來源：Google Search"
   ]
  },
  {
   "cell_type": "markdown",
   "id": "sharp-vault",
   "metadata": {
    "slideshow": {
     "slide_type": "subslide"
    }
   },
   "source": [
    "## 好的「拆解問題」\n",
    "\n",
    "- 善用邏輯樹。\n",
    "    - 議題樹。\n",
    "    - 假說推論樹。\n",
    "- 互斥周延法則（MECE）。"
   ]
  },
  {
   "cell_type": "markdown",
   "id": "ranking-framing",
   "metadata": {
    "slideshow": {
     "slide_type": "subslide"
    }
   },
   "source": [
    "## 議題樹：前向推理\n",
    "\n",
    "- 如何存更多錢？\n",
    "    - 增加收入。\n",
    "        - 更多的營業收入。\n",
    "            - 升遷。\n",
    "            - 跳槽。\n",
    "            - 業績獎金。\n",
    "            - 加班費。\n",
    "        - 更多的投資收入。\n",
    "            - **調整投資組合**。\n",
    "    - 縮減支出。\n",
    "        - 買即期品。\n",
    "        - 買快時尚。\n",
    "        - 現金回饋計畫。"
   ]
  },
  {
   "cell_type": "markdown",
   "id": "saving-trick",
   "metadata": {
    "slideshow": {
     "slide_type": "subslide"
    }
   },
   "source": [
    "## 假說推論樹：後向推理\n",
    "\n",
    "- 透過調整投資組合存更多錢。\n",
    "    - 沒有業績獎金與加班費。\n",
    "    - 短期沒有升遷或跳槽規劃。\n",
    "    - 不想改變消費習慣。\n",
    "    - 投資過於保守，沒有槓桿。\n",
    "    - 沒有空頭部位，無法在熊市賺錢。"
   ]
  },
  {
   "cell_type": "markdown",
   "id": "disabled-entrepreneur",
   "metadata": {
    "slideshow": {
     "slide_type": "subslide"
    }
   },
   "source": [
    "## 「拆解問題」的秘訣\n",
    "\n",
    "> There is only one way to eat an elephant: a bite at a time.\n",
    ">\n",
    "> [Desmond Tutu](https://en.wikipedia.org/wiki/Desmond_Tutu)"
   ]
  },
  {
   "cell_type": "markdown",
   "id": "intermediate-harmony",
   "metadata": {
    "slideshow": {
     "slide_type": "subslide"
    }
   },
   "source": [
    "## 好的「優先排序」\n",
    "\n",
    "同時將財務效果與方案可行性納入考量。"
   ]
  },
  {
   "cell_type": "markdown",
   "id": "absent-filter",
   "metadata": {
    "slideshow": {
     "slide_type": "subslide"
    }
   },
   "source": [
    "## 建立一個「效果-可行性」矩陣\n",
    "\n",
    "![](images/prioritization.png)\n",
    "\n",
    "來源：[Ten red flags signaling your analytics program will fail](https://www.mckinsey.com/business-functions/mckinsey-analytics/our-insights/ten-red-flags-signaling-your-analytics-program-will-fail)"
   ]
  },
  {
   "cell_type": "markdown",
   "id": "dressed-munich",
   "metadata": {
    "slideshow": {
     "slide_type": "subslide"
    }
   },
   "source": [
    "## 好的「整合」\n",
    "\n",
    "- 連結假說與邏輯。\n",
    "- 標註必要資訊。\n",
    "- 標註責任與時程。"
   ]
  },
  {
   "cell_type": "markdown",
   "id": "immune-panic",
   "metadata": {
    "slideshow": {
     "slide_type": "subslide"
    }
   },
   "source": [
    "## Gartner 分析遞增模型\n",
    "\n",
    "![](images/gaam.jpeg)\n",
    "\n",
    "來源：<https://www.gartner.com/en/documents/1964015/best-practices-in-analytics-integrating-analytical-capab>"
   ]
  },
  {
   "cell_type": "markdown",
   "id": "fossil-kingston",
   "metadata": {
    "slideshow": {
     "slide_type": "subslide"
    }
   },
   "source": [
    "## 定義：敘述型分析\n",
    "\n",
    "用來回答「發生了什麼事件？」的分析型態，利用商業智能（Business Intelligence）軟體、視覺化、圖表與描述等手法回答。"
   ]
  },
  {
   "cell_type": "markdown",
   "id": "residential-midnight",
   "metadata": {
    "slideshow": {
     "slide_type": "subslide"
    }
   },
   "source": [
    "## 定義：診斷型分析\n",
    "\n",
    "用來回答「為何會發生這樣的事件？」的分析型態，利用組成下鑽、探索性分析、資料探勘與相關性分析等手法回答。"
   ]
  },
  {
   "cell_type": "markdown",
   "id": "daily-authority",
   "metadata": {
    "slideshow": {
     "slide_type": "subslide"
    }
   },
   "source": [
    "## 定義：預測型分析\n",
    "\n",
    "用來回答「如何預測何時會發生這樣的事件？」的分析型態，利用時間序列分析、機器學習與神經網路等手法回答。"
   ]
  },
  {
   "cell_type": "markdown",
   "id": "smooth-latitude",
   "metadata": {
    "slideshow": {
     "slide_type": "subslide"
    }
   },
   "source": [
    "## 定義：處方型分析\n",
    "\n",
    "用來回答「如何讓事件發生？」的分析型態，利用時間序列分析、機器學習與神經網路搭配模擬與實驗等手法回答。"
   ]
  },
  {
   "cell_type": "markdown",
   "id": "cathedral-tonight",
   "metadata": {
    "slideshow": {
     "slide_type": "subslide"
    }
   },
   "source": [
    "## Gartner 分析遞增模型的優點\n",
    "\n",
    "- 與傳統的 **5W2H** 記者報導框架相似，容易理解。\n",
    "- 直觀的概念，先學會爬、再學會走、最後是跑。"
   ]
  },
  {
   "cell_type": "markdown",
   "id": "spatial-subscriber",
   "metadata": {
    "slideshow": {
     "slide_type": "subslide"
    }
   },
   "source": [
    "## Gartner 分析遞增模型的缺點\n",
    "\n",
    "- 「遞增」隱喻了導入的優先順序。\n",
    "- 兩軸「價值」與「難度」容易有誤導的嫌疑。\n",
    "- 更高層級的分析並不能保證帶來更高價值。"
   ]
  },
  {
   "cell_type": "markdown",
   "id": "polar-archive",
   "metadata": {
    "slideshow": {
     "slide_type": "subslide"
    }
   },
   "source": [
    "## 小結：我們從「泛用迷思」得到什麼？\n",
    "\n",
    "- 沒有一體適用的分析框架，但在某些應用場景中也許有較為泛用的選擇。\n",
    "- 更暸解麥肯錫七步驟與 Gartner 分析遞增模型。"
   ]
  },
  {
   "cell_type": "markdown",
   "id": "protective-reynolds",
   "metadata": {
    "slideshow": {
     "slide_type": "slide"
    }
   },
   "source": [
    "## 山羊過橋\n",
    "\n",
    "![](https://media.giphy.com/media/26h0pkvcgnFIpvU1a/giphy.gif)\n",
    "\n",
    "來源：<http://gph.is/1NTV4c8>"
   ]
  },
  {
   "cell_type": "markdown",
   "id": "boring-joshua",
   "metadata": {
    "slideshow": {
     "slide_type": "subslide"
    }
   },
   "source": [
    "## 行動方案\n",
    "\n",
    "我們現在已經清楚暸解關於商業與資料導向分析師的分歧，是時候將分歧弭平了。"
   ]
  },
  {
   "cell_type": "markdown",
   "id": "opening-input",
   "metadata": {
    "slideshow": {
     "slide_type": "subslide"
    }
   },
   "source": [
    "## 哪個比較困難？\n",
    "\n",
    "- 商業導向的分析師理解資料科學。\n",
    "- 資料導向的分析師理解商業問題。"
   ]
  },
  {
   "cell_type": "markdown",
   "id": "outstanding-prayer",
   "metadata": {
    "slideshow": {
     "slide_type": "subslide"
    }
   },
   "source": [
    "## 常見的資料科學文氏圖\n",
    "\n",
    "![](images/ds-vd.png)\n",
    "\n",
    "來源：<http://drewconway.com/zia/2013/3/26/the-data-science-venn-diagram>"
   ]
  },
  {
   "cell_type": "markdown",
   "id": "intimate-fitting",
   "metadata": {
    "slideshow": {
     "slide_type": "subslide"
    }
   },
   "source": [
    "## 從較為泛用的框架中去蕪存菁\n",
    "\n",
    "- 簡化的麥肯錫七步驟。\n",
    "- Gartner 分析遞增模型中的優點。"
   ]
  },
  {
   "cell_type": "markdown",
   "id": "constitutional-charter",
   "metadata": {
    "slideshow": {
     "slide_type": "subslide"
    }
   },
   "source": [
    "## 混成分析框架\n",
    "\n",
    "- 「商業導向」的分析框架。\n",
    "- 「資料導向」的分析框架。"
   ]
  },
  {
   "cell_type": "markdown",
   "id": "social-circle",
   "metadata": {
    "slideshow": {
     "slide_type": "subslide"
    }
   },
   "source": [
    "## BE WATER MY FRIEND\n",
    "\n",
    "> Be formless, shapeless, like water.\n",
    "\n",
    "來源：<https://youtu.be/uk1lzkH-e4U?t=945>"
   ]
  },
  {
   "cell_type": "markdown",
   "id": "junior-candy",
   "metadata": {
    "slideshow": {
     "slide_type": "subslide"
    }
   },
   "source": [
    "## 混成分析框架：如何橋接商業問題與行動方案\n",
    "\n",
    "1. 定義問題。\n",
    "2. 拆解問題。\n",
    "3. 建立假說。\n",
    "4. 優先排序。\n",
    "5. Gartner 分析遞增模型。\n",
    "6. 整合。\n",
    "7. 溝通。\n",
    "\n",
    "...重複循環。"
   ]
  },
  {
   "cell_type": "markdown",
   "id": "rapid-gilbert",
   "metadata": {
    "slideshow": {
     "slide_type": "subslide"
    }
   },
   "source": [
    "## 畫得不那麼漂亮的混成分析框架示意\n",
    "\n",
    "![](images/hybrid-framework.png)"
   ]
  },
  {
   "cell_type": "markdown",
   "id": "defensive-external",
   "metadata": {
    "slideshow": {
     "slide_type": "subslide"
    }
   },
   "source": [
    "## 好的「商業資料分析師」\n",
    "\n",
    "- 對於技術有飢渴感（tech-savvy）。\n",
    "- 對於商業有熱情。"
   ]
  },
  {
   "cell_type": "markdown",
   "id": "starting-dining",
   "metadata": {
    "slideshow": {
     "slide_type": "subslide"
    }
   },
   "source": [
    "## 由資料導向的分析師跨出弭平分歧的那一步\n",
    "\n",
    "- 在「定義問題」環節投注更多的努力。\n",
    "- 學習「優先排序」以及「整合」的軟實力（從專案經理身上學！）。\n",
    "- 在「溝通」環節投注更多的努力。"
   ]
  },
  {
   "cell_type": "markdown",
   "id": "aerial-philippines",
   "metadata": {
    "slideshow": {
     "slide_type": "subslide"
    }
   },
   "source": [
    "## 如何在「定義問題」環節投注更多的努力\n",
    "\n",
    "- 辨識利益關係人：決策者、關係人以及自身。\n",
    "- 把利益關係人當作合作夥伴，先不要有太大的防衛心。\n",
    "- 經營出熱情、客觀與溝通無礙的關係。"
   ]
  },
  {
   "cell_type": "markdown",
   "id": "worst-liberty",
   "metadata": {
    "slideshow": {
     "slide_type": "subslide"
    }
   },
   "source": [
    "## YOU HAVE GOT TO LISTEN\n",
    "\n",
    "![](https://media.giphy.com/media/YSxABIzfohDMAelq41/giphy.gif)\n",
    "\n",
    "來源：<https://gph.is/g/EGyoXQ3>"
   ]
  },
  {
   "cell_type": "markdown",
   "id": "satisfactory-patrick",
   "metadata": {
    "slideshow": {
     "slide_type": "subslide"
    }
   },
   "source": [
    "## 學習「優先排序」以及「整合」的軟實力\n",
    "\n",
    "- 避免犯下常見的資料謬論。\n",
    "- 從「混淆矩陣」向「成本效益矩陣」邁進。\n",
    "- 80/20 法則。\n",
    "- 有效的行動方案要納入責任歸屬、時程與明確步驟。"
   ]
  },
  {
   "cell_type": "markdown",
   "id": "demanding-democrat",
   "metadata": {
    "slideshow": {
     "slide_type": "subslide"
    }
   },
   "source": [
    "## 避免犯下常見的資料謬論\n",
    "\n",
    "![](images/data-fallacies-to-avoid.png)\n",
    "\n",
    "來源：<https://www.geckoboard.com/best-practice/statistical-fallacies/>"
   ]
  },
  {
   "cell_type": "markdown",
   "id": "generous-sport",
   "metadata": {
    "slideshow": {
     "slide_type": "subslide"
    }
   },
   "source": [
    "## 成本效益矩陣\n",
    "\n",
    "\n",
    "![](images/cost-benefit-matrix.png)\n",
    "\n",
    "來源：<https://www.amazon.com/Data-Science-Business-Data-Analytic-Thinking/dp/1449361323>"
   ]
  },
  {
   "cell_type": "markdown",
   "id": "korean-arrow",
   "metadata": {
    "slideshow": {
     "slide_type": "subslide"
    }
   },
   "source": [
    "## 在「溝通」環節投注更多的努力\n",
    "\n",
    "- 試著將「邏輯」保留到最後一招。\n",
    "- 不要只給溝通對象（客戶）一個選項。"
   ]
  },
  {
   "cell_type": "markdown",
   "id": "foreign-representative",
   "metadata": {
    "slideshow": {
     "slide_type": "subslide"
    }
   },
   "source": [
    "## 說服的藝術：亞里士多德框架\n",
    "\n",
    "- Pathos\n",
    "- Ethos\n",
    "- Logos"
   ]
  },
  {
   "cell_type": "markdown",
   "id": "experienced-community",
   "metadata": {
    "slideshow": {
     "slide_type": "subslide"
    }
   },
   "source": [
    "## 小結：我們從「山羊過橋」得到什麼？\n",
    "\n",
    "- 由好的資料分析師邁出弭平分歧的那一步。\n",
    "- 好的分析師應該加強哪些能力來弭平分歧。\n",
    "- 應用混成框架。"
   ]
  }
 ],
 "metadata": {
  "celltoolbar": "Slideshow",
  "kernelspec": {
   "display_name": "Python 3",
   "language": "python",
   "name": "python3"
  },
  "language_info": {
   "codemirror_mode": {
    "name": "ipython",
    "version": 3
   },
   "file_extension": ".py",
   "mimetype": "text/x-python",
   "name": "python",
   "nbconvert_exporter": "python",
   "pygments_lexer": "ipython3",
   "version": "3.8.5"
  }
 },
 "nbformat": 4,
 "nbformat_minor": 5
}
